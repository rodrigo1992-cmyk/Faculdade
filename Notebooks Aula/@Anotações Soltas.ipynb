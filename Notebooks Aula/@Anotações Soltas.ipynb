{
 "cells": [
  {
   "cell_type": "code",
   "execution_count": null,
   "metadata": {},
   "outputs": [],
   "source": [
    "df = load_iris()\n",
    "X = df.data\n",
    "Y = df.target\n",
    "\n",
    "treinar_kmeans(X,Y)"
   ]
  },
  {
   "cell_type": "code",
   "execution_count": null,
   "metadata": {},
   "outputs": [],
   "source": [
    "X_New = criar_feature(X, K=3)"
   ]
  },
  {
   "cell_type": "code",
   "execution_count": null,
   "metadata": {},
   "outputs": [],
   "source": [
    "param_grid = {'kernel': ['linear', 'rbf', 'sigmoid'], 'C': [0.001, 0.01, 0.1, 1, 10, 100], 'decision_function_shape':['ovo']}\n",
    "model1, y_test1, y_pred1, model2, y_test2, y_pred2 = treinar_modelo(X, X_New, Y, 0.30, SVC(), param_grid, 5)"
   ]
  },
  {
   "cell_type": "code",
   "execution_count": null,
   "metadata": {},
   "outputs": [],
   "source": [
    "plotar_metricas(model1, y_test1, y_pred1, model2, y_test2, y_pred2)"
   ]
  },
  {
   "cell_type": "code",
   "execution_count": null,
   "metadata": {},
   "outputs": [],
   "source": [
    "plotar_matriz(model1, y_test1, y_pred1, model2, y_test2,y_pred2,W=4,H=4)"
   ]
  },
  {
   "cell_type": "code",
   "execution_count": null,
   "metadata": {},
   "outputs": [],
   "source": [
    "param_grid = {\n",
    "    'n_estimators': [100],\n",
    "    'max_depth': [3, 5, 10, 15],\n",
    "    'max_features': ['sqrt'],\n",
    "    'criterion': ['gini', 'entropy'],\n",
    "    'min_samples_split': [5, 10, 20],\n",
    "    'min_samples_leaf': [2, 5, 10],\n",
    "    'bootstrap': [True]\n",
    "}\n",
    "\n",
    "model1, y_test1, y_pred1, model2, y_test2, y_pred2 = treinar_modelo(X, X_New, Y, 0.30, RandomForestClassifier(), param_grid, 5)"
   ]
  },
  {
   "cell_type": "code",
   "execution_count": null,
   "metadata": {},
   "outputs": [],
   "source": [
    "plotar_metricas(model1, y_test1, y_pred1, model2, y_test2, y_pred2)"
   ]
  },
  {
   "cell_type": "code",
   "execution_count": null,
   "metadata": {},
   "outputs": [],
   "source": [
    "plotar_matriz(model1, y_test1, y_pred1, model2, y_test2,y_pred2,W=4,H=4)"
   ]
  }
 ],
 "metadata": {
  "language_info": {
   "name": "python"
  }
 },
 "nbformat": 4,
 "nbformat_minor": 2
}
