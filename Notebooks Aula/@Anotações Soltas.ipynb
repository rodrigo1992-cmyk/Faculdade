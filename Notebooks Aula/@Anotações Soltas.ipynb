{
 "cells": [
  {
   "cell_type": "code",
   "execution_count": null,
   "metadata": {},
   "outputs": [],
   "source": [
    "df = load_digits()\n",
    "X = df.data\n",
    "Y = df.target\n",
    "\n",
    "x_train, x_test, y_train, y_test = treinar_kmeans(X,Y, 0.3)"
   ]
  },
  {
   "cell_type": "code",
   "execution_count": null,
   "metadata": {},
   "outputs": [],
   "source": [
    "x_train_new, x_test_new = criar_feature(x_train, x_test, K=8)"
   ]
  },
  {
   "cell_type": "code",
   "execution_count": null,
   "metadata": {},
   "outputs": [],
   "source": [
    "param_grid = {'kernel': ['linear', 'rbf', 'sigmoid'], 'C': [ 1, 2, 3, 4, 5, 10, 15], 'decision_function_shape':['ovo']}\n",
    "model1, y_pred1, model2, y_pred2 = treinar_modelo(x_train, x_train_new, x_test, x_test_new, y_train, SVC(), param_grid, 5)\n",
    "\n",
    "plotar_metricas(model1, y_pred1, model2, y_pred2, y_test, W=6, H=6)"
   ]
  },
  {
   "cell_type": "code",
   "execution_count": null,
   "metadata": {},
   "outputs": [],
   "source": [
    "param_grid = {\n",
    "    'n_estimators': [100],\n",
    "    'max_depth': [3, 5, 10, 15],\n",
    "    'max_features': ['sqrt'],\n",
    "    'criterion': ['gini', 'entropy'],\n",
    "    'min_samples_split': [5, 10, 20],\n",
    "    'min_samples_leaf': [2, 5, 10],\n",
    "    'bootstrap': [True]\n",
    "}\n",
    "\n",
    "model1, y_pred1, model2, y_pred2 = treinar_modelo(x_train, x_train_new, x_test, x_test_new, y_train, RandomForestClassifier(), param_grid, 5)\n",
    "\n",
    "plotar_metricas(model1, y_pred1, model2, y_pred2, y_test, W=6, H=6)"
   ]
  }
 ],
 "metadata": {
  "language_info": {
   "name": "python"
  }
 },
 "nbformat": 4,
 "nbformat_minor": 2
}
