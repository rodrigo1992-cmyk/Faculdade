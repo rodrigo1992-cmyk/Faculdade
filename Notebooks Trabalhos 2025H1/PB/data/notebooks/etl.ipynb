{
 "cells": [
  {
   "cell_type": "code",
   "execution_count": 10,
   "id": "20063e46-07b2-4b9a-a176-924868230668",
   "metadata": {},
   "outputs": [],
   "source": [
    "import os\n",
    "import requests\n",
    "import pyspark.sql.functions as F\n",
    "\n",
    "from pyspark.sql import SparkSession\n",
    "from tqdm.auto import tqdm\n",
    "from pyspark.sql.types import StructType, StructField, StringType, IntegerType "
   ]
  },
  {
   "cell_type": "code",
   "execution_count": 11,
   "id": "52a195d9-ef68-4fa0-b8b8-82014c02b756",
   "metadata": {},
   "outputs": [],
   "source": [
    "from minio import Minio\n",
    "from minio.error import S3Error"
   ]
  },
  {
   "cell_type": "markdown",
   "id": "55f6690e-9d8c-417c-b9e0-a70234c8624c",
   "metadata": {},
   "source": [
    "# CONSTANTES"
   ]
  },
  {
   "cell_type": "code",
   "execution_count": 12,
   "id": "296b9824-ec7e-4037-9e2d-c096d11365f8",
   "metadata": {},
   "outputs": [],
   "source": [
    "minio_endpoint = 'minio:9000'\n",
    "minio_user = os.environ['MINIO_ROOT_USER']\n",
    "minio_password = os.environ['MINIO_ROOT_PASSWORD']\n",
    "buckets = ['bronze', 'silver', 'gold']"
   ]
  },
  {
   "cell_type": "markdown",
   "id": "5f89e70e-3ffd-4538-a573-3bd626857c80",
   "metadata": {},
   "source": [
    "# CRIAR BUCKETS"
   ]
  },
  {
   "cell_type": "code",
   "execution_count": 13,
   "id": "a17938e7-e49e-4144-b603-1c66b39cad49",
   "metadata": {},
   "outputs": [
    {
     "name": "stdout",
     "output_type": "stream",
     "text": [
      "Bucket bronze already exists!\n",
      "Bucket silver already exists!\n",
      "Bucket gold already exists!\n"
     ]
    }
   ],
   "source": [
    "minio_client = Minio(\n",
    "    minio_endpoint,\n",
    "    access_key=minio_user,\n",
    "    secret_key=minio_password,\n",
    "    secure=False,\n",
    ")\n",
    "\n",
    "for bucket in buckets:\n",
    "    if not minio_client.bucket_exists(bucket):\n",
    "        minio_client.make_bucket(bucket)\n",
    "        print(f'Make bucket {bucket}!')\n",
    "    else:\n",
    "        print(f'Bucket {bucket} already exists!')"
   ]
  },
  {
   "cell_type": "markdown",
   "id": "f6a3d57a-0d85-4337-9c5d-cce24fe6b108",
   "metadata": {},
   "source": [
    "# INICIAR SESSÃO SPARK"
   ]
  },
  {
   "cell_type": "code",
   "execution_count": null,
   "id": "8761852e-6cbd-42da-8112-4ce91d56eaa0",
   "metadata": {},
   "outputs": [],
   "source": [
    "spark = (\n",
    "    SparkSession\n",
    "        .builder\n",
    "        .master(\"spark://spark:7077\")\n",
    "        .appName('MinIO')\n",
    "        .config('spark.hadoop.fs.s3a.endpoint', minio_endpoint)\n",
    "        .config('spark.hadoop.fs.s3a.access.key', minio_user)\n",
    "        .config('spark.hadoop.fs.s3a.secret.key', minio_password)\n",
    "        .config('spark.hadoop.fs.s3a.path.style.access', 'true')\n",
    "        .config('spark.hadoop.fs.s3a.connection.ssl.enabled', 'false')\n",
    "        .config('spark.hadoop.fs.s3a.impl', 'org.apache.hadoop.fs.s3a.S3AFileSystem')\n",
    "        .config('spark.jars.packages', 'com.amazonaws:aws-java-sdk-bundle:1.12.262,org.apache.hadoop:hadoop-aws:3.3.4')\n",
    "        .getOrCreate()\n",
    ")"
   ]
  },
  {
   "cell_type": "code",
   "execution_count": null,
   "id": "3c488456-ca3d-4a9e-8c00-711170db94a1",
   "metadata": {},
   "outputs": [],
   "source": [
    "import json\n",
    "\n",
    "for index, row in grouped.iterrows():\n",
    "    if index > 5:  #LIMITANDO A QUANTIDADE DE ITERAÇÕES\n",
    "        break\n",
    "        \n",
    "    order_id = row['order_id']\n",
    "    item = row['items']\n",
    "    \n",
    "    json_data = {\n",
    "        'order_id': order_id,\n",
    "        'payment_type': df_pay.loc[df_pay['order_id'] == order_id, 'payment_type'].values[0],\n",
    "        'payment_value': float(df_pay.loc[df_pay['order_id'] == order_id, 'payment_value'].values[0]),\n",
    "        'seller_id': df_pay.loc[df_pay['order_id'] == order_id, 'seller_id'].values[0],\n",
    "        'items': item\n",
    "    }\n",
    "    \n",
    "    with open(f'C:\\\\Users\\\\RodrigoPintoMesquita\\\\Documents\\\\GitHub\\\\Faculdade\\\\Notebooks Trabalhos 2025H1\\\\PB\\\\data\\\\land\\\\{order_id}.json', 'w') as json_file:\n",
    "        json.dump(json_data, json_file, indent=4)"
   ]
  },
  {
   "cell_type": "markdown",
   "id": "75c37e32-9ce3-4e70-9e28-dc6c5f50dfe2",
   "metadata": {},
   "source": [
    "# GRAVANDO NA CAMADA BRONZE"
   ]
  },
  {
   "cell_type": "code",
   "execution_count": 133,
   "id": "8fcdbd0c-56bc-45f4-b111-bca16bd4bec8",
   "metadata": {},
   "outputs": [
    {
     "name": "stderr",
     "output_type": "stream",
     "text": [
      "                                                                                "
     ]
    }
   ],
   "source": [
    "import os\n",
    "from pyspark.sql.types import StructType, StructField, StringType, IntegerType, FloatType, ArrayType\n",
    "\n",
    "files = os.listdir(folder)\n",
    "\n",
    "import os\n",
    "from pyspark.sql.types import StructType, StructField, StringType, IntegerType, FloatType, ArrayType\n",
    "\n",
    "file = 'categories.csv'\n",
    "\n",
    "categories_schema = StructType([\n",
    "    StructField('product_id', StringType(), True),\n",
    "    StructField('product_category_name', StringType(), True)\n",
    "])\n",
    "\n",
    "df = spark.read.csv(file, schema=categories_schema, header=True)\n",
    "df.coalesce(1).write.mode('overwrite').parquet(f's3a://bronze/categories.parquet')"
   ]
  },
  {
   "cell_type": "code",
   "execution_count": 162,
   "id": "95a862be-bdee-47d0-8fe5-6527b82d2f2a",
   "metadata": {},
   "outputs": [
    {
     "name": "stderr",
     "output_type": "stream",
     "text": [
      "25/05/31 17:03:40 WARN DataSource: All paths were ignored:\n",
      "  file:/work/notebooks/land/.ipynb_checkpoints\n",
      "                                                                                "
     ]
    }
   ],
   "source": [
    "import os\n",
    "from pyspark.sql.types import StructType, StructField, StringType, IntegerType, FloatType, ArrayType\n",
    "\n",
    "folder = 'land/'\n",
    "files = os.listdir(folder)\n",
    "\n",
    "item_schema = StructType([\n",
    "    StructField(\"order_id\", StringType(), True),\n",
    "    StructField(\"order_item_id\", IntegerType(), True),\n",
    "    StructField(\"product_id\", StringType(), True),\n",
    "    StructField(\"seller_id\", StringType(), True),\n",
    "    StructField(\"shipping_limit_date\", StringType(), True),\n",
    "    StructField(\"price\", FloatType(), True),\n",
    "    StructField(\"freight_value\", FloatType(), True)\n",
    "])\n",
    "\n",
    "orders_schema = StructType([\n",
    "    StructField(\"order_id\", StringType(), True),\n",
    "    StructField(\"order_purchase_timestamp\", StringType(), True),\n",
    "    StructField(\"customer_id\", StringType(), True),\n",
    "    StructField(\"payment_type\", StringType(), True),\n",
    "    StructField(\"payment_value\", FloatType(), True),\n",
    "    StructField(\"items\", ArrayType(item_schema), True) \n",
    "])\n",
    "\n",
    "\n",
    "for file in files:\n",
    "    name = file.replace(\".json\", \"\")\n",
    "    df = spark.read.json(f'{folder}{file}', schema=orders_schema, multiLine=True)\n",
    "    df.coalesce(1).write.mode('overwrite').parquet(f's3a://bronze/vendas/{name}.parquet')"
   ]
  },
  {
   "cell_type": "markdown",
   "id": "14bed6bc-d784-41e5-9c8f-c5398107bbdc",
   "metadata": {},
   "source": [
    "# GRAVANDO NA CAMADA PRATA"
   ]
  },
  {
   "cell_type": "code",
   "execution_count": null,
   "id": "2b6486e7-a56c-4844-8d0e-d640bc09e856",
   "metadata": {},
   "outputs": [],
   "source": [
    "%pip install boto3"
   ]
  },
  {
   "cell_type": "code",
   "execution_count": 168,
   "id": "f9a81086-868a-45fb-bd8c-0dbeb68e4efc",
   "metadata": {},
   "outputs": [
    {
     "data": {
      "text/plain": [
       "['00143d0f86d6fbd9f9b38ab440ac16f5.parquet',\n",
       " '47770eb9100c2d0c44946d9cf07ec65d.parquet',\n",
       " '53cdb2fc8bc7dce0b6741e2150273451.parquet',\n",
       " '949d5b44dbf5de918fe9c16f97b45f8a.parquet',\n",
       " 'e481f51cbdc54678b7cc49136f2d6af7.parquet']"
      ]
     },
     "execution_count": 168,
     "metadata": {},
     "output_type": "execute_result"
    }
   ],
   "source": [
    "import boto3\n",
    "import os\n",
    "\n",
    "s3 = boto3.client(\n",
    "    's3',\n",
    "    endpoint_url=f'http://{minio_endpoint}',\n",
    "    aws_access_key_id=minio_user,\n",
    "    aws_secret_access_key=minio_password\n",
    ")\n",
    "\n",
    "prefix = 'vendas/'  \n",
    "response = s3.list_objects_v2(\n",
    "    Bucket='bronze',\n",
    "    Prefix=prefix,\n",
    "    Delimiter='/'\n",
    ")\n",
    "\n",
    "pastas = [\n",
    "    cp['Prefix']\n",
    "    for cp in response.get('CommonPrefixes', [])\n",
    "    if '.ipynb_checkpoints' not in cp['Prefix']\n",
    "]\n",
    "\n",
    "parquets = []\n",
    "\n",
    "for pasta in pastas:\n",
    "    parquets.append(pasta[len(prefix):].rstrip('/'))\n",
    "\n",
    "parquets"
   ]
  },
  {
   "cell_type": "code",
   "execution_count": 213,
   "id": "60c3edfe-dd1b-4112-8a46-d37ebf996ee8",
   "metadata": {},
   "outputs": [
    {
     "name": "stderr",
     "output_type": "stream",
     "text": [
      "                                                                                "
     ]
    }
   ],
   "source": [
    "folder = 's3a://bronze/'\n",
    "folder_vendas = f'{folder}vendas/'\n",
    "\n",
    "df_categories = spark.read.parquet(f'{folder}categories.parquet', schema=orders_schema)\n",
    "\n",
    "for file in parquets:\n",
    "    df = spark.read.parquet(f'{folder_vendas}{file}', schema=categories_schema)\n",
    "\n",
    "    # Parseando o campo timestamp\n",
    "    df = df.withColumn('year', F.year(F.to_timestamp(df['order_purchase_timestamp'], 'yyyy-MM-dd HH:mm:ss')))\n",
    "    df = df.withColumn('month', F.month(F.to_timestamp(df['order_purchase_timestamp'], 'yyyy-MM-dd HH:mm:ss')))\n",
    "    df = df.withColumn('day', F.dayofmonth(F.to_timestamp(df['order_purchase_timestamp'], 'yyyy-MM-dd HH:mm:ss')))\n",
    "    df = df.withColumn('hour', F.hour(F.to_timestamp(df['order_purchase_timestamp'], 'yyyy-MM-dd HH:mm:ss')))\n",
    "\n",
    "    # CRIANDO O OBJETO VENDAS_TRANSACAO\n",
    "    df_trans = df[['order_id', 'order_purchase_timestamp', 'customer_id', 'payment_type', 'payment_value', 'year', 'month', 'day', 'hour']]\n",
    "    df_trans = df_trans.dropDuplicates()\n",
    "\n",
    "    (\n",
    "        df_trans\n",
    "        .write\n",
    "        .partitionBy(['year', 'month'])\n",
    "        .mode('append')\n",
    "        .parquet(f's3a://silver/vendas_transacoes.parquet')\n",
    "    )\n",
    "\n",
    "    # CRIANDO O OBJETO VENDAS_ITENS\n",
    "\n",
    "    # Acessando a Array dentro da coluna items\n",
    "    df_itens = df.withColumn(\"item\", F.explode(df[\"items\"]))\n",
    "\n",
    "    df_itens = df_itens.select(\n",
    "        F.col(\"item.order_id\"),\n",
    "        F.col(\"item.order_item_id\"),\n",
    "        F.col(\"item.product_id\"),\n",
    "        F.col(\"item.seller_id\"),\n",
    "        F.col(\"item.shipping_limit_date\"),\n",
    "        F.col(\"item.price\"),\n",
    "        F.col(\"item.freight_value\"),\n",
    "        F.col(\"order_purchase_timestamp\"),\n",
    "        F.col(\"year\"),\n",
    "        F.col(\"month\"),\n",
    "        F.col(\"day\"),\n",
    "        F.col(\"hour\")\n",
    "    )\n",
    "\n",
    "    # Calculando o valor total por item do pedido\n",
    "    df_itens = df_itens.withColumn('total_item_value', df_itens['price'] + df_itens['freight_value'])\n",
    "\n",
    "    # Join com a tabela de produtos para trazer a categoria\n",
    "    df_itens = df_itens.join(df_categories, on='product_id', how='left')\n",
    "\n",
    "    df_itens = df_itens.select('order_id', 'product_category_name', 'order_item_id', 'product_id', 'price', 'freight_value', 'total_item_value', 'year', 'month', 'day', 'hour')\n",
    "\n",
    "    (\n",
    "        df_itens\n",
    "        .write\n",
    "        .partitionBy(['product_category_name', 'year'])\n",
    "        .mode('append')\n",
    "        .parquet(f's3a://silver/vendas_items.parquet')\n",
    "    )\n"
   ]
  },
  {
   "cell_type": "markdown",
   "id": "1e931480-06f6-472b-b5d7-66cee9970420",
   "metadata": {},
   "source": [
    "# GRAVANDO NA CAMADA GOLD"
   ]
  },
  {
   "cell_type": "code",
   "execution_count": 225,
   "id": "287f00e2",
   "metadata": {},
   "outputs": [],
   "source": [
    "from pyspark.sql import functions as F\n",
    "\n",
    "folder = 's3a://silver/'\n",
    "\n",
    "#CRIANDO O OBJETO payment_type_history\n",
    "df_trans = spark.read.parquet(f'{folder}vendas_transacoes.parquet', inferSchema=True)\n",
    "\n",
    "df_payment_type_history = df_trans.groupby(['year', 'month']).agg(\n",
    "    F.sum('payment_value').alias('total_payment_value'),\n",
    "    F.count('order_id').alias('qty_items')\n",
    ")\n",
    "\n",
    "\n",
    "(\n",
    "    df_payment_type_history\n",
    "    .write\n",
    "    .mode('overwrite')\n",
    "    .parquet(f's3a://gold/payment_type_history.parquet')\n",
    ")\n",
    "\n",
    "\n",
    "#CRIANDO O OBJETO products_history\n",
    "df_items = spark.read.parquet(f'{folder}vendas_items.parquet', inferSchema=True)\n",
    "\n",
    "df_products_history = df_items.groupby(['product_category_name','year', 'month']).agg(\n",
    "    F.sum('total_item_value').alias('total_value'),\n",
    "    F.sum('price').alias('value_without_freight'),\n",
    "    F.count('order_id').alias('qty_items')\n",
    ")\n",
    "\n",
    "\n",
    "(\n",
    "    df_products_history\n",
    "    .write\n",
    "    .mode('overwrite')\n",
    "    .parquet(f's3a://gold/products_history.parquet')\n",
    ")\n"
   ]
  }
 ],
 "metadata": {
  "kernelspec": {
   "display_name": "Python 3 (ipykernel)",
   "language": "python",
   "name": "python3"
  },
  "language_info": {
   "codemirror_mode": {
    "name": "ipython",
    "version": 3
   },
   "file_extension": ".py",
   "mimetype": "text/x-python",
   "name": "python",
   "nbconvert_exporter": "python",
   "pygments_lexer": "ipython3",
   "version": "3.12.9"
  }
 },
 "nbformat": 4,
 "nbformat_minor": 5
}
