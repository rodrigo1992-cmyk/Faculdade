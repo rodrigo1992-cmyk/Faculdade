{
 "cells": [
  {
   "cell_type": "code",
   "execution_count": 10,
   "id": "20063e46-07b2-4b9a-a176-924868230668",
   "metadata": {},
   "outputs": [],
   "source": [
    "import os\n",
    "import requests\n",
    "import pyspark.sql.functions as F\n",
    "\n",
    "from pyspark.sql import SparkSession\n",
    "from tqdm.auto import tqdm\n",
    "from pyspark.sql.types import StructType, StructField, StringType, IntegerType "
   ]
  },
  {
   "cell_type": "code",
   "execution_count": 11,
   "id": "52a195d9-ef68-4fa0-b8b8-82014c02b756",
   "metadata": {},
   "outputs": [],
   "source": [
    "from minio import Minio\n",
    "from minio.error import S3Error"
   ]
  },
  {
   "cell_type": "markdown",
   "id": "55f6690e-9d8c-417c-b9e0-a70234c8624c",
   "metadata": {},
   "source": [
    "# CONSTANTES"
   ]
  },
  {
   "cell_type": "code",
   "execution_count": 12,
   "id": "296b9824-ec7e-4037-9e2d-c096d11365f8",
   "metadata": {},
   "outputs": [],
   "source": [
    "minio_endpoint = 'minio:9000'\n",
    "minio_user = os.environ['MINIO_ROOT_USER']\n",
    "minio_password = os.environ['MINIO_ROOT_PASSWORD']\n",
    "buckets = ['bronze', 'silver', 'gold']"
   ]
  },
  {
   "cell_type": "markdown",
   "id": "5f89e70e-3ffd-4538-a573-3bd626857c80",
   "metadata": {},
   "source": [
    "# CRIAR BUCKETS"
   ]
  },
  {
   "cell_type": "code",
   "execution_count": 13,
   "id": "a17938e7-e49e-4144-b603-1c66b39cad49",
   "metadata": {},
   "outputs": [
    {
     "name": "stdout",
     "output_type": "stream",
     "text": [
      "Bucket bronze already exists!\n",
      "Bucket silver already exists!\n",
      "Bucket gold already exists!\n"
     ]
    }
   ],
   "source": [
    "minio_client = Minio(\n",
    "    minio_endpoint,\n",
    "    access_key=minio_user,\n",
    "    secret_key=minio_password,\n",
    "    secure=False,\n",
    ")\n",
    "\n",
    "for bucket in buckets:\n",
    "    if not minio_client.bucket_exists(bucket):\n",
    "        minio_client.make_bucket(bucket)\n",
    "        print(f'Make bucket {bucket}!')\n",
    "    else:\n",
    "        print(f'Bucket {bucket} already exists!')"
   ]
  },
  {
   "cell_type": "markdown",
   "id": "f6a3d57a-0d85-4337-9c5d-cce24fe6b108",
   "metadata": {},
   "source": [
    "# INICIAR SESSÃO SPARK"
   ]
  },
  {
   "cell_type": "code",
   "execution_count": null,
   "id": "8761852e-6cbd-42da-8112-4ce91d56eaa0",
   "metadata": {},
   "outputs": [],
   "source": [
    "spark = (\n",
    "    SparkSession\n",
    "        .builder\n",
    "        .master(\"spark://spark:7077\")\n",
    "        .appName('MinIO')\n",
    "        .config('spark.hadoop.fs.s3a.endpoint', minio_endpoint)\n",
    "        .config('spark.hadoop.fs.s3a.access.key', minio_user)\n",
    "        .config('spark.hadoop.fs.s3a.secret.key', minio_password)\n",
    "        .config('spark.hadoop.fs.s3a.path.style.access', 'true')\n",
    "        .config('spark.hadoop.fs.s3a.connection.ssl.enabled', 'false')\n",
    "        .config('spark.hadoop.fs.s3a.impl', 'org.apache.hadoop.fs.s3a.S3AFileSystem')\n",
    "        .config('spark.jars.packages', 'com.amazonaws:aws-java-sdk-bundle:1.12.262,org.apache.hadoop:hadoop-aws:3.3.4')\n",
    "        .getOrCreate()\n",
    ")"
   ]
  },
  {
   "cell_type": "code",
   "execution_count": null,
   "id": "3c488456-ca3d-4a9e-8c00-711170db94a1",
   "metadata": {},
   "outputs": [],
   "source": [
    "import json\n",
    "\n",
    "for index, row in grouped.iterrows():\n",
    "    if index >= 3:  # Limite a 3 iterações\n",
    "        break\n",
    "        \n",
    "    order_id = row['order_id']\n",
    "    item = row['items']\n",
    "    \n",
    "    json_data = {\n",
    "        'order_id': order_id,\n",
    "        'payment_type': df_pay.loc[df_pay['order_id'] == order_id, 'payment_type'].values[0],\n",
    "        'payment_value': float(df_pay.loc[df_pay['order_id'] == order_id, 'payment_value'].values[0]),\n",
    "        'seller_id': df_pay.loc[df_pay['order_id'] == order_id, 'seller_id'].values[0],\n",
    "        'items': item\n",
    "    }\n",
    "    \n",
    "    with open(f'C:\\\\Users\\\\RodrigoPintoMesquita\\\\Documents\\\\GitHub\\\\Faculdade\\\\Notebooks Trabalhos 2025H1\\\\PB\\\\data\\\\land\\\\{order_id}.json', 'w') as json_file:\n",
    "        json.dump(json_data, json_file, indent=4)"
   ]
  },
  {
   "cell_type": "code",
   "execution_count": null,
   "id": "197ab045-6612-49d4-be86-fbb113662680",
   "metadata": {
    "scrolled": true
   },
   "outputs": [],
   "source": [
    "%pip install prefect"
   ]
  },
  {
   "cell_type": "code",
   "execution_count": 30,
   "id": "faec553e-3a0a-4d03-959d-b1015c7b3765",
   "metadata": {},
   "outputs": [],
   "source": [
    "import os\n",
    "import time\n",
    "from datetime import datetime, timedelta\n",
    "from pathlib import Path\n",
    "from prefect import task, flow"
   ]
  },
  {
   "cell_type": "code",
   "execution_count": 86,
   "id": "2ea07f1d-bf14-461d-8cc9-388fc0d471ea",
   "metadata": {},
   "outputs": [],
   "source": [
    "PATH_LAND = r'notebooks/land'\n",
    "PATH_BRONZE = r'C:/caminho/para/sua/camada/bronze'\n"
   ]
  },
  {
   "cell_type": "markdown",
   "id": "75c37e32-9ce3-4e70-9e28-dc6c5f50dfe2",
   "metadata": {},
   "source": [
    "# GRAVANDO NA CAMADA BRONZE"
   ]
  },
  {
   "cell_type": "code",
   "execution_count": 107,
   "id": "8fcdbd0c-56bc-45f4-b111-bca16bd4bec8",
   "metadata": {},
   "outputs": [
    {
     "name": "stderr",
     "output_type": "stream",
     "text": [
      "                                                                                "
     ]
    }
   ],
   "source": [
    "import os\n",
    "from pyspark.sql.types import StructType, StructField, StringType, IntegerType, FloatType, ArrayType\n",
    "\n",
    "files = os.listdir(folder)\n",
    "\n",
    "import os\n",
    "from pyspark.sql.types import StructType, StructField, StringType, IntegerType, FloatType, ArrayType\n",
    "\n",
    "file = 'categories.csv'\n",
    "\n",
    "categories_schema = StructType([\n",
    "    StructField('product_id', StringType(), True),\n",
    "    StructField('product_category_name', StringType(), True)\n",
    "])\n",
    "\n",
    "df = spark.read.csv(file, schema=categories_schema, header=True)\n",
    "df.coalesce(1).write.mode('overwrite').parquet(f's3a://bronze/categories.parquet')"
   ]
  },
  {
   "cell_type": "code",
   "execution_count": 105,
   "id": "95a862be-bdee-47d0-8fe5-6527b82d2f2a",
   "metadata": {},
   "outputs": [
    {
     "name": "stderr",
     "output_type": "stream",
     "text": [
      "25/05/31 16:09:31 WARN DataSource: All paths were ignored:\n",
      "  file:/work/notebooks/land/.ipynb_checkpoints\n",
      "                                                                                "
     ]
    }
   ],
   "source": [
    "import os\n",
    "from pyspark.sql.types import StructType, StructField, StringType, IntegerType, FloatType, ArrayType\n",
    "\n",
    "folder = 'land/'\n",
    "files = os.listdir(folder)\n",
    "\n",
    "item_schema = StructType([\n",
    "    StructField(\"order_item_id\", StringType(), True),\n",
    "    StructField(\"product_id\", StringType(), True),\n",
    "    StructField(\"seller_id\", StringType(), True),\n",
    "    StructField(\"price\", FloatType(), True),\n",
    "    StructField(\"freight_value\", FloatType(), True)\n",
    "])\n",
    "\n",
    "orders_schema = StructType([\n",
    "    StructField(\"order_id\", StringType(), True),\n",
    "    StructField(\"payment_type\", StringType(), True),\n",
    "    StructField(\"payment_value\", FloatType(), True),\n",
    "    StructField(\"items\", ArrayType(item_schema), True) \n",
    "])\n",
    "\n",
    "\n",
    "for file in files:\n",
    "    name = file.replace(\".json\", \"\")\n",
    "    df = spark.read.json(f'{folder}{file}', schema=orders_schema)\n",
    "    df.coalesce(1).write.mode('overwrite').parquet(f's3a://bronze/vendas/{name}.parquet')"
   ]
  },
  {
   "cell_type": "code",
   "execution_count": 111,
   "id": "8b1aa3a9-0d73-4694-80fb-e722f2fd7def",
   "metadata": {},
   "outputs": [
    {
     "name": "stdout",
     "output_type": "stream",
     "text": [
      "+--------+------------+-------------+-----+\n",
      "|order_id|payment_type|payment_value|items|\n",
      "+--------+------------+-------------+-----+\n",
      "|    NULL|        NULL|         NULL| NULL|\n",
      "|    NULL|        NULL|         NULL| NULL|\n",
      "|    NULL|        NULL|         NULL| NULL|\n",
      "|    NULL|        NULL|         NULL| NULL|\n",
      "|    NULL|        NULL|         NULL| NULL|\n",
      "|    NULL|        NULL|         NULL| NULL|\n",
      "|    NULL|        NULL|         NULL| NULL|\n",
      "|    NULL|        NULL|         NULL| NULL|\n",
      "|    NULL|        NULL|         NULL| NULL|\n",
      "|    NULL|        NULL|         NULL| NULL|\n",
      "|    NULL|        NULL|         NULL| NULL|\n",
      "|    NULL|        NULL|         NULL| NULL|\n",
      "|    NULL|        NULL|         NULL| NULL|\n",
      "|    NULL|        NULL|         NULL| NULL|\n",
      "|    NULL|        NULL|         NULL| NULL|\n",
      "|    NULL|        NULL|         NULL| NULL|\n",
      "|    NULL|        NULL|         NULL| NULL|\n",
      "|    NULL|        NULL|         NULL| NULL|\n",
      "|    NULL|        NULL|         NULL| NULL|\n",
      "|    NULL|        NULL|         NULL| NULL|\n",
      "+--------+------------+-------------+-----+\n",
      "only showing top 20 rows\n",
      "\n"
     ]
    },
    {
     "name": "stderr",
     "output_type": "stream",
     "text": [
      "                                                                                "
     ]
    }
   ],
   "source": [
    "df = spark.read.parquet('s3a://bronze/vendas/00143d0f86d6fbd9f9b38ab440ac16f5.parquet')\n",
    "df"
   ]
  },
  {
   "cell_type": "markdown",
   "id": "14bed6bc-d784-41e5-9c8f-c5398107bbdc",
   "metadata": {},
   "source": [
    "# GRAVANDO NA CAMADA PRATA"
   ]
  },
  {
   "cell_type": "code",
   "execution_count": 108,
   "id": "8bab8b4b",
   "metadata": {
    "scrolled": true
   },
   "outputs": [
    {
     "name": "stderr",
     "output_type": "stream",
     "text": [
      "25/05/31 16:10:18 WARN DataSource: All paths were ignored:\n",
      "  file:/work/notebooks/land/.ipynb_checkpoints\n"
     ]
    },
    {
     "ename": "AnalysisException",
     "evalue": "[UNABLE_TO_INFER_SCHEMA] Unable to infer schema for Parquet. It must be specified manually.",
     "output_type": "error",
     "traceback": [
      "\u001b[31m---------------------------------------------------------------------------\u001b[39m",
      "\u001b[31mAnalysisException\u001b[39m                         Traceback (most recent call last)",
      "\u001b[36mCell\u001b[39m\u001b[36m \u001b[39m\u001b[32mIn[108]\u001b[39m\u001b[32m, line 10\u001b[39m\n\u001b[32m      7\u001b[39m \u001b[38;5;28;01mif\u001b[39;00m index >= \u001b[32m3\u001b[39m:  \u001b[38;5;66;03m# Limite a 3 iterações\u001b[39;00m\n\u001b[32m      8\u001b[39m     \u001b[38;5;28;01mbreak\u001b[39;00m\n\u001b[32m---> \u001b[39m\u001b[32m10\u001b[39m df = \u001b[43mspark\u001b[49m\u001b[43m.\u001b[49m\u001b[43mread\u001b[49m\u001b[43m.\u001b[49m\u001b[43mparquet\u001b[49m\u001b[43m(\u001b[49m\u001b[33;43mf\u001b[39;49m\u001b[33;43m'\u001b[39;49m\u001b[38;5;132;43;01m{\u001b[39;49;00m\u001b[43mfolder\u001b[49m\u001b[38;5;132;43;01m}\u001b[39;49;00m\u001b[38;5;132;43;01m{\u001b[39;49;00m\u001b[43mfile\u001b[49m\u001b[38;5;132;43;01m}\u001b[39;49;00m\u001b[33;43m'\u001b[39;49m\u001b[43m,\u001b[49m\u001b[43m \u001b[49m\u001b[43mschema\u001b[49m\u001b[43m=\u001b[49m\u001b[43m \u001b[49m\u001b[43mcategories_schema\u001b[49m\u001b[43m)\u001b[49m\n\u001b[32m     12\u001b[39m \u001b[38;5;66;03m#extrair o dia mês e ano da coluna order_purchase_timestamp\u001b[39;00m\n\u001b[32m     13\u001b[39m df = df.withColumn(\u001b[33m'\u001b[39m\u001b[33myear\u001b[39m\u001b[33m'\u001b[39m, F.year(F.to_timestamp(df[\u001b[33m'\u001b[39m\u001b[33mshipping_limit_date\u001b[39m\u001b[33m'\u001b[39m], \u001b[33m'\u001b[39m\u001b[33myyyy-MM-dd HH:mm:ss\u001b[39m\u001b[33m'\u001b[39m)))\n",
      "\u001b[36mFile \u001b[39m\u001b[32m/usr/local/lib/python3.12/site-packages/pyspark/sql/readwriter.py:544\u001b[39m, in \u001b[36mDataFrameReader.parquet\u001b[39m\u001b[34m(self, *paths, **options)\u001b[39m\n\u001b[32m    533\u001b[39m int96RebaseMode = options.get(\u001b[33m\"\u001b[39m\u001b[33mint96RebaseMode\u001b[39m\u001b[33m\"\u001b[39m, \u001b[38;5;28;01mNone\u001b[39;00m)\n\u001b[32m    534\u001b[39m \u001b[38;5;28mself\u001b[39m._set_opts(\n\u001b[32m    535\u001b[39m     mergeSchema=mergeSchema,\n\u001b[32m    536\u001b[39m     pathGlobFilter=pathGlobFilter,\n\u001b[32m   (...)\u001b[39m\u001b[32m    541\u001b[39m     int96RebaseMode=int96RebaseMode,\n\u001b[32m    542\u001b[39m )\n\u001b[32m--> \u001b[39m\u001b[32m544\u001b[39m \u001b[38;5;28;01mreturn\u001b[39;00m \u001b[38;5;28mself\u001b[39m._df(\u001b[38;5;28;43mself\u001b[39;49m\u001b[43m.\u001b[49m\u001b[43m_jreader\u001b[49m\u001b[43m.\u001b[49m\u001b[43mparquet\u001b[49m\u001b[43m(\u001b[49m\u001b[43m_to_seq\u001b[49m\u001b[43m(\u001b[49m\u001b[38;5;28;43mself\u001b[39;49m\u001b[43m.\u001b[49m\u001b[43m_spark\u001b[49m\u001b[43m.\u001b[49m\u001b[43m_sc\u001b[49m\u001b[43m,\u001b[49m\u001b[43m \u001b[49m\u001b[43mpaths\u001b[49m\u001b[43m)\u001b[49m\u001b[43m)\u001b[49m)\n",
      "\u001b[36mFile \u001b[39m\u001b[32m/usr/local/lib/python3.12/site-packages/py4j/java_gateway.py:1322\u001b[39m, in \u001b[36mJavaMember.__call__\u001b[39m\u001b[34m(self, *args)\u001b[39m\n\u001b[32m   1316\u001b[39m command = proto.CALL_COMMAND_NAME +\\\n\u001b[32m   1317\u001b[39m     \u001b[38;5;28mself\u001b[39m.command_header +\\\n\u001b[32m   1318\u001b[39m     args_command +\\\n\u001b[32m   1319\u001b[39m     proto.END_COMMAND_PART\n\u001b[32m   1321\u001b[39m answer = \u001b[38;5;28mself\u001b[39m.gateway_client.send_command(command)\n\u001b[32m-> \u001b[39m\u001b[32m1322\u001b[39m return_value = \u001b[43mget_return_value\u001b[49m\u001b[43m(\u001b[49m\n\u001b[32m   1323\u001b[39m \u001b[43m    \u001b[49m\u001b[43manswer\u001b[49m\u001b[43m,\u001b[49m\u001b[43m \u001b[49m\u001b[38;5;28;43mself\u001b[39;49m\u001b[43m.\u001b[49m\u001b[43mgateway_client\u001b[49m\u001b[43m,\u001b[49m\u001b[43m \u001b[49m\u001b[38;5;28;43mself\u001b[39;49m\u001b[43m.\u001b[49m\u001b[43mtarget_id\u001b[49m\u001b[43m,\u001b[49m\u001b[43m \u001b[49m\u001b[38;5;28;43mself\u001b[39;49m\u001b[43m.\u001b[49m\u001b[43mname\u001b[49m\u001b[43m)\u001b[49m\n\u001b[32m   1325\u001b[39m \u001b[38;5;28;01mfor\u001b[39;00m temp_arg \u001b[38;5;129;01min\u001b[39;00m temp_args:\n\u001b[32m   1326\u001b[39m     \u001b[38;5;28;01mif\u001b[39;00m \u001b[38;5;28mhasattr\u001b[39m(temp_arg, \u001b[33m\"\u001b[39m\u001b[33m_detach\u001b[39m\u001b[33m\"\u001b[39m):\n",
      "\u001b[36mFile \u001b[39m\u001b[32m/usr/local/lib/python3.12/site-packages/pyspark/errors/exceptions/captured.py:185\u001b[39m, in \u001b[36mcapture_sql_exception.<locals>.deco\u001b[39m\u001b[34m(*a, **kw)\u001b[39m\n\u001b[32m    181\u001b[39m converted = convert_exception(e.java_exception)\n\u001b[32m    182\u001b[39m \u001b[38;5;28;01mif\u001b[39;00m \u001b[38;5;129;01mnot\u001b[39;00m \u001b[38;5;28misinstance\u001b[39m(converted, UnknownException):\n\u001b[32m    183\u001b[39m     \u001b[38;5;66;03m# Hide where the exception came from that shows a non-Pythonic\u001b[39;00m\n\u001b[32m    184\u001b[39m     \u001b[38;5;66;03m# JVM exception message.\u001b[39;00m\n\u001b[32m--> \u001b[39m\u001b[32m185\u001b[39m     \u001b[38;5;28;01mraise\u001b[39;00m converted \u001b[38;5;28;01mfrom\u001b[39;00m\u001b[38;5;250m \u001b[39m\u001b[38;5;28;01mNone\u001b[39;00m\n\u001b[32m    186\u001b[39m \u001b[38;5;28;01melse\u001b[39;00m:\n\u001b[32m    187\u001b[39m     \u001b[38;5;28;01mraise\u001b[39;00m\n",
      "\u001b[31mAnalysisException\u001b[39m: [UNABLE_TO_INFER_SCHEMA] Unable to infer schema for Parquet. It must be specified manually."
     ]
    }
   ],
   "source": [
    "folder = 'land/'\n",
    "files = os.listdir(folder)\n",
    "\n",
    "df_categories = spark.read.parquet('s3a://bronze/categories.parquet', schema= orders_schema)\n",
    "\n",
    "for index, file in enumerate(files):\n",
    "    if index >= 3:  # Limite a 3 iterações\n",
    "        break\n",
    "\n",
    "    df = spark.read.parquet(f'{folder}{file}', schema= categories_schema)\n",
    "\n",
    "    #extrair o dia mês e ano da coluna order_purchase_timestamp\n",
    "    df = df.withColumn('year', F.year(F.to_timestamp(df['shipping_limit_date'], 'yyyy-MM-dd HH:mm:ss')))\n",
    "    df = df.withColumn('month', F.month(F.to_timestamp(df['shipping_limit_date'], 'yyyy-MM-dd HH:mm:ss')))\n",
    "    df = df.withColumn('day', F.dayofmonth(F.to_timestamp(df['shipping_limit_date'], 'yyyy-MM-dd HH:mm:ss')))\n",
    "    df = df.withColumn('hour', F.hour(F.to_timestamp(df['shipping_limit_date'], 'yyyy-MM-dd HH:mm:ss')))\n",
    "\n",
    "    #calulando o valor total por item do pedido\n",
    "    df['total_item_value'] = df['price'] + df['freight_value']\n",
    "\n",
    "    #join com a tabela de produtos para trazer o nome do produto\n",
    "    df = df.join(df_categories, on='product_id', how='left')\n",
    "    \n",
    "    #mantendo somente as colunas necessárias\n",
    "    silver_df = merged_df[['order_id', 'payment_sequential', 'payment_type', 'payment_installments', 'payment_value', \n",
    "                            'order_item_id', 'product_id', 'seller_id', 'shipping_limit_date', \n",
    "                            'price', 'freight_value', 'total_item_value']]\n",
    "    \n",
    "df"
   ]
  },
  {
   "cell_type": "code",
   "execution_count": null,
   "id": "287f00e2",
   "metadata": {},
   "outputs": [],
   "source": [
    "def etl_to_gold(silver_df):\n",
    "    # Agregação de dados: calcular total por order_id\n",
    "    gold_df = silver_df.groupby('order_id').agg(\n",
    "        total_value=('total_item_value', 'sum'),\n",
    "        total_items=('order_item_id', 'count'),\n",
    "        payment_type=('payment_type', 'first'),  # Presumindo que todos os pagamentos são do mesmo tipo\n",
    "        order_date=('shipping_limit_date', 'first')  # Presumindo que a data de envio é a data do pedido\n",
    "    ).reset_index()\n",
    "\n",
    "    return gold_df\n",
    "\n",
    "# Executar ETL para a camada ouro\n",
    "gold_data = etl_to_gold(silver_data)"
   ]
  }
 ],
 "metadata": {
  "kernelspec": {
   "display_name": "Python 3 (ipykernel)",
   "language": "python",
   "name": "python3"
  },
  "language_info": {
   "codemirror_mode": {
    "name": "ipython",
    "version": 3
   },
   "file_extension": ".py",
   "mimetype": "text/x-python",
   "name": "python",
   "nbconvert_exporter": "python",
   "pygments_lexer": "ipython3",
   "version": "3.12.9"
  }
 },
 "nbformat": 4,
 "nbformat_minor": 5
}
