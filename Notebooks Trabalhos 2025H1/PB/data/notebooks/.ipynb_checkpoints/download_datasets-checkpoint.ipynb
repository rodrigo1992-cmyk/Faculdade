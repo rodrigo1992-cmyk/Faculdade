{
 "cells": [
  {
   "cell_type": "code",
   "execution_count": null,
   "id": "f7eb7ab3-df2a-4450-bc7f-5bd81e8588c7",
   "metadata": {},
   "outputs": [],
   "source": [
    "%pip install kagglehub"
   ]
  },
  {
   "cell_type": "code",
   "execution_count": 2,
   "id": "20b876c0-49dc-4389-8879-572af476ee7c",
   "metadata": {},
   "outputs": [],
   "source": [
    "import os\n",
    "import kagglehub\n",
    "import pandas as pd\n",
    "\n",
    "path = kagglehub.dataset_download(\"olistbr/brazilian-ecommerce\")"
   ]
  },
  {
   "cell_type": "code",
   "execution_count": 3,
   "id": "53fdef03-b22e-4770-a028-bc8fcab039f1",
   "metadata": {},
   "outputs": [],
   "source": [
    "df_orders = pd.DataFrame(pd.read_csv(path + \"/olist_orders_dataset.csv\"))\n",
    "df_pay = pd.DataFrame(pd.read_csv(path + \"/olist_order_payments_dataset.csv\"))\n",
    "df_order_items = pd.DataFrame(pd.read_csv(path + \"/olist_order_items_dataset.csv\"))\n",
    "df_product_categ = pd.DataFrame(pd.read_csv(path + \"/olist_products_dataset.csv\"))"
   ]
  },
  {
   "cell_type": "code",
   "execution_count": 4,
   "id": "cb9e84e6-abb4-4dd6-a40f-069ab95c14ce",
   "metadata": {},
   "outputs": [],
   "source": [
    "df_product_categ.to_csv('df_product_categ.csv', index=False)"
   ]
  },
  {
   "cell_type": "code",
   "execution_count": 17,
   "id": "a408707a-5494-43cc-aba0-20f30975c9a9",
   "metadata": {},
   "outputs": [],
   "source": [
    "import json\n",
    "\n",
    "for index, row in df_orders.iterrows():\n",
    "    if index >= 4:  # Limitar iterações\n",
    "        break\n",
    "    order_id = row['order_id']\n",
    "    order_purchase_timestamp = row['order_purchase_timestamp']\n",
    "    customer_id = row['customer_id']\n",
    "    item = df_order_items.loc[df_order_items['order_id'] == order_id]\n",
    "    items_list = item.to_dict(orient='records')\n",
    "    \n",
    "    json_data = {\n",
    "        'order_id': order_id,\n",
    "        'order_purchase_timestamp': order_purchase_timestamp,\n",
    "        'customer_id': customer_id,\n",
    "        'payment_type': df_pay.loc[df_pay['order_id'] == order_id, 'payment_type'].values[0],\n",
    "        'payment_value': float(df_pay.loc[df_pay['order_id'] == order_id, 'payment_value'].values[0]),\n",
    "        'items':items_list\n",
    "    }\n",
    "    \n",
    "    with open(f'land/{order_id}.json', 'w') as json_file:\n",
    "        json.dump(json_data, json_file, indent=4)"
   ]
  },
  {
   "cell_type": "code",
   "execution_count": null,
   "id": "da110145-c84e-4312-b4ea-c8cadd2be624",
   "metadata": {},
   "outputs": [],
   "source": []
  }
 ],
 "metadata": {
  "kernelspec": {
   "display_name": "Python 3 (ipykernel)",
   "language": "python",
   "name": "python3"
  },
  "language_info": {
   "codemirror_mode": {
    "name": "ipython",
    "version": 3
   },
   "file_extension": ".py",
   "mimetype": "text/x-python",
   "name": "python",
   "nbconvert_exporter": "python",
   "pygments_lexer": "ipython3",
   "version": "3.12.9"
  }
 },
 "nbformat": 4,
 "nbformat_minor": 5
}
