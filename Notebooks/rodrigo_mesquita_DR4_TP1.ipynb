{
  "nbformat": 4,
  "nbformat_minor": 0,
  "metadata": {
    "colab": {
      "provenance": [],
      "authorship_tag": "ABX9TyMHfRAdA9hGYQhj6cKXJwLj"
    },
    "kernelspec": {
      "name": "python3",
      "display_name": "Python 3"
    },
    "language_info": {
      "name": "python"
    }
  },
  "cells": [
    {
      "cell_type": "markdown",
      "source": [
        "# **Rodrigo_Mesquita_DR4_TP1**\n",
        "## **Inteligência Artificial: Clusterização [24E2_4]**"
      ],
      "metadata": {
        "id": "zLUXZcnCIpQ2"
      }
    },
    {
      "cell_type": "markdown",
      "source": [
        "#1.Cite e explique dois algoritmos de clusterização baseado em particionamento."
      ],
      "metadata": {
        "id": "7y_Y0L2-JBp1"
      }
    },
    {
      "cell_type": "markdown",
      "source": [
        "**K-Means**: O K-Means é um algoritimo de clusterizaçao não supervisionado, ou seja, que trabalha com dados não rotulados, os separando em uma quantidade de clusters pré-definida pelo usuário, com base na similaridade/proximidade entre cada amostra. Na primeira iteração o modelo escolhe posições aleatórios para os centróides e relaciona cada amostra ao centróide mais próximo, formando os clusters. Em seguida, recalcula a o posicionamento do centroide baseado na distância euclidiana de todos os pontos que foram atribuidos a ele. A cada iteração posterior o modelo executa novamente o relacionamento das amostras aos centroides e o ajuste do posicionamento, até que a variação de posicionamento do centroide entre cada iteração passe a ser insignificante ou atinja o número máximo de iterações.\n",
        "\n",
        "**K-Medoids**: O K-Medoids também é um algoritimo de clusterização não supervisionado, porém, invés de escolher posições iniciais aleatórias para os centroides, ele escolhe pontos reais do conjunto de dados para servirem como medoides, em seguida atribui cada ponto ao medoide mais próximo com base em uma métrica de dissimilaridade. A cada iteração o modelo escolhe um novo ponto do cluster como medoide e recalcula a métrica para verificar se algum deles, se escolhido como novo medoide, melhoraria o resultado.\n",
        "O K-Medoid possui menor sensibilidade a outliers e é mais adequado para clusters assimétricos, porém possui maior custo operacional."
      ],
      "metadata": {
        "id": "9JLW43HuJqsl"
      }
    },
    {
      "cell_type": "markdown",
      "source": [
        "#2.Explique o principal algoritmo de clusterização, visto em sala de aula, baseado em densidade.\n"
      ],
      "metadata": {
        "id": "LM5A1fiEJChd"
      }
    },
    {
      "cell_type": "markdown",
      "source": [
        "O DB-Scan, diferente dos métodos de particionamento, se baseia na densidade de pontos em uma mesma região. A quantidade de clusters é definida automaticamente baseado na quantidade de regiões com alta densidade de pontos e separadas entre si por espaços de menor densidade. Os pontos mais distantes dessas regiões (outliers) são considerados como ruídos, não sendo alocados em nenhum cluster."
      ],
      "metadata": {
        "id": "tc05mh1lUb3e"
      }
    },
    {
      "cell_type": "markdown",
      "source": [
        "#3.Utilizando o dataset iris (sklearn.datasets.load_iris), utilize o KMeans e utilizando o método Silhouette, veja qual o número ideal de clusters. Faça uma conclusão dessa avaliação.\n"
      ],
      "metadata": {
        "id": "aLMyW5TwJEA9"
      }
    },
    {
      "cell_type": "markdown",
      "source": [
        "##Resposta: Com base nos gráficos plotados (Elbow e Silhouette) entendo como ideal K=3, pois o SSE caiu quase pela metade, de 150 para 80, e o silhouette score reduziu em apenas 0,10."
      ],
      "metadata": {
        "id": "vKUi1vPcQ7pu"
      }
    },
    {
      "cell_type": "code",
      "execution_count": 28,
      "metadata": {
        "id": "6aZcStyDIiz1"
      },
      "outputs": [],
      "source": [
        "from sklearn.datasets import load_iris\n",
        "from sklearn.cluster import KMeans\n",
        "from sklearn.metrics import silhouette_score\n",
        "import matplotlib.pyplot as plt"
      ]
    },
    {
      "cell_type": "code",
      "source": [
        "def elbow_plot(erro: dict) -> None:\n",
        "  maximo = max(erro.values())\n",
        "  for key in erro:\n",
        "    erro[key]: float(erro[key])/maximo\n",
        "  plt.figure(figsize=(4, 4))\n",
        "  plt.plot(list(erro.keys()), list(erro.values()), label = \"Método Elbow\")\n",
        "  plt.ylabel('SSE', fontsize=12)\n",
        "  plt.xlabel('Clusters', fontsize=12)\n",
        "  plt.yticks(fontsize=12)\n",
        "  plt.xticks(fontsize=12)\n",
        "  plt.legend(loc='upper right')\n",
        "  plt.show()\n",
        "\n",
        "def silhouette_plot(silhouette: dict) -> None:\n",
        "  plt.figure(figsize=(4, 4))\n",
        "  plt.plot(list(silhouette.keys()), list(silhouette.values()), label = \"Método Silhouette\")\n",
        "  plt.ylabel('Silhouette Score', fontsize=12)\n",
        "  plt.xlabel('Clusters', fontsize=12)\n",
        "  plt.yticks(fontsize=12)\n",
        "  plt.xticks(fontsize=12)\n",
        "  plt.legend(loc='upper right')\n",
        "  plt.show()"
      ],
      "metadata": {
        "id": "2OTOvQM_J0ES"
      },
      "execution_count": 40,
      "outputs": []
    },
    {
      "cell_type": "code",
      "source": [
        "iris = load_iris()\n",
        "X = iris.data"
      ],
      "metadata": {
        "id": "E_LvHGJtp93g"
      },
      "execution_count": 5,
      "outputs": []
    },
    {
      "cell_type": "code",
      "source": [
        "silhouette = {}\n",
        "elbow = {}\n",
        "\n",
        "for k in range(2, 11, 1):\n",
        "    model = KMeans(n_clusters= k, max_iter=1000)\n",
        "    model.fit(X)\n",
        "    elbow[k] = model.inertia_\n",
        "    preds = model.predict(X)\n",
        "    silhouette[k] = silhouette_score(X, preds)"
      ],
      "metadata": {
        "id": "rwsu9mF3qB7J"
      },
      "execution_count": null,
      "outputs": []
    },
    {
      "cell_type": "code",
      "source": [
        "elbow_plot(elbow)\n",
        "silhouette_plot(silhouette)"
      ],
      "metadata": {
        "id": "QddKF5PaQWRV",
        "outputId": "3afda0ed-fc15-4c7b-a6fb-59090b089057",
        "colab": {
          "base_uri": "https://localhost:8080/",
          "height": 775
        }
      },
      "execution_count": 41,
      "outputs": [
        {
          "output_type": "display_data",
          "data": {
            "text/plain": [
              "<Figure size 400x400 with 1 Axes>"
            ],
            "image/png": "[encoded data removed]"
          },
          "metadata": {}
        },
        {
          "output_type": "display_data",
          "data": {
            "text/plain": [
              "<Figure size 400x400 with 1 Axes>"
            ],
            "image/png": "[encoded data removed]"
          },
          "metadata": {}
        }
      ]
    },
    {
      "cell_type": "markdown",
      "source": [
        "#4.Utilizando o dataset iris (sklearn.datasets.load_iris), faça a redução de dimensionalidade utilizando KMeans e o PCA, utilize o modelo de regressão logística para comparar os resultados"
      ],
      "metadata": {
        "id": "eazFuvnFJFUT"
      }
    },
    {
      "cell_type": "code",
      "source": [
        "from sklearn.datasets import load_iris\n",
        "from sklearn.cluster import KMeans\n",
        "from sklearn.decomposition import PCA\n",
        "from sklearn.linear_model import LogisticRegression\n",
        "from sklearn.model_selection import train_test_split\n",
        "from sklearn.metrics import accuracy_score"
      ],
      "metadata": {
        "id": "XLDCFdRiortg"
      },
      "execution_count": 8,
      "outputs": []
    },
    {
      "cell_type": "code",
      "source": [
        "iris = load_iris()\n",
        "X = iris.data\n",
        "y = iris.target"
      ],
      "metadata": {
        "id": "0tJgJKuazOv4"
      },
      "execution_count": 9,
      "outputs": []
    },
    {
      "cell_type": "code",
      "source": [
        "# Redução de dimensionalidade com KMeans\n",
        "kmeans = KMeans(n_clusters=2)\n",
        "kmeans.fit(X)\n",
        "X_kmeans = kmeans.transform(X)"
      ],
      "metadata": {
        "colab": {
          "base_uri": "https://localhost:8080/"
        },
        "id": "DGQlWoB_zQEZ",
        "outputId": "cf26b207-fb47-4f6b-d9ce-2422926f24ce"
      },
      "execution_count": 10,
      "outputs": [
        {
          "output_type": "stream",
          "name": "stderr",
          "text": [
            "/usr/local/lib/python3.10/dist-packages/sklearn/cluster/_kmeans.py:870: FutureWarning: The default value of `n_init` will change from 10 to 'auto' in 1.4. Set the value of `n_init` explicitly to suppress the warning\n",
            "  warnings.warn(\n"
          ]
        }
      ]
    },
    {
      "cell_type": "code",
      "source": [
        "# Redução de dimensionalidade com PCA\n",
        "pca = PCA(n_components=2)\n",
        "X_pca = pca.fit_transform(X)"
      ],
      "metadata": {
        "id": "hcadhzOUzRS7"
      },
      "execution_count": 11,
      "outputs": []
    },
    {
      "cell_type": "code",
      "source": [
        "X_train, X_test, y_train, y_test = train_test_split(X, y, test_size=0.3, random_state=42)"
      ],
      "metadata": {
        "id": "akq_Mr0DzThh"
      },
      "execution_count": 12,
      "outputs": []
    },
    {
      "cell_type": "code",
      "source": [
        "# Regressão Logística sem redução de dimensionalidade\n",
        "lr = LogisticRegression()\n",
        "lr.fit(X_train, y_train)\n",
        "y_pred_lr = lr.predict(X_test)\n",
        "acc_lr = accuracy_score(y_test, y_pred_lr)"
      ],
      "metadata": {
        "id": "hMGHjlwvzVEA"
      },
      "execution_count": 13,
      "outputs": []
    },
    {
      "cell_type": "code",
      "source": [
        "# Regressão Logística com redução de dimensionalidade usando KMeans\n",
        "lr_kmeans = LogisticRegression()\n",
        "lr_kmeans.fit(X_kmeans, y)\n",
        "X_test_kmeans = kmeans.transform(X_test)\n",
        "y_pred_lr_kmeans = lr_kmeans.predict(X_test_kmeans)\n",
        "acc_lr_kmeans = accuracy_score(y_test, y_pred_lr_kmeans)"
      ],
      "metadata": {
        "id": "4BIgVuGQzWbA"
      },
      "execution_count": 14,
      "outputs": []
    },
    {
      "cell_type": "code",
      "source": [
        "# Regressão Logística com redução de dimensionalidade usando PCA\n",
        "lr_pca = LogisticRegression()\n",
        "lr_pca.fit(X_pca, y)\n",
        "X_test_pca = pca.transform(X_test)\n",
        "y_pred_lr_pca = lr_pca.predict(X_test_pca)\n",
        "acc_lr_pca = accuracy_score(y_test, y_pred_lr_pca)"
      ],
      "metadata": {
        "id": "dFbbWk5lzYKJ"
      },
      "execution_count": 15,
      "outputs": []
    },
    {
      "cell_type": "code",
      "source": [
        "print(f'Acurácia da RL sem redução de dimensionalidade: {acc_lr}')\n",
        "print(f'Acurácia da RL com redução de dimensionalidade usando KMeans: {acc_lr_kmeans}')\n",
        "print(f'Acurácia da RL com redução de dimensionalidade usando PCA: {acc_lr_pca}')"
      ],
      "metadata": {
        "id": "-F7qCdBz0M-A",
        "outputId": "5b219815-51db-4c64-9244-bf7a5159ff07",
        "colab": {
          "base_uri": "https://localhost:8080/"
        }
      },
      "execution_count": 16,
      "outputs": [
        {
          "output_type": "stream",
          "name": "stdout",
          "text": [
            "Acurácia da RL sem redução de dimensionalidade: 1.0\n",
            "Acurácia da RL com redução de dimensionalidade usando KMeans: 0.9555555555555556\n",
            "Acurácia da RL com redução de dimensionalidade usando PCA: 1.0\n"
          ]
        }
      ]
    }
  ]
}