{
  "nbformat": 4,
  "nbformat_minor": 0,
  "metadata": {
    "colab": {
      "provenance": [],
      "authorship_tag": "ABX9TyM2qM78lF+uR8im46DpRBlM"
    },
    "kernelspec": {
      "name": "python3",
      "display_name": "Python 3"
    },
    "language_info": {
      "name": "python"
    }
  },
  "cells": [
    {
      "cell_type": "markdown",
      "source": [
        "# **Rodrigo_Mesquita_DR4_TP1**\n",
        "## **Inteligência Artificial: Clusterização [24E2_4]**"
      ],
      "metadata": {
        "id": "zLUXZcnCIpQ2"
      }
    },
    {
      "cell_type": "markdown",
      "source": [
        "#1.Cite e explique dois algoritmos de clusterização baseado em particionamento."
      ],
      "metadata": {
        "id": "7y_Y0L2-JBp1"
      }
    },
    {
      "cell_type": "markdown",
      "source": [
        "**K-Means**: O K-Means é um algoritimo de clusterizaçao não supervisionado, ou seja, que trabalha com dados não rotulados, os separando em uma quantidade de clusters pré-definida pelo usuário, com base na similaridade/proximidade entre cada amostra. Na primeira iteração o modelo escolhe posições aleatórios para os centróides e relaciona cada amostra ao centróide mais próximo, formando os clusters. Em seguida, recalcula a o posicionamento do centroide baseado na distância euclidiana de todos os pontos que foram atribuidos a ele. A cada iteração posterior o modelo executa novamente o relacionamento das amostras aos centroides e o ajuste do posicionamento, até que a variação de posicionamento do centroide entre cada iteração passe a ser insignificante ou atinja o número máximo de iterações.\n",
        "\n",
        "**K-Medoids**: O K-Medoids também é um algoritimo de clusterização não supervisionado, porém, invés de escolher posições iniciais aleatórias para os centroides, ele escolhe pontos reais do conjunto de dados para servirem como medoides, em seguida atribui cada ponto ao medoide mais próximo com base em uma métrica de dissimilaridade. A cada iteração o modelo escolhe um novo ponto do cluster como medoide e recalcula a métrica para verificar se algum deles, se escolhido como novo medoide, melhoraria o resultado.\n",
        "O K-Medoid possui menor sensibilidade a outliers e é mais adequado para clusters assimétricos, porém possui maior custo operacional."
      ],
      "metadata": {
        "id": "9JLW43HuJqsl"
      }
    },
    {
      "cell_type": "markdown",
      "source": [
        "#2.Explique o principal algoritmo de clusterização, visto em sala de aula, baseado em densidade.\n"
      ],
      "metadata": {
        "id": "LM5A1fiEJChd"
      }
    },
    {
      "cell_type": "markdown",
      "source": [
        "O DB-Scan, diferente dos métodos de particionamento, se baseia na densidade de pontos em uma mesma região. A quantidade de clusters é definida automaticamente baseado na quantidade de regiões com alta densidade de pontos e separadas entre si por espaços de menor densidade. Os pontos mais distantes dessas regiões (outliers) são considerados como ruídos, não sendo alocados em nenhum cluster."
      ],
      "metadata": {
        "id": "tc05mh1lUb3e"
      }
    },
    {
      "cell_type": "markdown",
      "source": [
        "#3.Utilizando o dataset iris (sklearn.datasets.load_iris), utilize o KMeans e utilizando o método Silhouette, veja qual o número ideal de clusters. Faça uma conclusão dessa avaliação.\n"
      ],
      "metadata": {
        "id": "aLMyW5TwJEA9"
      }
    },
    {
      "cell_type": "code",
      "execution_count": null,
      "metadata": {
        "id": "6aZcStyDIiz1"
      },
      "outputs": [],
      "source": []
    },
    {
      "cell_type": "markdown",
      "source": [
        "#4.Utilizando o dataset iris (sklearn.datasets.load_iris), faça a redução de dimensionalidade utilizando KMeans e o PCA, utilize o modelo de regressão logística para comparar os resultados"
      ],
      "metadata": {
        "id": "eazFuvnFJFUT"
      }
    },
    {
      "cell_type": "code",
      "source": [],
      "metadata": {
        "id": "XLDCFdRiortg"
      },
      "execution_count": null,
      "outputs": []
    }
  ]
}