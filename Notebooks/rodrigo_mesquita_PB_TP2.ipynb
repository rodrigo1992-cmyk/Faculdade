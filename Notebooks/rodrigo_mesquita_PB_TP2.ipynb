{
 "cells": [
  {
   "cell_type": "markdown",
   "metadata": {
    "id": "joKUQbQZBVyi"
   },
   "source": [
    "# **Rodrigo_Mesquita_PB_TP2**\n",
    "## **Projeto de Bloco: Inteligência Artificial e Machine Learning [24E1_5]** "
   ]
  },
  {
   "cell_type": "markdown",
   "metadata": {
    "id": "7V-RrLMQBjcY"
   },
   "source": [
    "##1.Criação das features: Computar o Term Frequency-Inverse Document Frequency (TF-IDF) para representar a importância das palavras em um conjunto de documentos.\n"
   ]
  },
  {
   "cell_type": "code",
   "execution_count": 1,
   "metadata": {},
   "outputs": [],
   "source": [
    "#!pip install gdown"
   ]
  },
  {
   "cell_type": "code",
   "execution_count": 2,
   "metadata": {
    "executionInfo": {
     "elapsed": 7,
     "status": "ok",
     "timestamp": 1712419382131,
     "user": {
      "displayName": "Rodrigo Pinto Mesquita",
      "userId": "06734737613116891471"
     },
     "user_tz": 180
    },
    "id": "0WK82IWcHn1Q"
   },
   "outputs": [],
   "source": [
    "import pandas as pd\n",
    "import matplotlib.pyplot as plt\n",
    "import seaborn as sns\n",
    "import sklearn as sk\n",
    "from sklearn.feature_extraction.text import TfidfVectorizer\n",
    "import gdown"
   ]
  },
  {
   "cell_type": "code",
   "execution_count": 3,
   "metadata": {},
   "outputs": [],
   "source": [
    "url = 'https://drive.google.com/file/d/1pvjGFAWwZ42cPmFVNf0tOGSPpL0YEOif/view?usp=drive_link'\n",
    "output = '/workspaces/Faculdade/Datasets/emotions.csv'\n",
    "#gdown.download(url=url, output=output, fuzzy=True)"
   ]
  },
  {
   "cell_type": "code",
   "execution_count": 4,
   "metadata": {
    "executionInfo": {
     "elapsed": 3897,
     "status": "ok",
     "timestamp": 1712418891694,
     "user": {
      "displayName": "Rodrigo Pinto Mesquita",
      "userId": "06734737613116891471"
     },
     "user_tz": 180
    },
    "id": "OPh5u3jtHcJ8"
   },
   "outputs": [],
   "source": [
    "df = pd.read_csv('/workspaces/Faculdade/Datasets/emotions.csv')"
   ]
  },
  {
   "cell_type": "code",
   "execution_count": 5,
   "metadata": {
    "colab": {
     "base_uri": "https://localhost:8080/",
     "height": 206
    },
    "executionInfo": {
     "elapsed": 8,
     "status": "ok",
     "timestamp": 1712418898566,
     "user": {
      "displayName": "Rodrigo Pinto Mesquita",
      "userId": "06734737613116891471"
     },
     "user_tz": 180
    },
    "id": "HLHSajGEHrSb",
    "outputId": "bb4dd65b-18f2-4e64-e19a-bf4c397a6c5e"
   },
   "outputs": [
    {
     "data": {
      "text/html": [
       "<div>\n",
       "<style scoped>\n",
       "    .dataframe tbody tr th:only-of-type {\n",
       "        vertical-align: middle;\n",
       "    }\n",
       "\n",
       "    .dataframe tbody tr th {\n",
       "        vertical-align: top;\n",
       "    }\n",
       "\n",
       "    .dataframe thead th {\n",
       "        text-align: right;\n",
       "    }\n",
       "</style>\n",
       "<table border=\"1\" class=\"dataframe\">\n",
       "  <thead>\n",
       "    <tr style=\"text-align: right;\">\n",
       "      <th></th>\n",
       "      <th>Unnamed: 0</th>\n",
       "      <th>text</th>\n",
       "      <th>label</th>\n",
       "    </tr>\n",
       "  </thead>\n",
       "  <tbody>\n",
       "    <tr>\n",
       "      <th>0</th>\n",
       "      <td>0</td>\n",
       "      <td>i just feel really helpless and heavy hearted</td>\n",
       "      <td>4</td>\n",
       "    </tr>\n",
       "    <tr>\n",
       "      <th>1</th>\n",
       "      <td>1</td>\n",
       "      <td>ive enjoyed being able to slouch about relax a...</td>\n",
       "      <td>0</td>\n",
       "    </tr>\n",
       "    <tr>\n",
       "      <th>2</th>\n",
       "      <td>2</td>\n",
       "      <td>i gave up my internship with the dmrg and am f...</td>\n",
       "      <td>4</td>\n",
       "    </tr>\n",
       "    <tr>\n",
       "      <th>3</th>\n",
       "      <td>3</td>\n",
       "      <td>i dont know i feel so lost</td>\n",
       "      <td>0</td>\n",
       "    </tr>\n",
       "    <tr>\n",
       "      <th>4</th>\n",
       "      <td>4</td>\n",
       "      <td>i am a kindergarten teacher and i am thoroughl...</td>\n",
       "      <td>4</td>\n",
       "    </tr>\n",
       "  </tbody>\n",
       "</table>\n",
       "</div>"
      ],
      "text/plain": [
       "   Unnamed: 0                                               text  label\n",
       "0           0      i just feel really helpless and heavy hearted      4\n",
       "1           1  ive enjoyed being able to slouch about relax a...      0\n",
       "2           2  i gave up my internship with the dmrg and am f...      4\n",
       "3           3                         i dont know i feel so lost      0\n",
       "4           4  i am a kindergarten teacher and i am thoroughl...      4"
      ]
     },
     "execution_count": 5,
     "metadata": {},
     "output_type": "execute_result"
    }
   ],
   "source": [
    "df.head()"
   ]
  },
  {
   "cell_type": "code",
   "execution_count": 6,
   "metadata": {
    "executionInfo": {
     "elapsed": 314,
     "status": "ok",
     "timestamp": 1712419051878,
     "user": {
      "displayName": "Rodrigo Pinto Mesquita",
      "userId": "06734737613116891471"
     },
     "user_tz": 180
    },
    "id": "Pnz8gUFnH4Rr"
   },
   "outputs": [],
   "source": [
    "df = df.drop('Unnamed: 0', axis=1)"
   ]
  },
  {
   "cell_type": "code",
   "execution_count": 7,
   "metadata": {
    "colab": {
     "base_uri": "https://localhost:8080/",
     "height": 256
    },
    "executionInfo": {
     "elapsed": 1735,
     "status": "ok",
     "timestamp": 1712419201101,
     "user": {
      "displayName": "Rodrigo Pinto Mesquita",
      "userId": "06734737613116891471"
     },
     "user_tz": 180
    },
    "id": "6zLzE-AZIfUE",
    "outputId": "68223085-6f8e-4531-9437-1685a56a4e59"
   },
   "outputs": [
    {
     "data": {
      "image/png": "[encoded data removed]",
      "text/plain": [
       "<Figure size 200x200 with 1 Axes>"
      ]
     },
     "metadata": {},
     "output_type": "display_data"
    }
   ],
   "source": [
    "plt.figure(figsize=(2,2))\n",
    "plt.title('Distribuição do Target')\n",
    "sns.countplot(df, x='label')\n",
    "plt.show()"
   ]
  },
  {
   "cell_type": "code",
   "execution_count": 8,
   "metadata": {
    "executionInfo": {
     "elapsed": 250,
     "status": "ok",
     "timestamp": 1712419269511,
     "user": {
      "displayName": "Rodrigo Pinto Mesquita",
      "userId": "06734737613116891471"
     },
     "user_tz": 180
    },
    "id": "G6vl5Wi9I3DT"
   },
   "outputs": [],
   "source": [
    "x = df.drop(['label'], axis=1)\n",
    "y = df['label']"
   ]
  },
  {
   "cell_type": "code",
   "execution_count": 9,
   "metadata": {},
   "outputs": [],
   "source": [
    "#Tive de reduzir o tamanho do Dataset pois o Kernel estava sendo encerrado\n",
    "x = x.iloc[0:5000]"
   ]
  },
  {
   "cell_type": "code",
   "execution_count": 10,
   "metadata": {
    "executionInfo": {
     "elapsed": 243,
     "status": "ok",
     "timestamp": 1712419544027,
     "user": {
      "displayName": "Rodrigo Pinto Mesquita",
      "userId": "06734737613116891471"
     },
     "user_tz": 180
    },
    "id": "9kFWuSrhJIDz"
   },
   "outputs": [],
   "source": [
    "#Calculando o TF-IDF\n",
    "tfidf_vectorizer = TfidfVectorizer()\n",
    "tfidf_matrix = tfidf_vectorizer.fit_transform(x['text'])"
   ]
  },
  {
   "cell_type": "code",
   "execution_count": 11,
   "metadata": {},
   "outputs": [],
   "source": [
    "#Extraindo as palavras e as pontuações TF-IDF\n",
    "feature_names = tfidf_vectorizer.get_feature_names_out()\n",
    "dense_matrix = tfidf_matrix.todense()"
   ]
  },
  {
   "cell_type": "code",
   "execution_count": 12,
   "metadata": {},
   "outputs": [],
   "source": [
    "# Passando para um dicionário\n",
    "tfidf_scores = {}\n",
    "for term, score in zip(feature_names, dense_matrix.tolist()[0]):\n",
    "    tfidf_scores[term] = score"
   ]
  },
  {
   "cell_type": "code",
   "execution_count": 13,
   "metadata": {},
   "outputs": [
    {
     "name": "stdout",
     "output_type": "stream",
     "text": [
      "and: 0.12234450214524145\n",
      "feel: 0.09601710853435212\n",
      "hearted: 0.5997626960897163\n",
      "heavy: 0.5722042115845049\n",
      "helpless: 0.4113165343529439\n",
      "just: 0.23194617899510295\n",
      "really: 0.2563186784164205\n"
     ]
    }
   ],
   "source": [
    "# Mostrando os resultados\n",
    "for chave, valor in tfidf_scores.items():\n",
    "    if valor > 0:\n",
    "        print(f'{chave}: {valor}')\n",
    "    "
   ]
  },
  {
   "cell_type": "markdown",
   "metadata": {
    "id": "sREy3nfXFCIL"
   },
   "source": [
    "##2.Modelagem de K-Nearest Neighbors (KNN): Criar modelos simples de classificação utilizando a base de dados codificada por TF-IDF.\n"
   ]
  },
  {
   "cell_type": "code",
   "execution_count": null,
   "metadata": {
    "id": "Xit5V3Lx_cuz"
   },
   "outputs": [],
   "source": []
  },
  {
   "cell_type": "markdown",
   "metadata": {
    "id": "JahAH4DsBm7i"
   },
   "source": [
    "##2.a. Explore diferentes valores para o parâmetro K do KNN e analise seu impacto nos resultados obtidos (através da acurácia do modelo para os dados de validação).\n"
   ]
  },
  {
   "cell_type": "markdown",
   "metadata": {
    "id": "DQfzUwfbBoKK"
   },
   "source": [
    "##3.Avaliação de Modelos: Aplicar técnicas de validação cruzada para estimar a eficiência dos modelos desenvolvidos."
   ]
  },
  {
   "cell_type": "markdown",
   "metadata": {
    "id": "SNtCP3b6BolB"
   },
   "source": [
    "\n",
    "##4.Avaliação de Classificadores Binários: Utilizar figuras de mérito como Curva ROC, precisão, recall, f1-score, sensibilidade e especificidade para avaliar os modelos."
   ]
  },
  {
   "cell_type": "markdown",
   "metadata": {
    "id": "aU6fSYXbBq1E"
   },
   "source": [
    "##5.Baseado nos valores encontrados para as diferentes figuras de mérito, interprete os resultados e disserte sobre a eficiência do classificador criado."
   ]
  }
 ],
 "metadata": {
  "colab": {
   "authorship_tag": "ABX9TyM59Zn6giXtjbkiqOkKckf9",
   "mount_file_id": "1xAUYcN6ZuIR_NzwocMMAUIKimgBajrR5",
   "provenance": []
  },
  "kernelspec": {
   "display_name": "Python 3 (ipykernel)",
   "language": "python",
   "name": "python3"
  },
  "language_info": {
   "codemirror_mode": {
    "name": "ipython",
    "version": 3
   },
   "file_extension": ".py",
   "mimetype": "text/x-python",
   "name": "python",
   "nbconvert_exporter": "python",
   "pygments_lexer": "ipython3",
   "version": "3.10.13"
  }
 },
 "nbformat": 4,
 "nbformat_minor": 4
}
