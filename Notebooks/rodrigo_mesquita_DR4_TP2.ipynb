{
  "cells": [
    {
      "cell_type": "markdown",
      "metadata": {
        "id": "zLUXZcnCIpQ2"
      },
      "source": [
        "# **Rodrigo_Mesquita_DR4_TP2**\n",
        "## **Inteligência Artificial: Clusterização [24E2_4]**"
      ]
    },
    {
      "cell_type": "markdown",
      "metadata": {
        "id": "7y_Y0L2-JBp1"
      },
      "source": [
        "## 1.Com um conjunto de dados de sua escolha, aplique a técnica de clusterização hierárquica e posteriormente represente o dendrograma. Em seguida, insira duas linhas no dendrograma e determine o número de clusters associados a cada linha."
      ]
    },
    {
      "cell_type": "markdown",
      "metadata": {},
      "source": [
        "## 2.Com base no conjunto de dados dos pinguins, empregue os métodos Elbow e Silhouette para determinar o número ótimo de clusters (k) para o modelo KMeans. Represente graficamente os resultados e conduza uma análise para identificar o valor mais apropriado de k."
      ]
    },
    {
      "cell_type": "markdown",
      "metadata": {},
      "source": [
        "## 3.Realize o mesmo teste feito na questão 2 utilizando K-Medoids."
      ]
    },
    {
      "cell_type": "markdown",
      "metadata": {},
      "source": [
        "## 4.Empregando o conjunto de dados sobre pinguins, proceda à redução de dimensionalidade por meio do PCA e realize uma análise comparativa do desempenho com a aplicação do algoritmo KMeans. Avalie o número ótimo de características requeridas pelo PCA e pelo KMeans para alcançar o desempenho máximo."
      ]
    }
  ],
  "metadata": {
    "colab": {
      "authorship_tag": "ABX9TyMHfRAdA9hGYQhj6cKXJwLj",
      "provenance": []
    },
    "kernelspec": {
      "display_name": "Python 3",
      "name": "python3"
    },
    "language_info": {
      "codemirror_mode": {
        "name": "ipython",
        "version": 3
      },
      "file_extension": ".py",
      "mimetype": "text/x-python",
      "name": "python",
      "nbconvert_exporter": "python",
      "pygments_lexer": "ipython3",
      "version": "3.10.13"
    }
  },
  "nbformat": 4,
  "nbformat_minor": 0
}
