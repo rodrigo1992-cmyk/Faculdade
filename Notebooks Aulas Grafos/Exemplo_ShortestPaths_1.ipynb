{
 "cells": [
  {
   "cell_type": "markdown",
   "id": "9bf8c5c6-6754-44d5-90c6-eb07dffa27eb",
   "metadata": {},
   "source": [
    "# 🛡️ Análise de Risco em Rede Militar com `shortestPaths` + Visualização"
   ]
  },
  {
   "cell_type": "markdown",
   "id": "40948d92-df17-4396-aad8-036cace74ac9",
   "metadata": {},
   "source": [
    "## 🧠 Pergunta:\n",
    "\n",
    "Em uma rede de comunicações militares, foi detectada uma invasão no nó `\"Base Comprometida\"`.  \n",
    "**Quais bases e instalações podem ser afetadas (direta ou indiretamente) pela comunicação dessa base, em até 2 conexões?**\n",
    "\n",
    "Vamos modelar essa rede como um grafo direcionado e utilizar o algoritmo `shortestPaths` do GraphFrames.\n"
   ]
  },
  {
   "cell_type": "code",
   "execution_count": 4,
   "id": "1c0873cb-9657-4926-8ea5-f850830ffeb6",
   "metadata": {},
   "outputs": [],
   "source": [
    "from pyspark.sql import SparkSession"
   ]
  },
  {
   "cell_type": "code",
   "execution_count": 5,
   "id": "7229e25e-30f3-44f2-b7f3-0c19fcfc5fa9",
   "metadata": {},
   "outputs": [],
   "source": [
    "spark = SparkSession.builder \\\n",
    "    .appName((\"RedeMilitarShortestPath\")) \\\n",
    "    .config(\"spark.jars.packages\", \"graphframes:graphframes:0.8.4-spark3.5-s_2.12\") \\\n",
    "    .getOrCreate()"
   ]
  },
  {
   "cell_type": "code",
   "execution_count": 6,
   "id": "1a00e707-3720-431e-b232-4a3410c9a5ec",
   "metadata": {},
   "outputs": [],
   "source": [
    "from graphframes import GraphFrame\n"
   ]
  },
  {
   "cell_type": "code",
   "execution_count": 7,
   "id": "ff1de521-f16a-4504-8b41-90fe7a622c6c",
   "metadata": {},
   "outputs": [],
   "source": [
    "bases = [\n",
    "    \"Comando Central\", \"Base Norte\", \"Base Sul\", \"Base Leste\", \"Base Oeste\",\n",
    "    \"Base Avancada A\", \"Base Avancada B\", \"Radar Alfa\", \"Radar Bravo\",\n",
    "    \"Hangar 1\", \"Hangar 2\", \"Arsenal\", \"Bunker\", \"Base Comprometida\", \n",
    "    \"Sala de Comunicacao\", \"Centro de Treinamento\", \"Controle Aereo\", \n",
    "    \"Posto de Fronteira\", \"Torre de Vigia\", \"Laboratorio\"\n",
    "]"
   ]
  },
  {
   "cell_type": "code",
   "execution_count": 10,
   "id": "519b4b82-f8f6-4d95-ace5-b17aeaccd2c3",
   "metadata": {},
   "outputs": [
    {
     "name": "stdout",
     "output_type": "stream",
     "text": [
      "+--------------------+\n",
      "|                  id|\n",
      "+--------------------+\n",
      "|     Comando Central|\n",
      "|          Base Norte|\n",
      "|            Base Sul|\n",
      "|          Base Leste|\n",
      "|          Base Oeste|\n",
      "|     Base Avancada A|\n",
      "|     Base Avancada B|\n",
      "|          Radar Alfa|\n",
      "|         Radar Bravo|\n",
      "|            Hangar 1|\n",
      "|            Hangar 2|\n",
      "|             Arsenal|\n",
      "|              Bunker|\n",
      "|   Base Comprometida|\n",
      "| Sala de Comunicacao|\n",
      "|Centro de Treinam...|\n",
      "|      Controle Aereo|\n",
      "|  Posto de Fronteira|\n",
      "|      Torre de Vigia|\n",
      "|         Laboratorio|\n",
      "+--------------------+\n",
      "\n"
     ]
    }
   ],
   "source": [
    "vertices = spark.createDataFrame([(b,) for b in bases], [\"id\"])\n",
    "vertices.show()"
   ]
  },
  {
   "cell_type": "code",
   "execution_count": 13,
   "id": "265821cc-560b-41a6-aa7a-3a311f0188d2",
   "metadata": {},
   "outputs": [],
   "source": [
    "edges_list_dir = [\n",
    "    (\"Comando Central\", \"Base Norte\"),\n",
    "    # Como se estivesse invertendo ( \"Base Norte\",\"Comando Central\"), \n",
    "\n",
    "    (\"Comando Central\", \"Base Sul\"),\n",
    "    (\"Base Norte\", \"Radar Alfa\"),\n",
    "    (\"Base Sul\", \"Radar Bravo\"),\n",
    "    (\"Base Norte\", \"Base Avancada A\"),\n",
    "    (\"Base Sul\", \"Base Avancada B\"),\n",
    "    (\"Base Avancada A\", \"Hangar 1\"),\n",
    "    (\"Base Avancada B\", \"Hangar 2\"),\n",
    "    (\"Radar Alfa\", \"Controle Aereo\"),\n",
    "    (\"Radar Bravo\", \"Controle Aereo\"),\n",
    "    (\"Controle Aereo\", \"Sala de Comunicacao\"),\n",
    "    (\"Sala de Comunicacao\", \"Base Comprometida\"),\n",
    "    (\"Base Comprometida\", \"Arsenal\"),\n",
    "    (\"Base Comprometida\", \"Bunker\"),\n",
    "    (\"Base Comprometida\", \"Posto de Fronteira\"),\n",
    "    (\"Arsenal\", \"Laboratorio\"),\n",
    "    (\"Bunker\", \"Torre de Vigia\"),\n",
    "    (\"Base Comprometida\", \"Centro de Treinamento\")\n",
    "]"
   ]
  },
  {
   "cell_type": "code",
   "execution_count": 15,
   "id": "28ef3436-c3c9-4ab5-bb29-5a36889ca728",
   "metadata": {},
   "outputs": [],
   "source": [
    "edges_list_nondir = edges_list_dir + [(dst, src) for (src, dst) in edges_list_dir]\n"
   ]
  },
  {
   "cell_type": "code",
   "execution_count": 17,
   "id": "e5155520-14b2-4590-8704-d4a7c4fe4d80",
   "metadata": {},
   "outputs": [],
   "source": [
    "edges = spark.createDataFrame(edges_list_nondir, ['src','dst'])"
   ]
  },
  {
   "cell_type": "code",
   "execution_count": 18,
   "id": "170ad2e4-654f-4634-aa0d-558ef74a415b",
   "metadata": {},
   "outputs": [],
   "source": [
    "g = GraphFrame(vertices,edges)"
   ]
  },
  {
   "cell_type": "code",
   "execution_count": 19,
   "id": "5735f0d4-15ba-448c-9fb7-61b185b15e5f",
   "metadata": {},
   "outputs": [],
   "source": [
    "shortest = g.shortestPaths(landmarks=['Base Comprometida'])"
   ]
  },
  {
   "cell_type": "code",
   "execution_count": 20,
   "id": "3c48d053-6cdf-4149-b264-3e463b6e4237",
   "metadata": {},
   "outputs": [
    {
     "name": "stdout",
     "output_type": "stream",
     "text": [
      "+---------------------+------------------------+\n",
      "|id                   |distances               |\n",
      "+---------------------+------------------------+\n",
      "|Arsenal              |{Base Comprometida -> 1}|\n",
      "|Base Avancada A      |{Base Comprometida -> 5}|\n",
      "|Base Avancada B      |{Base Comprometida -> 5}|\n",
      "|Base Comprometida    |{Base Comprometida -> 0}|\n",
      "|Base Leste           |{}                      |\n",
      "|Base Norte           |{Base Comprometida -> 4}|\n",
      "|Base Oeste           |{}                      |\n",
      "|Base Sul             |{Base Comprometida -> 4}|\n",
      "|Bunker               |{Base Comprometida -> 1}|\n",
      "|Centro de Treinamento|{Base Comprometida -> 1}|\n",
      "|Comando Central      |{Base Comprometida -> 5}|\n",
      "|Controle Aereo       |{Base Comprometida -> 2}|\n",
      "|Hangar 1             |{Base Comprometida -> 6}|\n",
      "|Hangar 2             |{Base Comprometida -> 6}|\n",
      "|Laboratorio          |{Base Comprometida -> 2}|\n",
      "|Posto de Fronteira   |{Base Comprometida -> 1}|\n",
      "|Radar Alfa           |{Base Comprometida -> 3}|\n",
      "|Radar Bravo          |{Base Comprometida -> 3}|\n",
      "|Sala de Comunicacao  |{Base Comprometida -> 1}|\n",
      "|Torre de Vigia       |{Base Comprometida -> 2}|\n",
      "+---------------------+------------------------+\n",
      "\n"
     ]
    }
   ],
   "source": [
    "shortest.select(\"id\", \"distances\").orderBy(\"id\").show(truncate=False)"
   ]
  },
  {
   "cell_type": "code",
   "execution_count": 21,
   "id": "57fefd42-5856-4a32-b7d4-dcb726b317d7",
   "metadata": {},
   "outputs": [],
   "source": [
    "from pyspark.sql.functions import col"
   ]
  },
  {
   "cell_type": "code",
   "execution_count": 22,
   "id": "2cd8c049-40a7-41c6-b410-15b5748ab9f0",
   "metadata": {},
   "outputs": [
    {
     "name": "stdout",
     "output_type": "stream",
     "text": [
      "+---------------------+------------------------+\n",
      "|id                   |distances               |\n",
      "+---------------------+------------------------+\n",
      "|Arsenal              |{Base Comprometida -> 1}|\n",
      "|Bunker               |{Base Comprometida -> 1}|\n",
      "|Centro de Treinamento|{Base Comprometida -> 1}|\n",
      "|Controle Aereo       |{Base Comprometida -> 2}|\n",
      "|Laboratorio          |{Base Comprometida -> 2}|\n",
      "|Posto de Fronteira   |{Base Comprometida -> 1}|\n",
      "|Sala de Comunicacao  |{Base Comprometida -> 1}|\n",
      "|Torre de Vigia       |{Base Comprometida -> 2}|\n",
      "+---------------------+------------------------+\n",
      "\n"
     ]
    }
   ],
   "source": [
    "\n",
    "shortest.filter (\n",
    "    (col('distances')['Base Comprometida'] == 1) | \n",
    "    (col('distances')['Base Comprometida'] == 2)\n",
    ").select(\"id\", \"distances\").orderBy(\"id\").show(truncate=False)"
   ]
  },
  {
   "cell_type": "code",
   "execution_count": 23,
   "id": "3e6e5df8-4e23-49ef-8140-19a10d1800cc",
   "metadata": {},
   "outputs": [
    {
     "name": "stdout",
     "output_type": "stream",
     "text": [
      "+---------------------+------------------------+\n",
      "|id                   |distances               |\n",
      "+---------------------+------------------------+\n",
      "|Arsenal              |{Base Comprometida -> 1}|\n",
      "|Base Comprometida    |{Base Comprometida -> 0}|\n",
      "|Bunker               |{Base Comprometida -> 1}|\n",
      "|Centro de Treinamento|{Base Comprometida -> 1}|\n",
      "|Controle Aereo       |{Base Comprometida -> 2}|\n",
      "|Laboratorio          |{Base Comprometida -> 2}|\n",
      "|Posto de Fronteira   |{Base Comprometida -> 1}|\n",
      "|Radar Alfa           |{Base Comprometida -> 3}|\n",
      "|Radar Bravo          |{Base Comprometida -> 3}|\n",
      "|Sala de Comunicacao  |{Base Comprometida -> 1}|\n",
      "|Torre de Vigia       |{Base Comprometida -> 2}|\n",
      "+---------------------+------------------------+\n",
      "\n"
     ]
    }
   ],
   "source": [
    "## A MEsma coisa\n",
    "shortest.filter (\n",
    "    (col('distances')['Base Comprometida'] <= 3) \n",
    ").select(\"id\", \"distances\").orderBy(\"id\").show(truncate=False)"
   ]
  },
  {
   "cell_type": "code",
   "execution_count": 24,
   "id": "60d25ee6-19c9-461e-8280-0772227405f6",
   "metadata": {},
   "outputs": [],
   "source": [
    "vertices = [\n",
    "    \"Base Comprometida\", \"Base Norte\", \"Radar Alfa\", \"Posto de Vigia\",\n",
    "    \"Hangar Bravo\", \"Arsenal Secundario\", \"Estacao Delta\", \"Laboratorio Quimico\",\n",
    "    \"Central de Comunicacoes\", \"Comando Regional\",\n",
    "    \"Base Leste\", \"Base Sul\", \"Deposito Avancado\", \"Unidade Medica\",\n",
    "    \"Torre Eco\", \"Hangar Alpha\", \"Oficina Tecnica\"\n",
    "]\n",
    "v_df = spark.createDataFrame([(v,) for v in vertices], [\"id\"])\n",
    "\n",
    "# 2. Arestas direcionadas originais\n",
    "e_df = spark.createDataFrame([\n",
    "    (\"Central de Comunicacoes\", \"Base Comprometida\"),\n",
    "    (\"Base Comprometida\", \"Base Norte\"),\n",
    "    (\"Base Norte\", \"Radar Alfa\"),\n",
    "    (\"Radar Alfa\", \"Posto de Vigia\"),\n",
    "    (\"Base Norte\", \"Hangar Bravo\"),\n",
    "    (\"Hangar Bravo\", \"Arsenal Secundario\"),\n",
    "    (\"Base Norte\", \"Estacao Delta\"),\n",
    "    (\"Estacao Delta\", \"Laboratorio Quimico\"),\n",
    "    (\"Comando Regional\", \"Central de Comunicacoes\"),\n",
    "    (\"Base Leste\", \"Base Sul\"),\n",
    "    (\"Base Sul\", \"Deposito Avancado\"),\n",
    "    (\"Deposito Avancado\", \"Unidade Medica\"),\n",
    "    (\"Base Leste\", \"Torre Eco\"),\n",
    "    (\"Torre Eco\", \"Hangar Alpha\"),\n",
    "    (\"Hangar Alpha\", \"Base Sul\"),\n",
    "    (\"Torre Eco\", \"Oficina Tecnica\"),\n",
    "    (\"Unidade Medica\", \"Oficina Tecnica\")\n",
    "], [\"src\", \"dst\"])\n",
    "\n",
    "# 3. Duplicar arestas no sentido inverso\n",
    "e_invertido = e_df.select(col(\"dst\").alias(\"src\"), col(\"src\").alias(\"dst\"))\n",
    "e_nondir = e_df.union(e_invertido).distinct()\n"
   ]
  },
  {
   "cell_type": "code",
   "execution_count": 26,
   "id": "a2a95d15-bbb0-4d04-81ad-89efbabb80e7",
   "metadata": {},
   "outputs": [],
   "source": [
    "g2 = GraphFrame(v_df, e_nondir)"
   ]
  },
  {
   "cell_type": "code",
   "execution_count": 33,
   "id": "f6effda1-0839-4cbf-805d-1c155942e944",
   "metadata": {},
   "outputs": [],
   "source": [
    "shortest = g2.shortestPaths(landmarks=['Base Comprometida', 'Base Norte'])"
   ]
  },
  {
   "cell_type": "code",
   "execution_count": 36,
   "id": "45d47185-baed-45d1-945c-74ec72830323",
   "metadata": {},
   "outputs": [
    {
     "name": "stdout",
     "output_type": "stream",
     "text": [
      "+-----------------------+-----------------------------------------+\n",
      "|id                     |distances                                |\n",
      "+-----------------------+-----------------------------------------+\n",
      "|Base Comprometida      |{Base Comprometida -> 0, Base Norte -> 1}|\n",
      "|Base Norte             |{Base Comprometida -> 1, Base Norte -> 0}|\n",
      "|Central de Comunicacoes|{Base Comprometida -> 1, Base Norte -> 2}|\n",
      "|Estacao Delta          |{Base Comprometida -> 2, Base Norte -> 1}|\n",
      "|Hangar Bravo           |{Base Comprometida -> 2, Base Norte -> 1}|\n",
      "|Radar Alfa             |{Base Comprometida -> 2, Base Norte -> 1}|\n",
      "+-----------------------+-----------------------------------------+\n",
      "\n"
     ]
    }
   ],
   "source": [
    "shortest.filter (\n",
    "    (col('distances')['Base Comprometida'] <= 2) &\n",
    "    (col('distances')['Base Norte'] <= 2) \n",
    ").select(\"id\", \"distances\").orderBy(\"id\").show(truncate=False)"
   ]
  }
 ],
 "metadata": {
  "kernelspec": {
   "display_name": "Python 3 (ipykernel)",
   "language": "python",
   "name": "python3"
  },
  "language_info": {
   "codemirror_mode": {
    "name": "ipython",
    "version": 3
   },
   "file_extension": ".py",
   "mimetype": "text/x-python",
   "name": "python",
   "nbconvert_exporter": "python",
   "pygments_lexer": "ipython3",
   "version": "3.11.6"
  }
 },
 "nbformat": 4,
 "nbformat_minor": 5
}
