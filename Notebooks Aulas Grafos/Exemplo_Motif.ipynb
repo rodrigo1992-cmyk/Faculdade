{
 "cells": [
  {
   "cell_type": "markdown",
   "id": "4973612c-935c-4fdc-aed8-940d61cf75be",
   "metadata": {},
   "source": [
    "# 🕵️‍♂️ Investigação Criminal Complexa: Operação Hydra\n",
    "\n",
    "---\n",
    "\n",
    "## 🎬 História\n",
    "\n",
    "A polícia está investigando uma **rede criminosa sofisticada**, onde:\n",
    "\n",
    "- 💸 **Líderes movimentam dinheiro** através de vários **laranjas**.\n",
    "- 📞 **Os laranjas fazem ligações telefônicas** para os **executores do crime**.\n",
    "- 🤝 **Existem encontros secretos** para combinar os detalhes das operações.\n",
    "\n",
    "---\n",
    "\n",
    "## 🎯 Objetivo da Investigação\n",
    "\n",
    "Detectar padrões de ações criminosas, seguindo a sequência:\n",
    "\n",
    "1. **Transferência de dinheiro** ➔ \n",
    "2. **Telefonema de coordenação** ➔ \n",
    "3. **Encontro físico para execução do crime**\n",
    "\n",
    "---\n",
    "\n",
    "## 🧠 Estratégia com Motifs\n",
    "\n",
    "Utilizar **busca de padrões (Motif Finding)** no grafo para encontrar:\n",
    "\n",
    "- `(a)-[e1]->(b); (b)-[e2]->(c); (c)-[e3]->(d)`\n",
    "\n",
    "Onde:\n",
    "- `e1.relacao = 'transferiu_dinheiro'`\n",
    "- `e2.relacao = 'telefonou_para'`\n",
    "- `e3.relacao = 'encontrou'`\n",
    "\n",
    "✅ Assim conseguimos identificar **rotas criminosas complexas** entre líderes, laranjas e executores.\n",
    "\n",
    "---"
   ]
  },
  {
   "cell_type": "code",
   "execution_count": 1,
   "id": "c4a573a3-7310-4fc1-96c0-bc5467cfbd12",
   "metadata": {},
   "outputs": [],
   "source": [
    "from pyspark.sql import SparkSession\n",
    "from pyspark.sql import SparkSession\n",
    "spark = SparkSession.builder \\\n",
    "    .appName(\"Investigacao completa motif\") \\\n",
    "    .config(\"spark.jars.packages\", \"graphframes:graphframes:0.8.4-spark3.5-s_2.12\") \\\n",
    "    .getOrCreate()\n",
    "\n",
    "from graphframes import GraphFrame"
   ]
  },
  {
   "cell_type": "code",
   "execution_count": 2,
   "id": "be005cfc-413c-49a6-8927-a7ffa30be6c6",
   "metadata": {},
   "outputs": [],
   "source": [
    "# Vértices: Pessoas\n",
    "vertices = spark.createDataFrame([\n",
    "    (\"P1\", \"André\"),\n",
    "    (\"P2\", \"Bruno\"),\n",
    "    (\"P3\", \"Carlos\"),\n",
    "    (\"P4\", \"Diana\"),\n",
    "    (\"P5\", \"Eduardo\"),\n",
    "    (\"P6\", \"Fernanda\"),\n",
    "    (\"P7\", \"Gabriel\"),\n",
    "    (\"P8\", \"Helena\"),\n",
    "    (\"P9\", \"Igor\")\n",
    "], [\"id\", \"nome\"])\n",
    "\n",
    "# Arestas: Conexões criminosas\n",
    "edges = spark.createDataFrame([\n",
    "    (\"P1\", \"P2\", \"transferiu_dinheiro\"),\n",
    "    (\"P1\", \"P3\", \"transferiu_dinheiro\"),\n",
    "    (\"P2\", \"P4\", \"telefonou_para\"),\n",
    "    (\"P2\", \"P5\", \"telefonou_para\"),\n",
    "    (\"P3\", \"P5\", \"telefonou_para\"),\n",
    "    (\"P4\", \"P6\", \"encontrou\"),\n",
    "    (\"P5\", \"P7\", \"encontrou\"),\n",
    "    (\"P5\", \"P8\", \"telefonou_para\"),\n",
    "    (\"P8\", \"P9\", \"encontrou\"),\n",
    "    (\"P7\", \"P9\", \"telefonou_para\"),\n",
    "    (\"P3\", \"P8\", \"transferiu_dinheiro\"),\n",
    "    (\"P6\", \"P9\", \"telefonou_para\")\n",
    "], [\"src\", \"dst\", \"relacao\"])"
   ]
  },
  {
   "cell_type": "raw",
   "id": "86a0ccaf-a5b2-403b-a7ee-4b85f31cdb66",
   "metadata": {},
   "source": [
    "P1 --$--> P2 --📞--> P4 --🤝--> P6 --📞--> P9\n",
    " |           |         |        | \n",
    " |           📞--> P5 --🤝--> P7 --📞--> P9\n",
    " |                       |\n",
    " $--> P3 --📞--> P5       $--> P8 --🤝--> P9\n",
    "               |\n",
    "               📞--> P8"
   ]
  },
  {
   "cell_type": "code",
   "execution_count": 3,
   "id": "8b89b07d-fc82-4680-913f-b446d399598f",
   "metadata": {},
   "outputs": [],
   "source": [
    "rede_hydra = GraphFrame(vertices,edges)"
   ]
  },
  {
   "cell_type": "code",
   "execution_count": 8,
   "id": "1dd82f59-5639-408a-a2dc-d321e9d48a52",
   "metadata": {},
   "outputs": [],
   "source": [
    "motif_complexo = rede_hydra.find(\n",
    "    \"(a)-[e1]->(b);(b)-[e2]->(c);(c)-[e3]->(d)\").filter(\n",
    "       \"(e1.relacao = 'transferiu_dinheiro') AND (e2.relacao = 'telefonou_para') AND (e3.relacao = 'encontrou')\" \n",
    "    )"
   ]
  },
  {
   "cell_type": "code",
   "execution_count": 9,
   "id": "7195bab1-c266-40d5-af72-0d447a119ee2",
   "metadata": {},
   "outputs": [
    {
     "name": "stdout",
     "output_type": "stream",
     "text": [
      "+-----------+--------------------+------------+--------------------+-------------+-------------------+--------------+\n",
      "|          a|                  e1|           b|                  e2|            c|                 e3|             d|\n",
      "+-----------+--------------------+------------+--------------------+-------------+-------------------+--------------+\n",
      "|{P1, André}|{P1, P2, transfer...| {P2, Bruno}|{P2, P4, telefono...|  {P4, Diana}|{P4, P6, encontrou}|{P6, Fernanda}|\n",
      "|{P1, André}|{P1, P3, transfer...|{P3, Carlos}|{P3, P5, telefono...|{P5, Eduardo}|{P5, P7, encontrou}| {P7, Gabriel}|\n",
      "|{P1, André}|{P1, P2, transfer...| {P2, Bruno}|{P2, P5, telefono...|{P5, Eduardo}|{P5, P7, encontrou}| {P7, Gabriel}|\n",
      "+-----------+--------------------+------------+--------------------+-------------+-------------------+--------------+\n",
      "\n"
     ]
    }
   ],
   "source": [
    "motif_complexo.show()"
   ]
  },
  {
   "cell_type": "code",
   "execution_count": 15,
   "id": "b520f5be-adfe-4a83-98ee-157aff352feb",
   "metadata": {},
   "outputs": [],
   "source": [
    "motif_complexo = rede_hydra.find(\n",
    "    \"(a)-[e1]->(b);(b)-[e2]->(c);(c)-[e3]->(d)\").filter(\n",
    "       \"(e1.relacao = 'telefonou_para') AND (e2.relacao = 'transferiu_dinheiro') AND (e3.relacao = 'encontrou')\" \n",
    "    )"
   ]
  },
  {
   "cell_type": "code",
   "execution_count": 16,
   "id": "97f07a54-b80c-4c32-86f6-b87f0e72ab67",
   "metadata": {},
   "outputs": [
    {
     "name": "stdout",
     "output_type": "stream",
     "text": [
      "+---+---+---+---+---+---+---+\n",
      "|  a| e1|  b| e2|  c| e3|  d|\n",
      "+---+---+---+---+---+---+---+\n",
      "+---+---+---+---+---+---+---+\n",
      "\n"
     ]
    }
   ],
   "source": [
    "motif_complexo.show()"
   ]
  }
 ],
 "metadata": {
  "kernelspec": {
   "display_name": "Python 3 (ipykernel)",
   "language": "python",
   "name": "python3"
  },
  "language_info": {
   "codemirror_mode": {
    "name": "ipython",
    "version": 3
   },
   "file_extension": ".py",
   "mimetype": "text/x-python",
   "name": "python",
   "nbconvert_exporter": "python",
   "pygments_lexer": "ipython3",
   "version": "3.11.6"
  }
 },
 "nbformat": 4,
 "nbformat_minor": 5
}
