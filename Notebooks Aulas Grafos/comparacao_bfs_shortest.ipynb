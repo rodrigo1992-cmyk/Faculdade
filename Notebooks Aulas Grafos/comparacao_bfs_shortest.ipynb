{
 "cells": [
  {
   "cell_type": "markdown",
   "id": "3ffc4e52-e89e-4ade-ab7b-bc188a414ea5",
   "metadata": {},
   "source": [
    "| Aspecto                     | `bfs` (Breadth-First Search)             | `shortestPaths` (Caminho Mínimo)           |\n",
    "|-----------------------------|------------------------------------------|--------------------------------------------|\n",
    "| **Tipo de entrada**         | Nó de origem e destino                   | Lista de nós-alvo (*landmarks*)            |\n",
    "| **Retorno**                 | Caminho encontrado                       | Distâncias mínimas até os landmarks         |\n",
    "| **Caminho mais curto?**     | Não necessariamente                      | Sim (menor número de saltos)               |\n",
    "| **Retorna o caminho?**      | ✅ Sim, com vértices e arestas           | ❌ Não, apenas o número de saltos           |\n",
    "| **Múltiplos destinos?**     | ❌ Não                                    | ✅ Sim                                      |\n",
    "| **Suporte a filtros?**      | ✅ `edgeFilter`, `vertexFilter`          | ❌                                          |\n",
    "| **Usa pesos das arestas?** | ❌ Não                                    | ❌ Não                                      |\n",
    "| **Formato de saída**        | Caminho estruturado (v0, e0, v1...)      | Coluna `distances` com mapa `{landmark: N}`|\n",
    "| **Caso de uso típico**      | Navegação com restrições, investigações  | Proximidade a hubs, análise de alcance     |\n"
   ]
  }
 ],
 "metadata": {
  "kernelspec": {
   "display_name": "Python 3 (ipykernel)",
   "language": "python",
   "name": "python3"
  },
  "language_info": {
   "codemirror_mode": {
    "name": "ipython",
    "version": 3
   },
   "file_extension": ".py",
   "mimetype": "text/x-python",
   "name": "python",
   "nbconvert_exporter": "python",
   "pygments_lexer": "ipython3",
   "version": "3.11.6"
  }
 },
 "nbformat": 4,
 "nbformat_minor": 5
}
