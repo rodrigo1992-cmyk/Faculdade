{
 "cells": [
  {
   "cell_type": "code",
   "execution_count": null,
   "metadata": {
    "tags": [
     "função",
     "range"
    ]
   },
   "outputs": [],
   "source": [
    "#AT1 - Quadrados de um intervalo\n",
    "def square_range(start,stop,step):\n",
    "\t\n",
    "\tlst1 = []\n",
    "\tlst2 = []\n",
    "\tlst3 = []\n",
    "\t[lst1.append(i**2) for i in range(start,stop,step)]\n",
    "\t[lst2.append(i**2) for i in range(start,stop)]\n",
    "\t[lst3.append(i**2) for i in range(stop,start,-1)]\n",
    "\tlistas = [lst1] + [lst2] + [lst3]\n",
    "\treturn(listas)\n",
    "\n",
    "start = int(input(\"start: \"))\n",
    "stop = int(input(\"stop: \"))\n",
    "step = int(input(\"step: \"))\n",
    "\n",
    "listas = square_range(start,stop,step)\n",
    "\n",
    "print(f\"Lista 1: {listas[0]}\")\n",
    "print(f\"Lista 2: {listas[1]}\")\n",
    "print(f\"Lista 3: {listas[2]}\")"
   ]
  },
  {
   "cell_type": "code",
   "execution_count": null,
   "metadata": {
    "tags": [
     "seq",
     "if"
    ]
   },
   "outputs": [],
   "source": [
    "#AT2 - Operações Aritimeticas\n",
    "def calc(seq):\n",
    "\toper = seq[0]\n",
    "\tn1 = int(seq[1:len(seq):2])\n",
    "\tn2 = int(seq[len(seq):1:-2])\n",
    "\tresult = 0\n",
    "\t\n",
    "\tif oper == '+':\n",
    "\t\tresult = n1+n2\n",
    "\t\t\n",
    "\telif oper == '-':\n",
    "\t\tresult = n1-n2\n",
    "\t\t\n",
    "\telif oper == '*':\n",
    "\t\tresult = n1*n2\n",
    "\t\t\n",
    "\telif oper == '/':\n",
    "\t\tresult = n1/n2\n",
    "\t\n",
    "\treturn(result)\n",
    "\n",
    "seq = input('Insira a sequência de caracteres: ')\n",
    "\n",
    "print(calc(seq))"
   ]
  },
  {
   "cell_type": "code",
   "execution_count": null,
   "metadata": {},
   "outputs": [],
   "source": [
    "#AT3 Lista de Destinatários\n",
    "def separa_emails(emails):\n",
    "\t\n",
    "\tlst = []\n",
    "\tif ',' in emails:\tlst = emails.split(',')\n",
    "\telif ';' in emails:\t\tlst = emails.split(';')\n",
    "\telse: lst = [emails]\n",
    "\treturn(lst)\n",
    "\n",
    "def numera_emails(lst_emails):\n",
    "\n",
    "\tlst = []\n",
    "\t[lst.append(str(x+1) +'.' + y.lower()) for x,y in enumerate(lst_emails)]\n",
    "\treturn(lst)\n",
    "\n",
    "entrada = input('Insira a sequência de emails: ')\n",
    "\n",
    "lst_emails = separa_emails(entrada)\n",
    "\n",
    "emails_numerados = numera_emails(lst_emails)\n",
    "\n",
    "[print(emails_numerados[i]) for i,y in enumerate(emails_numerados)]"
   ]
  },
  {
   "cell_type": "code",
   "execution_count": null,
   "metadata": {
    "tags": [
     "conjunto",
     "txt",
     "with open"
    ]
   },
   "outputs": [],
   "source": [
    "#AT4 - Leitura arquivo TXT e conjuntos\n",
    "lista_nums = []\n",
    "lista_conjuntos = []\n",
    "intersect = set()\n",
    "result = set()\n",
    "conjunto = set()\n",
    "\n",
    "with open('conjuntos.txt','r') as arquivo:\n",
    "\tlista_conjuntos = [set(linha.split(' ')) for linha in arquivo]\n",
    "\t\n",
    "intersect = lista_conjuntos[0]\n",
    "\n",
    "for conjunto in lista_conjuntos:\n",
    "\tintersect = intersect.intersection(conjunto)\n",
    "\n",
    "[result.add(int(i)) for i in intersect if i != '\\n']\n",
    "\t\t\n",
    "\n",
    "print(f'Conjunto interseção: {result}')\n",
    "print(f'Nº de elementos na interseção: {len(result)}')\n"
   ]
  },
  {
   "cell_type": "code",
   "execution_count": null,
   "metadata": {
    "tags": [
     "JSON"
    ]
   },
   "outputs": [],
   "source": [
    "#AT5 - Leitura JSON\n",
    "import json\n",
    "idade = []\n",
    "soma = 0\n",
    "\n",
    "with open('clientes.json') as arquivo:\n",
    "\tdados = json.load(arquivo)\n",
    "\n",
    "idade = [i['idade'] for i in dados]\n",
    "soma = sum(idade)\n",
    "\n",
    "print(f'Mínimo: {min(idade)}')\n",
    "print(f'Máximo: {max(idade)}')\n",
    "print(f'Média: {round(soma / len(idade),1)}')\n"
   ]
  },
  {
   "cell_type": "code",
   "execution_count": null,
   "metadata": {
    "tags": [
     "try",
     "except"
    ]
   },
   "outputs": [],
   "source": [
    "#AT6 - Tratamento de erros\n",
    "try:\n",
    "\ttexto = ''\n",
    "\tcaminho = input('Informe o caminho e nome do arquivo:')\n",
    "\twith open(caminho, 'r') as arquivo:\n",
    "\t\tlinhas = [linha for linha in arquivo]\n",
    "\t\ttexto = ''.join(linhas)\n",
    "\t\t\t\n",
    "\tprint(texto)\n",
    "except FileNotFoundError:\n",
    "\tprint('Arquivo não localizado, confira o endereço fornecido.')"
   ]
  },
  {
   "cell_type": "code",
   "execution_count": null,
   "metadata": {
    "tags": [
     "split",
     "write",
     "gravar"
    ]
   },
   "outputs": [],
   "source": [
    "#AT7 - Gravar JSON\n",
    "import json\n",
    "\n",
    "def separa_emails(emails):\n",
    "\t\n",
    "\tlst = []\n",
    "\tlst_lower = []\n",
    "\tif ',' in emails:\tlst = emails.split(',')\n",
    "\telif ';' in emails:\t\tlst = emails.split(';')\n",
    "\telse: lst = [emails]\n",
    "\t[lst_lower.append(i.lower()) for i in lst]\t\t\t\n",
    "\treturn(lst_lower)\n",
    "\n",
    "emails = []\n",
    "\n",
    "with open('clientes.json','r') as arquivo:\n",
    "\tdicionario = json.load(arquivo)\n",
    "\tfor i,z in enumerate(dicionario):\n",
    "\t\tif 'email' in z:\n",
    "\t\t\tz['emails'] = separa_emails(z['email'])\n",
    "\t\t\tz.pop('email')\n",
    "\t\telif 'O' in z: \n",
    "\t\t\tz['emails'] = separa_emails(z['email'])\n",
    "\t\t\tz.pop('email')\n",
    "\n",
    "objeto_json = json.dumps(dicionario, indent = 4)\n",
    "with open('novo_clientes.json','w') as novo_arquivo:\n",
    "\tnovo_arquivo.write(objeto_json)"
   ]
  },
  {
   "cell_type": "code",
   "execution_count": null,
   "metadata": {
    "tags": [
     "conjunto",
     "difference",
     "intersection"
    ]
   },
   "outputs": [],
   "source": [
    "#AT8 - Conjuntos, diferença, interseção\n",
    "\n",
    "A = {3, 4, 5, 6, 7, 8, 9, 10}\n",
    "B = {9, 10, 11, 12}\n",
    "C = {5, 7, 9, 11, 13}\n",
    "\n",
    "X = A.difference(B)\n",
    "Y = X.intersection(C)\n",
    "\n",
    "print(Y)"
   ]
  },
  {
   "cell_type": "code",
   "execution_count": null,
   "metadata": {
    "tags": [
     "conjunto",
     "intersection",
     "clear",
     "add",
     "rstrip"
    ]
   },
   "outputs": [],
   "source": [
    "#AT14 - Incrementar conjuntos, limpar conjuntos\n",
    "\n",
    "with open('exemplo.txt') as file:\n",
    "\tfor i,line in enumerate(file):\n",
    "\t\tline = line.rstrip()\n",
    "\t\tmeio = int(len(line)/2)\n",
    "\t\tlst_A = line[:meio]\n",
    "\t\tlst_B = line[meio:]\n",
    "\n",
    "\t\t[A.add(n) for n in lst_A]\n",
    "\t\t[B.add(n) for n in lst_B]\n",
    "\n",
    "\t\tresult = A.intersection(B)\n",
    "\t\tprint(f'{i+1}ª mochila, item: {\"\".join(result)}')\n",
    "\t\t\n",
    "\t\tA.clear()\n",
    "\t\tB.clear()"
   ]
  },
  {
   "cell_type": "code",
   "execution_count": null,
   "metadata": {
    "tags": [
     "conjunto",
     "subset",
     "issubset"
    ]
   },
   "outputs": [],
   "source": [
    "#AT15 - Checar se um conjunto está contido em outro\n",
    "lista = []\n",
    "resposta_completa = []\n",
    "resposta_resumida = 0\n",
    "conj_a = set()\n",
    "conj_b = set()\n",
    "\n",
    "with open('exemplo1.txt') as file:\n",
    "\t#Cada linha será convertida em uma lista de pares.\n",
    "\tfor line,par in enumerate(file):\n",
    "\t\tpar = par.rstrip()\n",
    "\t\tpar = par.split(',')\n",
    "\t\t#Cada par da linha será convertido em um conjunto contendo todos os números do dado intervalo.\n",
    "\t\tfor conj in par:\n",
    "\t\t\tlista.append(conj.split('-'))\n",
    "\t\tconj_a = set(list(range(int(lista[0][0]),int(lista[0][1])+1)))\n",
    "\t\tconj_b = set(list(range(int(lista[1][0]),int(lista[1][1])+1)))\n",
    "\n",
    "\t\t#Para cada linha, será verificado se o conjunto A é subconjunto de B ou vice-versa.\n",
    "\t\tif conj_a.issubset(conj_b) == True or conj_b.issubset(conj_a) == True:\n",
    "\t\t\tresposta_completa.append(line+1)\n",
    "\t\tlista = []\n",
    "\n",
    "\tresposta_resumida = len (resposta_completa)\n",
    "\tprint(f'Em {resposta_resumida} pares de atribuição um intervalo contém totalmente o outro.')\n",
    "\tprint(f'Os pares referidos são os das linhas {resposta_completa}.')"
   ]
  }
 ],
 "metadata": {
  "kernelspec": {
   "display_name": "Python 3",
   "language": "python",
   "name": "python3"
  },
  "language_info": {
   "codemirror_mode": {
    "name": "ipython",
    "version": 3
   },
   "file_extension": ".py",
   "mimetype": "text/x-python",
   "name": "python",
   "nbconvert_exporter": "python",
   "pygments_lexer": "ipython3",
   "version": "3.11.3"
  },
  "orig_nbformat": 4
 },
 "nbformat": 4,
 "nbformat_minor": 2
}
