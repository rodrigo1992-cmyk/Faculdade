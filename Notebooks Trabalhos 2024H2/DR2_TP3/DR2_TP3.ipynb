{
 "cells": [
  {
   "cell_type": "markdown",
   "metadata": {},
   "source": [
    "# **Rodrigo_Mesquita_DR2_TP3**\n",
    "## **Coleta de Dados com Python via APIs e WebScraping [24E3_2]**"
   ]
  },
  {
   "cell_type": "markdown",
   "metadata": {},
   "source": [
    "#### Notebook disponível em: https://github.com/rodrigo1992-cmyk/Faculdade/tree/main/Notebooks%20Trabalhos%202024H2/DR2_TP3"
   ]
  },
  {
   "cell_type": "markdown",
   "metadata": {},
   "source": [
    "# Exercício 1:\n",
    "#### Utilize XPath absoluto com a biblioteca lxml para selecionar:\n",
    "- O nome do diretor do segundo filme listado;\n",
    "- O id do penúltimo filme listado, independentemente da quantidade de filmes na lista. "
   ]
  },
  {
   "cell_type": "code",
   "execution_count": 86,
   "metadata": {},
   "outputs": [
    {
     "name": "stdout",
     "output_type": "stream",
     "text": [
      "Diretor do diretor segundo filme listado: Francis Ford Coppola\n",
      "ID do penúltimo filme listado: 102\n"
     ]
    }
   ],
   "source": [
    "from lxml import etree\n",
    "\n",
    "tree = etree.parse(r'C:\\Users\\RodrigoPintoMesquita\\Documents\\GitHub\\Faculdade\\Notebooks Trabalhos 2024H2\\DR2_TP3\\Dados\\TP3.xml', parser=etree.XMLParser())\n",
    "root = tree.getroot()\n",
    "\n",
    "diretor = root.xpath('/library/movies/movie[2]/director/text()')\n",
    "penultimo_id = root.xpath('/library/movies/movie[last()-1]/@id')\n",
    "\n",
    "print(f'Diretor do diretor segundo filme listado: {diretor[0]}')\n",
    "print(f'ID do penúltimo filme listado: {penultimo_id[0]}')"
   ]
  },
  {
   "cell_type": "markdown",
   "metadata": {},
   "source": [
    "# Exercício 2:\n",
    "#### Utilize XPath relativo com a biblioteca lxml para selecionar:\n",
    "- Os títulos dos livros ou filmes da categoria fantasia;\n",
    "- Os nomes (siglas) das moedas utilizadas nos preços que não são dólares americanos (USD);\n",
    "- Os preços com valor numérico maior que 15 (independentemente da moeda);\n",
    "- Todos os títulos que começam com \"The\"."
   ]
  },
  {
   "cell_type": "code",
   "execution_count": 136,
   "metadata": {},
   "outputs": [
    {
     "name": "stdout",
     "output_type": "stream",
     "text": [
      "Livros ou filmes da categoria fantasia: [\"Harry Potter and the Philosopher's Stone\", 'The Hobbit']\n",
      "Moedas que não são dólares americanos: ['NZD', 'GBP', 'BRL']\n",
      "Preços com valor numérico maior que 15: ['19.99', '15.99', '19.99']\n",
      "Títulos que começam com \"The\": ['The Hobbit', 'The Godfather']\n"
     ]
    }
   ],
   "source": [
    "resp1 = root.xpath('.//*[@category=\"fantasy\"]/title/text()')\n",
    "resp2 = root.xpath('.//price[@currency!=\"USD\"]/attribute::currency')\n",
    "resp3 = root.xpath('.//price[number(text()) > 15]/text()')\n",
    "resp4 = root.xpath('.//title[starts-with(text(), \"The\")]/text()')\n",
    "\n",
    "print(f'Livros ou filmes da categoria fantasia: {resp1}')\n",
    "print(f'Moedas que não são dólares americanos: {resp2}')\n",
    "print(f'Preços com valor numérico maior que 15: {resp3}')\n",
    "print(f'Títulos que começam com \"The\": {resp4}')\n"
   ]
  },
  {
   "cell_type": "markdown",
   "metadata": {},
   "source": [
    "# Exercício 3:\n",
    "#### Utilize (apenas) seletores de CSS com lxml para selecionar:\n",
    "- Todos os nomes de países dos atletas;\n",
    "- Todos os nomes de atletas que possuem a letra J (maiúscula);\n",
    "- Todos os nomes de atletas dos EUA (USA) e da Rússia."
   ]
  },
  {
   "cell_type": "code",
   "execution_count": 141,
   "metadata": {},
   "outputs": [
    {
     "name": "stdout",
     "output_type": "stream",
     "text": [
      "Collecting cssselect\n",
      "  Downloading cssselect-1.2.0-py2.py3-none-any.whl.metadata (2.2 kB)\n",
      "Downloading cssselect-1.2.0-py2.py3-none-any.whl (18 kB)\n",
      "Installing collected packages: cssselect\n",
      "Successfully installed cssselect-1.2.0\n",
      "Note: you may need to restart the kernel to use updated packages.\n"
     ]
    },
    {
     "name": "stderr",
     "output_type": "stream",
     "text": [
      "\n",
      "[notice] A new release of pip is available: 23.3.1 -> 24.2\n",
      "[notice] To update, run: python.exe -m pip install --upgrade pip\n"
     ]
    }
   ],
   "source": [
    "%pip install cssselect"
   ]
  },
  {
   "cell_type": "code",
   "execution_count": 206,
   "metadata": {},
   "outputs": [
    {
     "name": "stdout",
     "output_type": "stream",
     "text": [
      "USA\n",
      "Canada\n",
      "China\n",
      "Mexico\n",
      "Russia\n"
     ]
    }
   ],
   "source": [
    "from lxml.cssselect import CSSSelector\n",
    "\n",
    "fpath = r'C:\\Users\\RodrigoPintoMesquita\\Documents\\GitHub\\Faculdade\\Notebooks Trabalhos 2024H2\\DR2_TP3\\Dados\\TP3.html'\n",
    "doc = etree.parse(fpath, parser=etree.HTMLParser()).getroot()\n",
    "doc_paises = doc.cssselect('p.country')\n",
    "\n",
    "#Resposta 1 - Todos os nomes de países dos atletas\n",
    "for x in doc_paises:\n",
    "    print(x.text)"
   ]
  },
  {
   "cell_type": "code",
   "execution_count": 207,
   "metadata": {},
   "outputs": [
    {
     "name": "stdout",
     "output_type": "stream",
     "text": [
      "John Doe\n",
      "Jane Smith\n"
     ]
    }
   ],
   "source": [
    "#Resposta 2- Todos os nomes de atletas que possuem a letra J (maiúscula)\n",
    "\n",
    "doc_nomes = tree.cssselect('.name')\n",
    "for nome in doc_nomes:\n",
    "    if \"J\" in nome.text:\n",
    "        print(nome.text)"
   ]
  },
  {
   "cell_type": "code",
   "execution_count": 209,
   "metadata": {},
   "outputs": [
    {
     "name": "stdout",
     "output_type": "stream",
     "text": [
      "['John Doe', 'Olga Ivanova']\n"
     ]
    }
   ],
   "source": [
    "#Resposta 3 - Todos os nomes de atletas dos EUA (USA) e da Rússia.\n",
    "\n",
    "resposta = []\n",
    "for atleta in doc.cssselect('.athlete'):\n",
    "    pais = atleta.cssselect('.country')[0].text\n",
    "    if pais in ['USA', 'Russia']:\n",
    "        nome = atleta.cssselect('.name')[0].text\n",
    "        resposta.append(nome)\n",
    "\n",
    "print(resposta)"
   ]
  },
  {
   "cell_type": "markdown",
   "metadata": {},
   "source": [
    "# Exercício 4:\n",
    "\n",
    "#### Utilize seletores de CSS com BeautifulSoup e algum tratamento em Python que seja necessário para alocar as informações de cada atleta do arquivo HTML em um dataframe do Pandas a ser salvo em arquivo CSV e então responda:\n",
    "\n",
    "- A média de idades dos atletas;\n",
    "- O atleta ganhador do Speed Test;\n",
    "- O atleta ganhador do Endurance Test. "
   ]
  },
  {
   "cell_type": "code",
   "execution_count": 287,
   "metadata": {},
   "outputs": [
    {
     "data": {
      "text/html": [
       "<div>\n",
       "<style scoped>\n",
       "    .dataframe tbody tr th:only-of-type {\n",
       "        vertical-align: middle;\n",
       "    }\n",
       "\n",
       "    .dataframe tbody tr th {\n",
       "        vertical-align: top;\n",
       "    }\n",
       "\n",
       "    .dataframe thead th {\n",
       "        text-align: right;\n",
       "    }\n",
       "</style>\n",
       "<table border=\"1\" class=\"dataframe\">\n",
       "  <thead>\n",
       "    <tr style=\"text-align: right;\">\n",
       "      <th></th>\n",
       "      <th>nome</th>\n",
       "      <th>pais</th>\n",
       "      <th>idade</th>\n",
       "      <th>rank</th>\n",
       "      <th>velocidade</th>\n",
       "      <th>resistencia</th>\n",
       "    </tr>\n",
       "  </thead>\n",
       "  <tbody>\n",
       "    <tr>\n",
       "      <th>0</th>\n",
       "      <td>John Doe</td>\n",
       "      <td>USA</td>\n",
       "      <td>25</td>\n",
       "      <td>1</td>\n",
       "      <td>95</td>\n",
       "      <td>88</td>\n",
       "    </tr>\n",
       "    <tr>\n",
       "      <th>1</th>\n",
       "      <td>Jane Smith</td>\n",
       "      <td>Canada</td>\n",
       "      <td>27</td>\n",
       "      <td>3</td>\n",
       "      <td>87</td>\n",
       "      <td>92</td>\n",
       "    </tr>\n",
       "    <tr>\n",
       "      <th>2</th>\n",
       "      <td>Liu Wei</td>\n",
       "      <td>China</td>\n",
       "      <td>24</td>\n",
       "      <td>2</td>\n",
       "      <td>89</td>\n",
       "      <td>91</td>\n",
       "    </tr>\n",
       "    <tr>\n",
       "      <th>3</th>\n",
       "      <td>Carlos Mendoza</td>\n",
       "      <td>Mexico</td>\n",
       "      <td>26</td>\n",
       "      <td>5</td>\n",
       "      <td>81</td>\n",
       "      <td>84</td>\n",
       "    </tr>\n",
       "    <tr>\n",
       "      <th>4</th>\n",
       "      <td>Olga Ivanova</td>\n",
       "      <td>Russia</td>\n",
       "      <td>28</td>\n",
       "      <td>4</td>\n",
       "      <td>92</td>\n",
       "      <td>86</td>\n",
       "    </tr>\n",
       "  </tbody>\n",
       "</table>\n",
       "</div>"
      ],
      "text/plain": [
       "             nome    pais idade rank velocidade resistencia\n",
       "0        John Doe     USA    25    1         95          88\n",
       "1      Jane Smith  Canada    27    3         87          92\n",
       "2         Liu Wei   China    24    2         89          91\n",
       "3  Carlos Mendoza  Mexico    26    5         81          84\n",
       "4    Olga Ivanova  Russia    28    4         92          86"
      ]
     },
     "execution_count": 287,
     "metadata": {},
     "output_type": "execute_result"
    }
   ],
   "source": [
    "from bs4 import BeautifulSoup\n",
    "import pandas as pd\n",
    "\n",
    "with open(fpath, 'r', encoding='utf-8') as file:\n",
    "    html_content = file.read()\n",
    "\n",
    "soup = BeautifulSoup(html_content, 'html.parser')\n",
    "\n",
    "dic = []\n",
    "\n",
    "atletas = soup.select('.athlete') \n",
    "for i in atletas:\n",
    "    nomes = i.select('.name')[0].text\n",
    "    pais = i.select('.country')[0].text\n",
    "    idade = i.select('.age')[0].text\n",
    "    rank = i.select('.rank')[0].text\n",
    "    \n",
    "    #Primeiro localizo o span que contem a identificação do teste, e depois pego o span posterior com o resultado\n",
    "    speed_test = i.find('span', class_='test-name', string='Speed Test')\n",
    "    if speed_test: veloc = speed_test.find_next('span', class_='result').text\n",
    "\n",
    "    endurance_test = i.find('span', class_='test-name', string='Endurance Test')\n",
    "    if endurance_test: resist = endurance_test.find_next('span', class_='result').text\n",
    "\n",
    "    #Apendando em um dicionario\n",
    "    dic.append({\n",
    "        'nome': nomes,\n",
    "        'pais': pais,\n",
    "        'idade': idade,\n",
    "        'rank': rank,\n",
    "        'velocidade': veloc,\n",
    "        'resistencia': resist\n",
    "        })\n",
    "\n",
    "#Convertendo para DataFrame e exportando para CSV\n",
    "df = pd.DataFrame(dic)\n",
    "df.to_csv(r'C:\\Users\\RodrigoPintoMesquita\\Documents\\GitHub\\Faculdade\\Notebooks Trabalhos 2024H2\\DR2_TP3\\Dados\\atletas.csv', index=False)\n",
    "\n",
    "df"
   ]
  },
  {
   "cell_type": "code",
   "execution_count": 289,
   "metadata": {},
   "outputs": [
    {
     "name": "stdout",
     "output_type": "stream",
     "text": [
      "\n",
      "Média de idades dos atletas: 26.0\n",
      "Atleta ganhador do Speed Test: 95\n",
      "Atleta ganhador do Endurance Test: 92\n",
      "\n"
     ]
    },
    {
     "ename": "",
     "evalue": "",
     "output_type": "error",
     "traceback": [
      "\u001b[1;31mO Kernel deu pane ao executar o código na célula atual ou em uma célula anterior. \n",
      "\u001b[1;31mAnalise o código nas células para identificar uma possível causa da pane. \n",
      "\u001b[1;31mClique <a href='https://aka.ms/vscodeJupyterKernelCrash'>aqui</a> para obter mais informações. \n",
      "\u001b[1;31mConsulte Jupyter <a href='command:jupyter.viewOutput'>log</a> para obter mais detalhes."
     ]
    }
   ],
   "source": [
    "resp1 = df['idade'].astype(int).mean()\n",
    "resp2 = df['velocidade'].astype(int).max()\n",
    "resp3 = df['resistencia'].astype(int).max()\n",
    "\n",
    "print(f'''\n",
    "Média de idades dos atletas: {resp1}\n",
    "Atleta ganhador do Speed Test: {resp2}\n",
    "Atleta ganhador do Endurance Test: {resp3}\n",
    "''')"
   ]
  },
  {
   "cell_type": "markdown",
   "metadata": {},
   "source": [
    "# Exercício 5: \n",
    "\n",
    "#### Acesse a URL https://www.scrapethissite.com/pages/simple/ e obtenha os dados de todos os países, salvando em um dataframe (sem utilizar o comando `pd.read_html`) com as seguintes colunas:\n",
    "\n",
    "- Country;\n",
    "- Capital;\n",
    "- Population;\n",
    "- Area."
   ]
  },
  {
   "cell_type": "code",
   "execution_count": 3,
   "metadata": {},
   "outputs": [],
   "source": [
    "import requests\n",
    "from bs4 import BeautifulSoup\n",
    "import pandas as pd\n",
    "\n",
    "url = \"https://www.scrapethissite.com/pages/simple/\"\n",
    "response = requests.get(url)\n",
    "soup = BeautifulSoup(response.content, 'html.parser')\n"
   ]
  },
  {
   "cell_type": "code",
   "execution_count": 4,
   "metadata": {},
   "outputs": [
    {
     "data": {
      "text/html": [
       "<div>\n",
       "<style scoped>\n",
       "    .dataframe tbody tr th:only-of-type {\n",
       "        vertical-align: middle;\n",
       "    }\n",
       "\n",
       "    .dataframe tbody tr th {\n",
       "        vertical-align: top;\n",
       "    }\n",
       "\n",
       "    .dataframe thead th {\n",
       "        text-align: right;\n",
       "    }\n",
       "</style>\n",
       "<table border=\"1\" class=\"dataframe\">\n",
       "  <thead>\n",
       "    <tr style=\"text-align: right;\">\n",
       "      <th></th>\n",
       "      <th>Pais</th>\n",
       "      <th>Capital</th>\n",
       "      <th>Populacao</th>\n",
       "      <th>Area</th>\n",
       "    </tr>\n",
       "  </thead>\n",
       "  <tbody>\n",
       "    <tr>\n",
       "      <th>0</th>\n",
       "      <td>Andorra</td>\n",
       "      <td>Andorra la Vella</td>\n",
       "      <td>84000</td>\n",
       "      <td>468.0</td>\n",
       "    </tr>\n",
       "    <tr>\n",
       "      <th>1</th>\n",
       "      <td>United Arab Emirates</td>\n",
       "      <td>Abu Dhabi</td>\n",
       "      <td>4975593</td>\n",
       "      <td>82880.0</td>\n",
       "    </tr>\n",
       "    <tr>\n",
       "      <th>2</th>\n",
       "      <td>Afghanistan</td>\n",
       "      <td>Kabul</td>\n",
       "      <td>29121286</td>\n",
       "      <td>647500.0</td>\n",
       "    </tr>\n",
       "    <tr>\n",
       "      <th>3</th>\n",
       "      <td>Antigua and Barbuda</td>\n",
       "      <td>St. John's</td>\n",
       "      <td>86754</td>\n",
       "      <td>443.0</td>\n",
       "    </tr>\n",
       "    <tr>\n",
       "      <th>4</th>\n",
       "      <td>Anguilla</td>\n",
       "      <td>The Valley</td>\n",
       "      <td>13254</td>\n",
       "      <td>102.0</td>\n",
       "    </tr>\n",
       "  </tbody>\n",
       "</table>\n",
       "</div>"
      ],
      "text/plain": [
       "                   Pais           Capital Populacao      Area\n",
       "0               Andorra  Andorra la Vella     84000     468.0\n",
       "1  United Arab Emirates         Abu Dhabi   4975593   82880.0\n",
       "2           Afghanistan             Kabul  29121286  647500.0\n",
       "3   Antigua and Barbuda        St. John's     86754     443.0\n",
       "4              Anguilla        The Valley     13254     102.0"
      ]
     },
     "execution_count": 4,
     "metadata": {},
     "output_type": "execute_result"
    }
   ],
   "source": [
    "#Encontrando as divs dos países\n",
    "paises = soup.find_all('div', class_='country')\n",
    "\n",
    "#Iterando em cada pais para armazenar os atributos em uma lista\n",
    "lista = []\n",
    "for pais in paises:\n",
    "    nome = pais.find('h3', class_='country-name').text.strip()\n",
    "    capital = pais.find('span', class_='country-capital').text.strip()\n",
    "    populacao = pais.find('span', class_='country-population').text.strip()\n",
    "    area = pais.find('span', class_='country-area').text.strip()\n",
    "    \n",
    "    lista.append([nome, capital, populacao, area])\n",
    "\n",
    "df = pd.DataFrame(lista, columns=['Pais', 'Capital', 'Populacao', 'Area'])\n",
    "df.head()"
   ]
  },
  {
   "cell_type": "markdown",
   "metadata": {},
   "source": [
    "# Exercício 6: \n",
    "\n",
    "#### Escolha uma notícia qualquer do site https://www.romanews.com.br/ e obtenha o HTML da página via requisição utilizando a biblioteca que preferir (`urllib`, `requests`, etc.), salvando o arquivo no seu diretório. Então, a partir do arquivo HTML da notícia salva, construa códigos em Python utilizando `BeautifulSoup` para obter e salvar em um arquivo JSON, junto à URL da notícia e ao datetime do momento da requisição da página (os objetos datetime devem ter a informação da timezone e ser colocados em isoformat no momento de gerar o JSON):\n",
    "\n",
    "- O objeto datetime da data e hora da publicação da notícia (dica: é sempre bom checar as tags `meta` dentro do `head` do arquivo.);\n",
    "- O título da notícia;\n",
    "- O corpo do texto da notícia;\n",
    "- O subtítulo da notícia (se houver);\n",
    "- O autor ou autores da notícia (se houver)."
   ]
  },
  {
   "cell_type": "code",
   "execution_count": 5,
   "metadata": {},
   "outputs": [],
   "source": [
    "import requests\n",
    "from bs4 import BeautifulSoup\n",
    "import json\n",
    "from datetime import datetime\n",
    "import pytz"
   ]
  },
  {
   "cell_type": "code",
   "execution_count": 87,
   "metadata": {},
   "outputs": [],
   "source": [
    "url = \"https://www.romanews.com.br/economia/empresario-do-caso-luso-brasileiro-acumula-processos-0924\"\n",
    "\n",
    "headers = {'User-Agent': 'Mozilla/5.0 (Windows NT 10.0; Win64; x64) AppleWebKit/537.36 (KHTML, like Gecko) Chrome/91.0.4472.124 Safari/537.36'}\n",
    "\n",
    "response = requests.get(url, headers=headers)\n",
    "dt_requisição = datetime.now(pytz.utc)\n",
    "\n",
    "\n",
    "path = r\"C:\\Users\\RodrigoPintoMesquita\\Documents\\GitHub\\Faculdade\\Notebooks Trabalhos 2024H2\\DR2_TP3\\Dados\\noticia.html\"\n",
    "with open(path, \"w\", encoding=\"utf-8\") as file:\n",
    "    file.write(response.text)\n",
    "\n",
    "with open(path, \"r\", encoding=\"utf-8\") as file:\n",
    "    soup = BeautifulSoup(file, \"html.parser\")"
   ]
  },
  {
   "cell_type": "code",
   "execution_count": 86,
   "metadata": {},
   "outputs": [],
   "source": [
    "#Obtendo a data da publicação\n",
    "dt_publi = soup.find('meta', attrs={'name': 'cXenseParse:recs:publishtime'}).get('content')\n",
    "\n",
    "#Converter a dt_publi para data\n",
    "dt_publi = datetime.fromisoformat(dt_publi)"
   ]
  },
  {
   "cell_type": "code",
   "execution_count": 60,
   "metadata": {},
   "outputs": [
    {
     "data": {
      "text/plain": [
       "'Empresário do caso \"Luso Brasileiro\" acumula processos'"
      ]
     },
     "execution_count": 60,
     "metadata": {},
     "output_type": "execute_result"
    }
   ],
   "source": [
    "# Obtendo o título\n",
    "titulo = soup.find('meta', property='og:title').get('content')\n",
    "titulo"
   ]
  },
  {
   "cell_type": "code",
   "execution_count": 112,
   "metadata": {},
   "outputs": [],
   "source": [
    "# Obtendo o corpo do texto da notícia\n",
    "corpo = soup.find_all('div', class_='bloco-de-materia tw-paragrafo flex flex-col m-0 p-2 px-0')\n",
    "text_corpo =\"\"\n",
    "for paragrafo in corpo:\n",
    "    text_corpo += paragrafo.text.strip()\n",
    "\n"
   ]
  },
  {
   "cell_type": "code",
   "execution_count": 79,
   "metadata": {},
   "outputs": [
    {
     "data": {
      "text/plain": [
       "'Rui Denardin foi condenado por desvio de verbas da Sudam, com outros réus, a devolver R$ 4,7 milhões, em 2008, que hoje atualizado pelo IPCA seria em torno de R$ 11.5 milhões.'"
      ]
     },
     "execution_count": 79,
     "metadata": {},
     "output_type": "execute_result"
    }
   ],
   "source": [
    "# Obtendo o subtítulo da notícia\n",
    "subtitulo = soup.find('h3').text.strip()\n",
    "subtitulo"
   ]
  },
  {
   "cell_type": "code",
   "execution_count": 77,
   "metadata": {},
   "outputs": [],
   "source": [
    "# Não há identificação do autor da notícia"
   ]
  },
  {
   "cell_type": "code",
   "execution_count": 113,
   "metadata": {},
   "outputs": [],
   "source": [
    "dados = {\n",
    "    \"url\": url,\n",
    "    \"data_requisicao\": dt_requisição.isoformat(),\n",
    "    \"data_publicacao\": dt_publi.isoformat(),\n",
    "    \"titulo\": titulo,\n",
    "    \"subtitulo\": subtitulo,\n",
    "    \"corpo\": text_corpo\n",
    "}"
   ]
  },
  {
   "cell_type": "code",
   "execution_count": 116,
   "metadata": {},
   "outputs": [],
   "source": [
    "#Exportando em JSON\n",
    "path = r\"C:\\Users\\RodrigoPintoMesquita\\Documents\\GitHub\\Faculdade\\Notebooks Trabalhos 2024H2\\DR2_TP3\\Dados\\resultado_exercicio_6.json\"\n",
    "with open(path, \"w\", encoding=\"utf-8\") as file:\n",
    "    json.dump(dados, file, ensure_ascii=False, indent=4)"
   ]
  },
  {
   "cell_type": "markdown",
   "metadata": {},
   "source": [
    "# Exercício 7: \n",
    "\n",
    "#### Repita a questão anterior utilizando um site de notícias de sua escolha."
   ]
  },
  {
   "cell_type": "code",
   "execution_count": 117,
   "metadata": {},
   "outputs": [],
   "source": [
    "#Obtendo o HTML da notícia do G1\n",
    "\n",
    "url = 'https://g1.globo.com/sp/sorocaba-jundiai/noticia/2024/09/19/especialista-explica-como-identificar-envenenamento-em-pets-e-o-que-fazer-em-casos-de-intoxicacao.ghtml'\n",
    "headers = {\n",
    "    'User-Agent': 'Mozilla/5.0 (Windows NT 10.0; Win64; x64) AppleWebKit/537.36 '\n",
    "                    '(KHTML, like Gecko) Chrome/58.0.3029.110 Safari/537.36'\n",
    "}\n",
    "\n",
    "response = requests.get(url, headers=headers)\n",
    "dt_requisição = datetime.now(pytz.utc)\n",
    "\n",
    "path = r\"C:\\Users\\RodrigoPintoMesquita\\Documents\\GitHub\\Faculdade\\Notebooks Trabalhos 2024H2\\DR2_TP3\\Dados\\noticiaG1.html\"\n",
    "with open(path, \"w\", encoding=\"utf-8\") as file:\n",
    "    file.write(response.text)\n",
    "\n",
    "with open(path, \"r\", encoding=\"utf-8\") as file:\n",
    "    soup = BeautifulSoup(file, \"html.parser\")"
   ]
  },
  {
   "cell_type": "code",
   "execution_count": 120,
   "metadata": {},
   "outputs": [],
   "source": [
    "#Obtendo a data da publicação\n",
    "dt_publi = soup.find('meta', itemprop=\"datePublished\").get('content')\n",
    "\n",
    "#Converter a dt_publi para data\n",
    "dt_publi = datetime.fromisoformat(dt_publi)"
   ]
  },
  {
   "cell_type": "code",
   "execution_count": 121,
   "metadata": {},
   "outputs": [
    {
     "data": {
      "text/plain": [
       "'Especialista explica como identificar envenenamento em pets e o que fazer em casos de intoxicação'"
      ]
     },
     "execution_count": 121,
     "metadata": {},
     "output_type": "execute_result"
    }
   ],
   "source": [
    "# Obtendo o título\n",
    "titulo = soup.find('h1', class_='content-head__title').text.strip()\n",
    "titulo"
   ]
  },
  {
   "cell_type": "code",
   "execution_count": 123,
   "metadata": {},
   "outputs": [
    {
     "data": {
      "text/plain": [
       "'Identificar o envenenamento em um pet pode ser um desafio para diversos tutores. Além disso, ver o sofrimento do animal pode causar desespero e, consequentemente, piorar as chances de entender a situação e agir de forma rápida e consciente.📲 Participe do canal do g1 Sorocaba e Jundiaí no WhatsAppO envenenamento em um pet pode ser causado por inseticidas ou outros venenos para combater pragas, mas também por produtos de limpeza e alimentos que possuímos em casa.Segundo a médica veterinária e professora da Universidade de Sorocaba (Uniso), Bianca Belline, quadros de intoxicação em cães e gatos são frequentes na rotina médica de emergência, sendo geralmente agudos e graves e exigem uma rápida intervenção, além de tratamentos adequados para reduzir o risco de morte do pet.“A menos que se presencie o momento em que o animal lambeu, ingeriu ou inalou uma substância, é difícil saber a causa da intoxicação. Intoxicações e envenenamentos podem ser acidentais e intencionais, por diversos agentes tóxicos, como medicamentos, plantas, alimentos, pesticidas, raticidas, produtos de limpeza, fumaça/gases e outros animais como sapos, serpentes, aranhas, abelhas, escorpiões, etc”, explica.Conforme a veterinária, as consequências da intoxicação, incluindo os sinais clínicos no pet e o intervalo de tempo para que estes sinais apareçam variam de acordo com o agente tóxico e a quantidade absorvida.A flor lírio, por exemplo, é tóxica para os rins do pet e pode levar à insuficiência renal aguda em 48 horas. O contato na pele ou até a ingestão de pesticidas e carbamatos (chumbinhos) pode apresentar sinais poucos minutos após a ingestão e, nestes casos, o risco de morte é alto.Já a intoxicação por teobromina, uma substância presente no chocolate, pode ocorrer tanto se o pet ingerir uma grande quantidade do doce de uma só vez ou até mesmo pequenas porções em dias seguidos.“Diversos medicamentos que inclusive são utilizados em bebês e crianças, são potencialmente tóxicos aos pets. Analgésicos como o paracetamol podem comprometer a oxigenação, levando a mucosas ‘roxas’, dificuldade respiratória e morte, principalmente em gatos”, completa a especialista.Envenenamento com outros animaisBianca também explica que os animais também podem se intoxicar pelo contato com outros animais. Cães, por exemplo, gostam de caçar sapos. Neste caso, segundo a veterinária, o envenenamento ocorre quando o cão o morde e o veneno é liberado na boca do pet.“Imediatamente, sinais clínicos como salivação excessiva, incoordenação de movimentos, pupilas dilatadas, convulsões e morte podem ocorrer, dependendo da quantidade de veneno absorvida.”Os sinais clínicos de intoxicações nos pets variam, segundo Bianca, como por exemplo:Salivação;Desconforto;Taquicardia;Vômitos;Diarreia;Apatia ou agitação excessiva;Prurido (coceira) e alterações na pele;Convulsões;Hemorragias;Perda da consciência;Dificuldade respiratória;Coma;Morte.Se o tutor notar algum dos sintomas no pet, a recomendação é procurar o atendimento veterinário o mais rápido possível. Caso o cão tenha abocanhado o sapo, por exemplo, a boca do animal deve ser lavada com bastante água. Se o agente tóxico teve contato com a pele, a recomendação é lavar o local.“Em caso de convulsão, não se desespere. Apenas assegure que seu animal não se machuque durante a crise, que em geral dura poucos minutos. Algumas ‘dicas caseiras’ como indução do vômito ou ingestão de leite podem agravar ainda mais o quadro. Se houver ingestão de substância corrosiva ou irritativa, risco de convulsões, paciente desacordado ou ingestão há mais de 1 hora, jamais deve-se induzir vômitos. Vários agentes tóxicos não são ‘inativados’ pelo leite, à exemplo dos inseticidas domésticos, como piretroides ’, explica.O tratamento para casos de envenenamento deve ser rápido e adequado ao quadro apresentado pelo pet, por isso é importante que tenha um auxílio veterinário. “Muitas vezes não há antídotos disponíveis, sendo realizada a terapia de suporte, tratando os sinais apresentados até a estabilização do paciente”, diz.Conforme Bianca, geralmente é necessário reduzir a absorção do veneno e facilitar sua eliminação do organismo. Para isso, procedimentos ambulatoriais como lavagem gástrica e fluidoterapia intravenosa são fundamentais. Em alguns casos, a depender do quadro clínico do animal, é preciso realizar a internação e ter a necessidade de oxigenioterapia e intubação até que os efeitos tóxicos sejam controlados.“O sucesso no tratamento dos envenenamentos inicia-se muitas vezes ao telefone, com tutores aflitos relatando o ocorrido para os atendentes da clínica, que já podem orientar os tutores quanto aos primeiros socorros de acordo com o tipo de agente intoxicante, horário e tempo de exposição, idade e espécie animal e presença de sinais clínicos. Quanto antes chegar com o pet na clínica ou hospital, maiores serão as chances de reverter o quadro e controlar os danos”.Bianca reforça que a prevenção é a melhor forma de proteger o animal. Para isso, algumas das dicas são deixar medicações e produtos de limpeza fora do alcance deles, limpar frequentemente os ambientes e realizar a dedetização - desde que os pets sejam retirados do local -, cuidar da ingestão acidental de plantas tóxicas e, por fim, ficar atento aos alimentos tóxicos ou sobras deles.Veja mais notícias da região no g1 Sorocaba e JundiaíVÍDEOS: assista às reportagens da TV TEM'"
      ]
     },
     "execution_count": 123,
     "metadata": {},
     "output_type": "execute_result"
    }
   ],
   "source": [
    "# Obtendo o corpo do texto da notícia\n",
    "corpo = soup.find_all('p', class_='content-text__container')\n",
    "text_corpo =\"\"\n",
    "for paragrafo in corpo:\n",
    "    text_corpo += paragrafo.text.strip()\n"
   ]
  },
  {
   "cell_type": "code",
   "execution_count": 124,
   "metadata": {},
   "outputs": [
    {
     "data": {
      "text/plain": [
       "'Envenenamento em um pet pode ser causado por inseticidas ou outros venenos para combater pragas, mas também por produtos de limpeza e alimentos que possuímos em casa.'"
      ]
     },
     "execution_count": 124,
     "metadata": {},
     "output_type": "execute_result"
    }
   ],
   "source": [
    "# Obtendo o subtítulo da notícia\n",
    "subtitulo = soup.find('h2').text.strip()\n",
    "subtitulo"
   ]
  },
  {
   "cell_type": "code",
   "execution_count": 126,
   "metadata": {},
   "outputs": [
    {
     "data": {
      "text/plain": [
       "'Gabriela Almeida'"
      ]
     },
     "execution_count": 126,
     "metadata": {},
     "output_type": "execute_result"
    }
   ],
   "source": [
    "# Obtendo o autor\n",
    "autor = soup.find('a', class_='multi_signatures').text.strip()\n",
    "autor"
   ]
  },
  {
   "cell_type": "code",
   "execution_count": 128,
   "metadata": {},
   "outputs": [],
   "source": [
    "dados = {\n",
    "    \"url\": url,\n",
    "    \"data_requisicao\": dt_requisição.isoformat(),\n",
    "    \"data_publicacao\": dt_publi.isoformat(),\n",
    "    \"titulo\": titulo,\n",
    "    \"subtitulo\": subtitulo,\n",
    "    \"corpo\": text_corpo,\n",
    "    \"autor\": autor\n",
    "}"
   ]
  },
  {
   "cell_type": "code",
   "execution_count": 129,
   "metadata": {},
   "outputs": [],
   "source": [
    "#Exportando em JSON\n",
    "path = r\"C:\\Users\\RodrigoPintoMesquita\\Documents\\GitHub\\Faculdade\\Notebooks Trabalhos 2024H2\\DR2_TP3\\Dados\\resultado_exercicio_7.json\"\n",
    "with open(path, \"w\", encoding=\"utf-8\") as file:\n",
    "    json.dump(dados, file, ensure_ascii=False, indent=4)"
   ]
  },
  {
   "cell_type": "markdown",
   "metadata": {},
   "source": [
    "# Exercício 8: \n",
    "#### Examine o site https://difusoranews.com/ e descubra o padrão de URL para paginação que ele aceita (dica: considere tentativa-e-erro). Então, utilize-o para obter uma lista de links de notícias requisitando as cinco primeiras páginas e raspando os links através de um único seletor de CSS aplicado via `BeautifulSoup`."
   ]
  },
  {
   "cell_type": "code",
   "execution_count": 172,
   "metadata": {},
   "outputs": [],
   "source": [
    "dados = \"\"\n",
    "\n",
    "for i in range(1,6):\n",
    "    url = f'https://difusoranews.com/bem-estar/page/{i}/'\n",
    "    response = requests.get(url)\n",
    "    dados += response.text"
   ]
  },
  {
   "cell_type": "code",
   "execution_count": 177,
   "metadata": {},
   "outputs": [
    {
     "name": "stdout",
     "output_type": "stream",
     "text": [
      "https://difusoranews.com/bem-estar/fogos-de-artificio-saiba-como-o-barulho-afeta-o-seu-pet/\n",
      "https://difusoranews.com/bem-estar/oleaginosas-os-beneficios-das-nuts-as-proteinas-do-bem/\n",
      "https://difusoranews.com/bem-estar/campanha-janeiro-roxo-combate-a-hanseniase/\n",
      "https://difusoranews.com/bem-estar/dormir-tarde-da-noite-favorece-o-ganho-de-peso-diz-pesquisa/\n",
      "https://difusoranews.com/bem-estar/ministerio-da-saude-distribui-novo-medicamento-contra-o-virus-da-aids/\n",
      "https://difusoranews.com/bem-estar/rotulos-de-medicamentos-deverao-ter-alerta-de-substancias-consideradas-como-doping/\n",
      "https://difusoranews.com/bem-estar/pomadas-modeladoras-saiba-quais-sao-os-cuidados-e-produtos-autorizados-pela-anvisa/\n",
      "https://difusoranews.com/bem-estar/metas-para-um-novo-ano-como-cumprir-a-lista-de-promessas/\n",
      "https://difusoranews.com/bem-estar/janeiro-branco-confira-6-dicas-para-cuidar-da-saude-mental/\n",
      "https://difusoranews.com/bem-estar/o-que-nao-pode-comer-na-virada-do-ano-veja-dicas-de-cardapio/\n",
      "https://difusoranews.com/bem-estar/o-poder-dos-oleos-essenciais-no-controle-da-ansiedade/\n",
      "https://difusoranews.com/bem-estar/confira-dicas-para-evitar-ressacas-nas-festas-de-fim-de-ano/\n",
      "https://difusoranews.com/bem-estar/privacao-do-sono-pode-causar-diabetes/\n",
      "https://difusoranews.com/bem-estar/exagerou-nas-festas-de-fim-de-ano-veja-seis-dicas-de-chas-digestivos/\n",
      "https://difusoranews.com/bem-estar/tipica-do-verao-salada-vai-ficar-mais-cara-com-ondas-de-calor/\n",
      "https://difusoranews.com/bem-estar/startup-desenvolve-teste-para-rastreamento-de-cancer-do-colo-do-utero/\n",
      "https://difusoranews.com/bem-estar/pesquisadores-desenvolvem-hidrogel-anti-inflamatorio-de-baixo-custo/\n",
      "https://difusoranews.com/bem-estar/campanha-dezembro-laranja-alerta-sobre-o-cancer-de-pele/\n",
      "https://difusoranews.com/bem-estar/saiba-a-importancia-do-fonoaudiologo-e-quando-procurar-um-especialista/\n",
      "https://difusoranews.com/bem-estar/jovens-que-usam-cigarro-eletronico-tem-niveis-de-nicotina-de-quem-fuma-20-cigarros/\n",
      "https://difusoranews.com/bem-estar/dor-nas-costas-conheca-os-tipos-quais-sao-as-causas-e-como-reduzir-os-riscos-2/\n",
      "https://difusoranews.com/bem-estar/dormir-pouco-pode-acabar-com-todos-os-beneficios-de-suas-atividades-fisicas-2/\n",
      "https://difusoranews.com/bem-estar/quais-sao-os-sintomas-de-pressao-alta-e-como-controlar-2/\n",
      "https://difusoranews.com/bem-estar/ondas-de-calor-da-menopausa-sao-mais-perigosas-do-que-se-pensava-dizem-estudos-2/\n",
      "https://difusoranews.com/bem-estar/quedas-sao-responsaveis-por-25-dos-casos-de-hospitalizacao-de-idosos/\n",
      "https://difusoranews.com/bem-estar/nutricionista-da-dicas-para-evitar-o-desperdicio-de-alimentos/\n",
      "https://difusoranews.com/bem-estar/novembro-azul-diagnostico-precoce-do-cancer-de-prostata-ajuda-a-salvar-vidas/\n",
      "https://difusoranews.com/bem-estar/ultima-refeicao-tarde-da-noite-favorece-ganho-de-peso-e-gordura/\n",
      "https://difusoranews.com/bem-estar/enem-2023-cuidados-devem-ser-com-o-corpo-e-a-mente-na-reta-final-do-exame/\n",
      "https://difusoranews.com/bem-estar/laticinios-integrais-ou-desnatados-quais-as-diferencas-e-como-escolher/\n",
      "https://difusoranews.com/bem-estar/como-a-alimentacao-pode-ajudar-a-reduzir-o-envelhecimento/\n",
      "https://difusoranews.com/bem-estar/um-a-cada-tres-brasileiros-nao-sabe-que-e-hipertenso/\n",
      "https://difusoranews.com/bem-estar/mundo-terra-zoo/quixaba-experience-samba-diversao-e-contato-com-a-natureza/\n",
      "https://difusoranews.com/bem-estar/dermatologista-da-dicas-sobre-como-cuidar-da-pele-durante-a-onda-de-calor/\n",
      "https://difusoranews.com/bem-estar/mundo-terra-zoo/terra-zoo-explica-meu-cachorro-pode-tomar-sorvete/\n",
      "https://difusoranews.com/bem-estar/seis-dicas-de-especialista-sobre-os-principais-cuidados-com-o-pulmao/\n",
      "https://difusoranews.com/bem-estar/ondas-de-calor-da-menopausa-sao-mais-perigosas-do-que-se-pensava-dizem-estudos/\n",
      "https://difusoranews.com/bem-estar/tomar-ou-nao-suplemento-alimentar-eis-a-questao-2/\n",
      "https://difusoranews.com/bem-estar/5-praticas-para-manter-o-cerebro-ativo-e-lidar-melhor-com-as-emocoes/\n",
      "https://difusoranews.com/bem-estar/tanto-falta-quanto-excesso-de-carboidratos-na-dieta-elevam-mortalidade/\n"
     ]
    }
   ],
   "source": [
    "soup = BeautifulSoup(dados, 'html.parser')\n",
    "links = soup.select('h3.text-xl a')\n",
    "\n",
    "for link in links:\n",
    "    print(link.get('href'))\n"
   ]
  },
  {
   "cell_type": "markdown",
   "metadata": {},
   "source": [
    "# Exercício 9:\n",
    "\n",
    "#### Repita a questão anterior utilizando um site de notícias de sua escolha."
   ]
  },
  {
   "cell_type": "code",
   "execution_count": 185,
   "metadata": {},
   "outputs": [
    {
     "name": "stdout",
     "output_type": "stream",
     "text": [
      "https://g1.globo.com/busca/click?q=not%C3%ADcias&p=1&r=1726853290222&u=https%3A%2F%2Fgloboplay.globo.com%2Fv%2F12938617%2F&syn=False&key=29265bf95957537f247a6eeaee191b45\n",
      "https://g1.globo.com/busca/click?q=not%C3%ADcias&p=2&r=1726853290223&u=https%3A%2F%2Fg1.globo.com%2Fsc%2Fsanta-catarina%2Fnoticia%2F2023%2F10%2F06%2Fnsc-tv-informacoes-adicionais-dos-telejornais-bom-dia-sc-jornal-do-almoco-e-nsc-noticias.ghtml&syn=False&key=f9f4b3ffe844e1a872b3a940a9eaf339\n",
      "https://g1.globo.com/busca/click?q=not%C3%ADcias&p=3&r=1726853290225&u=https%3A%2F%2Fg1.globo.com%2Fro%2Frondonia%2Fplaylist%2Fnoticias-de-rondonia.ghtml&syn=False&key=a03807add70aa6dab18c0a304c78a159\n",
      "https://g1.globo.com/busca/click?q=not%C3%ADcias&p=4&r=1726853290226&u=https%3A%2F%2Fgloboplay.globo.com%2Fv%2F12937009%2F&syn=False&key=98f849e06a72be020d5b82bcfcf2ecf6\n",
      "https://g1.globo.com/busca/click?q=not%C3%ADcias&p=5&r=1726853290228&u=https%3A%2F%2Fgloboplay.globo.com%2Fv%2F12935186%2F&syn=False&key=a15433ba03bc9342b7bdfac4b1026f92\n",
      "https://g1.globo.com/busca/click?q=not%C3%ADcias&p=6&r=1726853290230&u=https%3A%2F%2Fgloboplay.globo.com%2Fv%2F12935733%2F&syn=False&key=8d5dbdf856052b2800464d7621084b99\n",
      "https://g1.globo.com/busca/click?q=not%C3%ADcias&p=7&r=1726853290232&u=https%3A%2F%2Fgloboplay.globo.com%2Fv%2F12935562%2F&syn=False&key=ae39b5a49729b35828b5200ee958f20f\n",
      "https://g1.globo.com/busca/click?q=not%C3%ADcias&p=8&r=1726853290234&u=https%3A%2F%2Fg1.globo.com%2Fsp%2Fsorocaba-jundiai%2Feleicoes%2F2024%2Fnoticia%2F2024%2F09%2F19%2Ftem-noticias-entrevista-gustavo-martinelli-uniao-candidato-a-prefeitura-de-jundiai.ghtml&syn=False&key=af9e2f4a11268e6a6e65b210b5acbcdd\n",
      "https://g1.globo.com/busca/click?q=not%C3%ADcias&p=9&r=1726853290236&u=https%3A%2F%2Fg1.globo.com%2Fsp%2Fitapetininga-regiao%2Feleicoes%2F2024%2Fnoticia%2F2024%2F09%2F19%2Ftem-noticias-entrevista-rogerio-milagre-pmn-candidato-a-prefeitura-de-tatui.ghtml&syn=False&key=8b5585c7f308846af99d1e9b5ff12582\n",
      "https://g1.globo.com/busca/click?q=not%C3%ADcias&p=10&r=1726853290238&u=https%3A%2F%2Fg1.globo.com%2Fsp%2Fbauru-marilia%2Feleicoes%2F2024%2Fnoticia%2F2024%2F09%2F19%2Ftem-noticias-entrevista-nayara-mazini-psol-candidata-a-prefeitura-de-marilia.ghtml&syn=False&key=b31990c9291ab5c6841ff6c5a11eca14\n",
      "https://g1.globo.com/busca/click?q=not%C3%ADcias&p=11&r=1726853290240&u=https%3A%2F%2Fg1.globo.com%2Fsp%2Fsorocaba-jundiai%2Feleicoes%2F2024%2Fnoticia%2F2024%2F09%2F19%2Ftem-noticias-entrevista-silas-feitosa-prtb-candidato-a-prefeitura-de-jundiai.ghtml&syn=False&key=aaccea6cbca65f9996eaf0e53ab6242f\n",
      "https://g1.globo.com/busca/click?q=not%C3%ADcias&p=12&r=1726853290242&u=https%3A%2F%2Fg1.globo.com%2Fsp%2Fsao-jose-do-rio-preto-aracatuba%2Feleicoes%2F2024%2Fnoticia%2F2024%2F09%2F19%2Ftem-noticias-entrevista-cido-prefeito-pv-candidato-a-prefeitura-de-aracatuba.ghtml&syn=False&key=65d056fa9006d2b0169c3dfbac6c6aab\n",
      "https://g1.globo.com/busca/click?q=not%C3%ADcias&p=13&r=1726853290243&u=https%3A%2F%2Fgloboplay.globo.com%2Fv%2F12933816%2F&syn=False&key=a359db8bcfa935f278748f8ccebda07f\n",
      "https://g1.globo.com/busca/click?q=not%C3%ADcias&p=14&r=1726853290244&u=https%3A%2F%2Fg1.globo.com%2Fsp%2Fribeirao-preto-franca%2Feleicoes%2F2024%2Fao-vivo%2Fprograma-g1-ribeirao-eleicoes-2024.ghtml&syn=False&key=2eb29dd11a82751d9dbe1dbd9dc1a6b2\n",
      "https://g1.globo.com/busca/click?q=not%C3%ADcias&p=15&r=1726853290246&u=https%3A%2F%2Fgloboplay.globo.com%2Fv%2F12933417%2F&syn=False&key=21a37ed10c00d833febf66b83f401ca0\n",
      "https://g1.globo.com/busca/click?q=not%C3%ADcias&p=16&r=1726853642104&u=https%3A%2F%2Fgloboplay.globo.com%2Fv%2F12931653%2F&syn=False&key=87f59fb506643e73fc363aeada8f211e\n",
      "https://g1.globo.com/busca/click?q=not%C3%ADcias&p=17&r=1726853642106&u=https%3A%2F%2Fgloboplay.globo.com%2Fv%2F12932170%2F&syn=False&key=381fd8eb08e9fe9aa7c1b7c23d8043c5\n",
      "https://g1.globo.com/busca/click?q=not%C3%ADcias&p=18&r=1726853642108&u=https%3A%2F%2Fgloboplay.globo.com%2Fv%2F12931768%2F&syn=False&key=f11bd485b440a7fd0fcb28b192121613\n",
      "https://g1.globo.com/busca/click?q=not%C3%ADcias&p=19&r=1726853642110&u=https%3A%2F%2Fg1.globo.com%2Fsp%2Fsao-jose-do-rio-preto-aracatuba%2Feleicoes%2F2024%2Fnoticia%2F2024%2F09%2F18%2Ftem-noticias-entrevista-dr-filipe-fornari-pp-candidato-a-prefeitura-de-aracatuba.ghtml&syn=False&key=36ef2be3c5e8870711237ae4df4e48f9\n",
      "https://g1.globo.com/busca/click?q=not%C3%ADcias&p=20&r=1726853642112&u=https%3A%2F%2Fg1.globo.com%2Fsp%2Fbauru-marilia%2Feleicoes%2F2024%2Fnoticia%2F2024%2F09%2F18%2Ftem-noticias-entrevista-garcia-da-hadassa-novo-candidato-a-prefeitura-de-marilia.ghtml&syn=False&key=644d8591c7b735b01940b039d743f374\n",
      "https://g1.globo.com/busca/click?q=not%C3%ADcias&p=21&r=1726853642115&u=https%3A%2F%2Fg1.globo.com%2Fsp%2Fitapetininga-regiao%2Feleicoes%2F2024%2Fnoticia%2F2024%2F09%2F18%2Ftem-noticias-entrevista-professor-miguel-psd-candidato-a-prefeitura-de-tatui.ghtml&syn=False&key=5d0b3c0bbdc5fa8785a08ce3b579b333\n",
      "https://g1.globo.com/busca/click?q=not%C3%ADcias&p=22&r=1726853642117&u=https%3A%2F%2Fgloboplay.globo.com%2Fv%2F12929471%2F&syn=False&key=231d7ac5c6eb213bb39a3d58ad911b62\n",
      "https://g1.globo.com/busca/click?q=not%C3%ADcias&p=23&r=1726853642119&u=https%3A%2F%2Fg1.globo.com%2Fsp%2Fsorocaba-jundiai%2Feleicoes%2F2024%2Fnoticia%2F2024%2F09%2F18%2Ftem-noticias-entrevista-ricardo-bocalon-psb-candidato-a-prefeitura-de-jundiai.ghtml&syn=False&key=7c7926b20846151a0572ab15dd46237c\n",
      "https://g1.globo.com/busca/click?q=not%C3%ADcias&p=24&r=1726853642121&u=https%3A%2F%2Fgloboplay.globo.com%2Fv%2F12927898%2F&syn=False&key=6c1020dfb5b0cf6ca2ad52b99ad5e0ae\n",
      "https://g1.globo.com/busca/click?q=not%C3%ADcias&p=25&r=1726853642123&u=https%3A%2F%2Fgloboplay.globo.com%2Fv%2F12928215%2F&syn=False&key=e679b6f58926892d363f96f4cd634044\n",
      "https://g1.globo.com/busca/click?q=not%C3%ADcias&p=26&r=1726853642126&u=https%3A%2F%2Fg1.globo.com%2Fsp%2Fsao-jose-do-rio-preto-aracatuba%2Feleicoes%2F2024%2Fnoticia%2F2024%2F09%2F17%2Ftem-noticias-entrevista-zanatta-pl-candidato-a-prefeitura-de-aracatuba.ghtml&syn=False&key=dd352cec8de6b8c116315460288031a0\n",
      "https://g1.globo.com/busca/click?q=not%C3%ADcias&p=27&r=1726853642128&u=https%3A%2F%2Fgloboplay.globo.com%2Fv%2F12925993%2F&syn=False&key=5fe732d548f0bf55e4c68a47daa8241c\n",
      "https://g1.globo.com/busca/click?q=not%C3%ADcias&p=28&r=1726853642130&u=https%3A%2F%2Fg1.globo.com%2Fsp%2Fitapetininga-regiao%2Feleicoes%2F2024%2Fnoticia%2F2024%2F09%2F17%2Ftem-noticias-entrevista-eduardo-sallum-pt-candidato-a-prefeitura-de-tatui.ghtml&syn=False&key=87ac5f33e792f89ec40933804fbac644\n",
      "https://g1.globo.com/busca/click?q=not%C3%ADcias&p=29&r=1726853642132&u=https%3A%2F%2Fg1.globo.com%2Fsp%2Fbauru-marilia%2Feleicoes%2F2024%2Fnoticia%2F2024%2F09%2F17%2Ftem-noticias-entrevista-vinicius-camarinha-psdb-candidato-a-prefeitura-de-marilia.ghtml&syn=False&key=b7722c312c40c6b4a2ee6abe905ddadf\n",
      "https://g1.globo.com/busca/click?q=not%C3%ADcias&p=30&r=1726853642135&u=https%3A%2F%2Fg1.globo.com%2Fsp%2Fsorocaba-jundiai%2Feleicoes%2F2024%2Fnoticia%2F2024%2F09%2F17%2Ftem-noticias-entrevista-professor-higor-codarin-psol-candidato-a-prefeitura-de-jundiai.ghtml&syn=False&key=3683e4716ade7a922d6d826f6e048fb1\n",
      "https://g1.globo.com/busca/click?q=not%C3%ADcias&p=31&r=1726853642027&u=https%3A%2F%2Fg1.globo.com%2Fpodcast%2Fresumao-diario%2Fnoticia%2F2024%2F09%2F20%2Fresumao-diario-1170-policia-federal-prende-19-candidatos-das-eleicoes-municipais-que-tinham-mandados-em-aberto-jogo-eleitoral-ferramenta-ajuda-eleitor-a-entender-o-que-pensam-os-candidatos-a-prefeito-em-relacao-a-dez-propostas.ghtml&syn=False&key=c8ce0013aa154f61cf30b0ca67030288\n",
      "https://g1.globo.com/busca/click?q=not%C3%ADcias&p=32&r=1726853642030&u=https%3A%2F%2Fg1.globo.com%2Fes%2Fespirito-santo%2Fao-vivo%2Fassista-bdes.ghtml&syn=False&key=caef664349730fa0dc8b933c6da1fdb3\n",
      "https://g1.globo.com/busca/click?q=not%C3%ADcias&p=33&r=1726853642032&u=https%3A%2F%2Fg1.globo.com%2Fes%2Fespirito-santo%2Fao-vivo%2Fao-vivo-assista-ao-boa-noite-espirito-santo.ghtml&syn=False&key=2d74cdfb065eba2ad456ca0a5b035c1b\n",
      "https://g1.globo.com/busca/click?q=not%C3%ADcias&p=34&r=1726853642075&u=https%3A%2F%2Fg1.globo.com%2Fsp%2Fsao-jose-do-rio-preto-aracatuba%2Feleicoes%2F2024%2Fnoticia%2F2024%2F09%2F16%2Ftem-noticias-entrevista-borella-psd-candidato-a-prefeitura-de-aracatuba.ghtml&syn=False&key=d07965d77039347d50d243abb278437d\n",
      "https://g1.globo.com/busca/click?q=not%C3%ADcias&p=35&r=1726853642078&u=https%3A%2F%2Fg1.globo.com%2Fsp%2Fsorocaba-jundiai%2Feleicoes%2F2024%2Fnoticia%2F2024%2F09%2F16%2Ftem-noticias-entrevista-parimoschi-pl-candidato-a-prefeitura-de-jundiai.ghtml&syn=False&key=adec587b959c383ebf6ed6ededf1daa9\n",
      "https://g1.globo.com/busca/click?q=not%C3%ADcias&p=36&r=1726853642082&u=https%3A%2F%2Fg1.globo.com%2Fsp%2Fbauru-marilia%2Feleicoes%2F2024%2Fnoticia%2F2024%2F09%2F16%2Ftem-noticias-entrevista-ricardinho-mustafa-pl-candidato-a-prefeitura-de-marilia.ghtml&syn=False&key=77ae1cfeab9d65cab26d66300c956454\n",
      "https://g1.globo.com/busca/click?q=not%C3%ADcias&p=37&r=1726853642087&u=https%3A%2F%2Fgloboplay.globo.com%2Fv%2F12919933%2F&syn=False&key=671e51d4fb37467c7ac19f215abb7bb7\n",
      "https://g1.globo.com/busca/click?q=not%C3%ADcias&p=38&r=1726853642090&u=https%3A%2F%2Fgloboplay.globo.com%2Fv%2F12919730%2F&syn=False&key=ecdccce298e809f3e5b98532212cad6c\n",
      "https://g1.globo.com/busca/click?q=not%C3%ADcias&p=39&r=1726853642094&u=https%3A%2F%2Fg1.globo.com%2Fsp%2Fitapetininga-regiao%2Feleicoes%2F2024%2Fnoticia%2F2024%2F09%2F16%2Ftem-noticias-entrevista-alessandra-gonzaga-pp-candidata-a-prefeitura-de-tatui.ghtml&syn=False&key=39f039c416dcae548aa6fe242ed4b56a\n",
      "https://g1.globo.com/busca/click?q=not%C3%ADcias&p=40&r=1726853642097&u=https%3A%2F%2Fg1.globo.com%2Fpodcast%2Fresumao-diario%2Fnoticia%2F2024%2F09%2F19%2Fresumao-diario-1169-operacao-contra-pirataria-tira-do-ar-675-sites-e-14-apps-de-streaming-ilegal-e-prende-suspeitos-no-brasil-e-na-argentina-prisao-imediata-apos-o-juri-veja-o-que-muda-com-decisao-do-stf-e-quais-os-tipos-de-casos-mais-afetados.ghtml&syn=False&key=3918418c9aca50747dc9af7caae9c433\n",
      "https://g1.globo.com/busca/click?q=not%C3%ADcias&p=41&r=1726853642099&u=https%3A%2F%2Fgloboplay.globo.com%2Fv%2F12918967%2F&syn=False&key=a878656eaca6dbfda1290e8d8c18e06f\n",
      "https://g1.globo.com/busca/click?q=not%C3%ADcias&p=42&r=1726853642102&u=https%3A%2F%2Fgloboplay.globo.com%2Fv%2F12917858%2F&syn=False&key=1715996138348ab36ab941d98987fe3a\n",
      "https://g1.globo.com/busca/click?q=not%C3%ADcias&p=43&r=1726853642104&u=https%3A%2F%2Fgloboplay.globo.com%2Fv%2F12916162%2F&syn=False&key=bb373a84d8d44545cf1c01decaa5e14a\n",
      "https://g1.globo.com/busca/click?q=not%C3%ADcias&p=44&r=1726853642176&u=https%3A%2F%2Fg1.globo.com%2Fpodcast%2Fresumao-diario%2Fnoticia%2F2024%2F09%2F19%2Fresumao-diario-do-jn-ministerio-de-minas-e-energia-propoe-a-volta-do-horario-de-verao-e-parlamento-europeu-reconhece-gonzalez-como-presidente-eleito-da-venezuela.ghtml&syn=False&key=81803a45f240e3e12a97c606a4d3ad60\n",
      "https://g1.globo.com/busca/click?q=not%C3%ADcias&p=45&r=1726853642180&u=https%3A%2F%2Fgloboplay.globo.com%2Fv%2F12915476%2F&syn=False&key=6d144ce199a3316f784d1561a29fd73b\n",
      "https://g1.globo.com/busca/click?q=not%C3%ADcias&p=46&r=1726853642569&u=https%3A%2F%2Fgloboplay.globo.com%2Fv%2F12917263%2F&syn=False&key=e081860a3e7e15a664bbc3610adef764\n",
      "https://g1.globo.com/busca/click?q=not%C3%ADcias&p=47&r=1726853642573&u=https%3A%2F%2Fg1.globo.com%2Fpodcast%2Fresumao-diario%2Fnoticia%2F2024%2F09%2F19%2Fresumao-diario-1168-61-candidatos-disputam-eleicao-com-mandados-de-prisao-em-aberto-fogo-em-savanas-do-cerrado-sobe-221percent-em-agosto.ghtml&syn=False&key=2db3017aa4280d686c92300cb979957f\n",
      "https://g1.globo.com/busca/click?q=not%C3%ADcias&p=48&r=1726853642576&u=https%3A%2F%2Fgloboplay.globo.com%2Fv%2F12912240%2F&syn=False&key=c920db4bbe6c0ca71afa7730c7af1c05\n",
      "https://g1.globo.com/busca/click?q=not%C3%ADcias&p=49&r=1726853642577&u=https%3A%2F%2Fgloboplay.globo.com%2Fv%2F12910880%2F&syn=False&key=689e3982376d89f8ae74d361032a5bf3\n",
      "https://g1.globo.com/busca/click?q=not%C3%ADcias&p=50&r=1726853642579&u=https%3A%2F%2Fg1.globo.com%2Fmg%2Fvales-mg%2Fnoticia%2F2024%2F09%2F14%2Fprogramacao-de-7-de-setembro-eleicoes-em-ipatinga-e-incendio-em-governador-valadares-veja-as-noticias-mais-lidas-da-semana.ghtml&syn=False&key=c2b8b53ba0d22a2ee35bcc92363bcdd4\n",
      "https://g1.globo.com/busca/click?q=not%C3%ADcias&p=51&r=1726853642581&u=https%3A%2F%2Fgloboplay.globo.com%2Fv%2F12911558%2F&syn=False&key=a3b34bd74e6427e78380dfee1de225a8\n",
      "https://g1.globo.com/busca/click?q=not%C3%ADcias&p=52&r=1726853642584&u=https%3A%2F%2Fgloboplay.globo.com%2Fv%2F12908803%2F&syn=False&key=073f353273307119227d84b366494190\n",
      "https://g1.globo.com/busca/click?q=not%C3%ADcias&p=53&r=1726853642586&u=https%3A%2F%2Fgloboplay.globo.com%2Fv%2F12910972%2F&syn=False&key=b36f3ab13e9f4035be128c8595634cef\n",
      "https://g1.globo.com/busca/click?q=not%C3%ADcias&p=54&r=1726853642589&u=https%3A%2F%2Fg1.globo.com%2Fpodcast%2Fresumao-diario%2Fnoticia%2F2024%2F09%2F18%2Fresumao-diario-1167-apos-pagers-walkie-talkies-do-hezbollah-explodem-em-beirute-e-no-sul-do-libano-3-morrem-mulheres-ganham-207percent-a-menos-que-homens-no-brasil-diz-governo-diferenca-cresceu-desde-marco.ghtml&syn=False&key=4b3df0835850551129fca603bc33a37f\n",
      "https://g1.globo.com/busca/click?q=not%C3%ADcias&p=55&r=1726853642593&u=https%3A%2F%2Fg1.globo.com%2Feconomia%2Fnoticia%2F2024%2F09%2F17%2Ftupperware-dificuldade-financeira.ghtml&syn=False&key=625317d155f20c207b9e688dda7bdd5e\n",
      "https://g1.globo.com/busca/click?q=not%C3%ADcias&p=56&r=1726853642596&u=https%3A%2F%2Fgloboplay.globo.com%2Fv%2F12907310%2F&syn=False&key=38eef171ae9b4f6df0d9c31d0fddf1e6\n",
      "https://g1.globo.com/busca/click?q=not%C3%ADcias&p=57&r=1726853642598&u=https%3A%2F%2Fg1.globo.com%2Fma%2Fmaranhao%2Fnoticia%2F2024%2F09%2F15%2Fvoce-viu-aniversario-de-sao-luis-idoso-mata-esposa-a-facadas-empresario-encontrado-morto-na-praia-homem-usando-farda-da-pm-assalta-banco-e-outras-noticias-da-semana.ghtml&syn=False&key=3bc3b519b164b1df59206dad2b8de200\n",
      "https://g1.globo.com/busca/click?q=not%C3%ADcias&p=58&r=1726853642601&u=https%3A%2F%2Fgloboplay.globo.com%2Fv%2F12905185%2F&syn=False&key=586cbfc790c664df6d638972e811c974\n",
      "https://g1.globo.com/busca/click?q=not%C3%ADcias&p=59&r=1726853642603&u=https%3A%2F%2Fgloboplay.globo.com%2Fv%2F12903820%2F&syn=False&key=c8d432114d285351ce0deda7b084d1e1\n",
      "https://g1.globo.com/busca/click?q=not%C3%ADcias&p=60&r=1726853642605&u=https%3A%2F%2Fgloboplay.globo.com%2Fv%2F12909965%2F&syn=False&key=4f28e8f14d6fcd67b992e4a1deb370cc\n",
      "https://g1.globo.com/busca/click?q=not%C3%ADcias&p=61&r=1726853643073&u=https%3A%2F%2Fgloboplay.globo.com%2Fv%2F12904577%2F&syn=False&key=a9008b41e9d9afcc45f759995e85b1c4\n",
      "https://g1.globo.com/busca/click?q=not%C3%ADcias&p=62&r=1726853643075&u=https%3A%2F%2Fgloboplay.globo.com%2Fv%2F12906293%2F&syn=False&key=a35c1c66879639e9fac028d9421eeaa7\n",
      "https://g1.globo.com/busca/click?q=not%C3%ADcias&p=63&r=1726853643077&u=https%3A%2F%2Fg1.globo.com%2Frr%2Froraima%2Fnoticia%2F2024%2F09%2F12%2Fmae-de-piloto-desaparecido-na-venezuela-chega-a-roraima-em-busca-de-noticias-preciso-muito-que-autoridades-me-ajudem.ghtml&syn=False&key=4ce375f3c09be1bcc953aac29df704c8\n",
      "https://g1.globo.com/busca/click?q=not%C3%ADcias&p=64&r=1726853643080&u=https%3A%2F%2Fg1.globo.com%2Fpodcast%2Fresumao-diario%2Fnoticia%2F2024%2F09%2F18%2Fresumao-diario-do-jn-fed-reduz-juros-dos-eua-pela-primeira-vez-em-4-anos-e-cerrado-brasileiro-perde-cinco-dias-de-chuva-em-media-por-ano.ghtml&syn=False&key=a8055d5fd3568ee426fcd20c8e5edf78\n",
      "https://g1.globo.com/busca/click?q=not%C3%ADcias&p=65&r=1726853643081&u=https%3A%2F%2Fgloboplay.globo.com%2Fv%2F12905295%2F&syn=False&key=b5ef35cc69bc942c2a73543649f0ef79\n",
      "https://g1.globo.com/busca/click?q=not%C3%ADcias&p=66&r=1726853643083&u=https%3A%2F%2Fg1.globo.com%2Fpodcast%2Fresumao-diario%2Fnoticia%2F2024%2F09%2F18%2Fresumao-diario-1166-quaest-mostra-empate-tecnico-em-sp-entre-nunes-boulos-e-marcal-banco-central-deve-fazer-hoje-1o-aumento-de-juros-desde-2022.ghtml&syn=False&key=930c2067c9780b8373888b0afaf82ca1\n",
      "https://g1.globo.com/busca/click?q=not%C3%ADcias&p=67&r=1726853643085&u=https%3A%2F%2Fgloboplay.globo.com%2Fv%2F12899171%2F&syn=False&key=baefb7a18c44f39efbc14992f2475778\n",
      "https://g1.globo.com/busca/click?q=not%C3%ADcias&p=68&r=1726853643087&u=https%3A%2F%2Fg1.globo.com%2Fpodcast%2Fresumao-diario%2Fnoticia%2F2024%2F09%2F17%2Fresumao-diario-1165-empresas-de-apostas-que-nao-pediram-autorizacao-terao-funcionamento-suspenso-em-outubro-diz-fazenda-novo-video-mostra-que-datena-arremessa-cadeira-em-marcal-e-ameaca-pegar-outra.ghtml&syn=False&key=af468a04ccef3bc58793ae8138fa8fa8\n",
      "https://g1.globo.com/busca/click?q=not%C3%ADcias&p=69&r=1726853643089&u=https%3A%2F%2Fgloboplay.globo.com%2Fv%2F12898136%2F&syn=False&key=b027fe88ea433d5f0e4e1841f61f82df\n",
      "https://g1.globo.com/busca/click?q=not%C3%ADcias&p=70&r=1726853643090&u=https%3A%2F%2Fg1.globo.com%2Fac%2Facre%2Fnoticia%2F2024%2F09%2F11%2Fmae-de-piloto-desaparecido-na-venezuela-procurou-a-policia-do-ac-em-busca-de-noticias-do-filho-diz-delegado.ghtml&syn=False&key=43a90c9852c3756b0b3fe5a39b71d39e\n",
      "https://g1.globo.com/busca/click?q=not%C3%ADcias&p=71&r=1726853643092&u=https%3A%2F%2Fgloboplay.globo.com%2Fv%2F12899502%2F&syn=False&key=36839d60667ce830ca8a1d088b0f5125\n",
      "https://g1.globo.com/busca/click?q=not%C3%ADcias&p=72&r=1726853643094&u=https%3A%2F%2Fg1.globo.com%2Fmundo%2Fnoticia%2F2024%2F09%2F10%2Fprincipe-william-sobre-recuperacao-de-kate-sao-boas-noticias-mas-ainda-ha-um-longo-caminho-a-percorrer.ghtml&syn=False&key=9f55a08c0050da58e7e6636d4fe67998\n",
      "https://g1.globo.com/busca/click?q=not%C3%ADcias&p=73&r=1726853643096&u=https%3A%2F%2Fgloboplay.globo.com%2Fv%2F12893188%2F&syn=False&key=6a9748c2d3e1337725a9c62f884bafb2\n",
      "https://g1.globo.com/busca/click?q=not%C3%ADcias&p=74&r=1726853643097&u=https%3A%2F%2Fgloboplay.globo.com%2Fv%2F12901899%2F&syn=False&key=103312360f60d7ed296c1dbf9116d3aa\n",
      "https://g1.globo.com/busca/click?q=not%C3%ADcias&p=75&r=1726853643099&u=https%3A%2F%2Fgloboplay.globo.com%2Fv%2F12894154%2F&syn=False&key=578d611ade6d04bb41ca6e3906585664\n"
     ]
    }
   ],
   "source": [
    "headers = {\n",
    "    'User-Agent': 'Mozilla/5.0 (Windows NT 10.0; Win64; x64) AppleWebKit/537.36 '\n",
    "                    '(KHTML, like Gecko) Chrome/58.0.3029.110 Safari/537.36'\n",
    "}\n",
    "\n",
    "dados = \"\"\n",
    "\n",
    "for i in range(1,6):\n",
    "    url = f'https://g1.globo.com/busca/?q=not%C3%ADcias&page={i}'\n",
    "    response = requests.get(url, headers=headers)\n",
    "    dados += response.text\n",
    "\n",
    "soup = BeautifulSoup(dados, 'html.parser')\n",
    "links = soup.select('div.widget--info__text-container a')\n",
    "\n",
    "for link in links:\n",
    "    link_ajustado = 'https:' + str(link.get('href'))\n",
    "    print(link_ajustado)\n"
   ]
  },
  {
   "cell_type": "markdown",
   "metadata": {},
   "source": [
    "# Exercício 10: \n",
    "\n",
    "#### Consulte o arquivo `robots.txt` do site https://tecnoblog.net/ para encontrar o link do `sitemap_index` e obtenha a partir dele a lista de todos os sitemaps de notícias (filtrando apenas os de notícias)."
   ]
  },
  {
   "cell_type": "code",
   "execution_count": 191,
   "metadata": {},
   "outputs": [],
   "source": [
    "headers = {'User-Agent': 'Mozilla/5.0 (Windows NT 10.0; Win64; x64) AppleWebKit/537.36 (KHTML, like Gecko) Chrome/91.0.4472.124 Safari/537.36'}\n",
    "\n",
    "response = requests.get('https://tecnoblog.net/sitemap_index.xml', headers=headers)\n",
    "soup = BeautifulSoup(response.text, 'xml')"
   ]
  },
  {
   "cell_type": "code",
   "execution_count": 195,
   "metadata": {},
   "outputs": [
    {
     "data": {
      "text/plain": [
       "['https://tecnoblog.net/noticias-sitemap.xml',\n",
       " 'https://tecnoblog.net/noticias-sitemap2.xml',\n",
       " 'https://tecnoblog.net/noticias-sitemap3.xml',\n",
       " 'https://tecnoblog.net/noticias-sitemap4.xml',\n",
       " 'https://tecnoblog.net/noticias-sitemap5.xml',\n",
       " 'https://tecnoblog.net/noticias-sitemap6.xml',\n",
       " 'https://tecnoblog.net/noticias-sitemap7.xml',\n",
       " 'https://tecnoblog.net/noticias-sitemap8.xml',\n",
       " 'https://tecnoblog.net/noticias-sitemap9.xml',\n",
       " 'https://tecnoblog.net/noticias-sitemap10.xml',\n",
       " 'https://tecnoblog.net/noticias-sitemap11.xml',\n",
       " 'https://tecnoblog.net/noticias-sitemap12.xml',\n",
       " 'https://tecnoblog.net/noticias-sitemap13.xml',\n",
       " 'https://tecnoblog.net/noticias-sitemap14.xml',\n",
       " 'https://tecnoblog.net/noticias-sitemap15.xml',\n",
       " 'https://tecnoblog.net/noticias-sitemap16.xml',\n",
       " 'https://tecnoblog.net/noticias-sitemap17.xml',\n",
       " 'https://tecnoblog.net/noticias-sitemap18.xml',\n",
       " 'https://tecnoblog.net/noticias-sitemap19.xml',\n",
       " 'https://tecnoblog.net/noticias-sitemap20.xml',\n",
       " 'https://tecnoblog.net/noticias-sitemap21.xml',\n",
       " 'https://tecnoblog.net/noticias-sitemap22.xml',\n",
       " 'https://tecnoblog.net/noticias-sitemap23.xml',\n",
       " 'https://tecnoblog.net/noticias-sitemap24.xml',\n",
       " 'https://tecnoblog.net/noticias-sitemap25.xml',\n",
       " 'https://tecnoblog.net/noticias-sitemap26.xml',\n",
       " 'https://tecnoblog.net/noticias-sitemap27.xml',\n",
       " 'https://tecnoblog.net/noticias-sitemap28.xml',\n",
       " 'https://tecnoblog.net/noticias-sitemap29.xml']"
      ]
     },
     "execution_count": 195,
     "metadata": {},
     "output_type": "execute_result"
    }
   ],
   "source": [
    "lista_noticias = []\n",
    "\n",
    "for sitemap in soup.find_all('sitemap'):\n",
    "    links = sitemap.find('loc').text\n",
    "    if 'noticias' in links:  \n",
    "        lista_noticias.append(links)\n",
    "\n",
    "lista_noticias"
   ]
  },
  {
   "cell_type": "markdown",
   "metadata": {},
   "source": [
    "# Exercício 11: \n",
    "\n",
    "#### Escolha um dos sites de exemplo em https://toscrape.com/ para criar um projeto no Scrapy que obtenha os principais dados disponíveis, salvando em CSV ou JSON conforme a conveniência em relação aos dados do site escolhido."
   ]
  },
  {
   "cell_type": "code",
   "execution_count": null,
   "metadata": {},
   "outputs": [],
   "source": [
    "# Abaixo colei o código do Scrapy, contido no arquivo books.py\n",
    "# O resultado pode ser conferido no arquivo \"DR2_TP3\\books_scraper\\books.csv\"\n",
    "\n",
    "import scrapy\n",
    "\n",
    "class BooksSpider(scrapy.Spider):\n",
    "    name = \"books\"\n",
    "    start_urls = ['https://books.toscrape.com/']\n",
    "\n",
    "    def parse(self, response):\n",
    "        for book in response.css('article.product_pod'):\n",
    "            yield {\n",
    "                'Titulo': book.css('h3 a::attr(title)').get(),\n",
    "                'Preço': book.css('p.price_color::text').get(),\n",
    "                'Disponibilidade': book.css('p.instock.availability i::attr(class)').get(),\n",
    "                'Avaliação': book.css('p.star-rating::attr(class)').get(),\n",
    "            }\n",
    "\n",
    "        next_page = response.css('li.next a::attr(href)').get()\n",
    "        if next_page is not None:\n",
    "            yield response.follow(next_page, self.parse)\n",
    "            "
   ]
  },
  {
   "cell_type": "markdown",
   "metadata": {},
   "source": [
    "# Exercício 12: \n",
    "\n",
    "#### Escolha um dos sites utilizados nas questões 6, 7, 8 e 9 para montar um projeto no Scrapy que abarque tanto o Crawling quanto o Scraping, a fim de rodá-lo tal como na questão anterior."
   ]
  },
  {
   "cell_type": "code",
   "execution_count": null,
   "metadata": {},
   "outputs": [],
   "source": [
    "# Abaixo colei o código do Scrapy, contido no arquivo news.py\n",
    "# O resultado pode ser conferido no arquivo \"DR2_TP3\\news_scraper\\news.csv\"\n",
    "\n",
    "import scrapy\n",
    "\n",
    "class NewsSpider(scrapy.Spider):\n",
    "    name = \"news\"\n",
    "    start_urls = [f'https://difusoranews.com/bem-estar/page/{i}/' for i in range(1, 6)]\n",
    "\n",
    "    def parse(self, response):\n",
    "        for link in response.css('h3.text-xl'):\n",
    "            yield {\n",
    "                 'titulo': link.css('a::attr(alt)').get(),\n",
    "                 'link': link.css('a::attr(href)').get(),\n",
    "                 }"
   ]
  }
 ],
 "metadata": {
  "kernelspec": {
   "display_name": "Python 3",
   "language": "python",
   "name": "python3"
  },
  "language_info": {
   "codemirror_mode": {
    "name": "ipython",
    "version": 3
   },
   "file_extension": ".py",
   "mimetype": "text/x-python",
   "name": "python",
   "nbconvert_exporter": "python",
   "pygments_lexer": "ipython3",
   "version": "3.11.3"
  }
 },
 "nbformat": 4,
 "nbformat_minor": 2
}
