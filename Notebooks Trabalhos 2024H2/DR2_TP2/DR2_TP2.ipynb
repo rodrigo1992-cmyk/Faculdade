{
 "cells": [
  {
   "cell_type": "markdown",
   "metadata": {},
   "source": [
    "### 1 Pesquise e descreva com suas palavras, resumidamente, cada uma das 7 camadas da internet:\n",
    "- Física: O meio utilizado para o transporte de dados, como cabos de fibra óptica, cobre ou wifi.\n",
    "- Ligação: A camada que controla o transporte de dados em uma conexão física já estabelecida, como o protocolo Ethernet e os endereços MAC.\n",
    "- Rede: Determina os caminhos em uma conexão entre vários computadores. Enquadra conceitos como roteadores, endereços IP e IPV6.\n",
    "- Transporte: Garante a integridade dos dados transmitidos, como protocolos TCP e UDP.\n",
    "- Sessão: Controla as sessões (início e fim) durante uma conexão, garantindo a sincronização entre os dois pontos conectados.\n",
    "- Apresentação: Se preocupa com a codificação utilizada para apresentar dados, como HTML,HSON, CSV, JPEG, etc...\n",
    "- Aplicação: Padronização da aplicação responsável pela apresentação dos dados, como HTTPs em navegadores, ou POP3 e SMTP em emails. "
   ]
  },
  {
   "cell_type": "markdown",
   "metadata": {},
   "source": [
    "### Pesquise e descreva com suas palavras, resumidamente, cada um dos principais métodos HTTP:\n",
    "- GET: Solicitação para receber dados do servidor, independente do formato (JSON, XML, HTML, etc..)\n",
    "- POST: Enviar (Criar) dados para o servidor.\n",
    "- PUT: Atualiza dados existentes no servidor.\n",
    "- PATCH: Atualiza dados parcialmente, como atualizar apenas um dos campos em um ID de uma tabela.\n",
    "- DELETE: Exclui os dados desejados no servidor.\n",
    "- HEAD: Retorna metadados sobre o recurso de uma URL\n",
    "- OPTIONS: Retorna uma lista de quais métodos HTTP são suportados ou permitidos pelo servidor para aquela URL."
   ]
  },
  {
   "cell_type": "markdown",
   "metadata": {},
   "source": [
    "### Pesquise e explique com suas palavras, resumidamente, o que é uma API:\n",
    "- API é uma forma de comunicação, que determina um conjunto de padrões e protocolos para que dois aplicativos consigam enviar e receber dados entre si, sem que haja necessidade de se conhecer a forma de construção/implementação um do outro."
   ]
  },
  {
   "cell_type": "markdown",
   "metadata": {},
   "source": [
    "### Execute o `requests.post` para preencher todos os campos do formulário que consta na URL https://httpbin.org/forms/post como se você estivesse realmente pedindo uma pizza, com suas próprias preferências, nome, email de aluno do Infnet e um telefone que pode ser falso, e imprima o retorno do site."
   ]
  },
  {
   "cell_type": "code",
   "execution_count": 47,
   "metadata": {},
   "outputs": [
    {
     "data": {
      "text/plain": [
       "['<!DOCTYPE html>',\n",
       " '<html>',\n",
       " '  <head>',\n",
       " '  </head>',\n",
       " '  <body>',\n",
       " \"  <!-- Example form from HTML5 spec http://www.w3.org/TR/html5/forms.html#writing-a-form's-user-interface -->\",\n",
       " '  <form method=\"post\" action=\"/post\">',\n",
       " '   <p><label>Customer name: <input name=\"custname\"></label></p>',\n",
       " '   <p><label>Telephone: <input type=tel name=\"custtel\"></label></p>',\n",
       " '   <p><label>E-mail address: <input type=email name=\"custemail\"></label></p>',\n",
       " '   <fieldset>',\n",
       " '    <legend> Pizza Size </legend>',\n",
       " '    <p><label> <input type=radio name=size value=\"small\"> Small </label></p>',\n",
       " '    <p><label> <input type=radio name=size value=\"medium\"> Medium </label></p>',\n",
       " '    <p><label> <input type=radio name=size value=\"large\"> Large </label></p>',\n",
       " '   </fieldset>',\n",
       " '   <fieldset>',\n",
       " '    <legend> Pizza Toppings </legend>',\n",
       " '    <p><label> <input type=checkbox name=\"topping\" value=\"bacon\"> Bacon </label></p>',\n",
       " '    <p><label> <input type=checkbox name=\"topping\" value=\"cheese\"> Extra Cheese </label></p>',\n",
       " '    <p><label> <input type=checkbox name=\"topping\" value=\"onion\"> Onion </label></p>',\n",
       " '    <p><label> <input type=checkbox name=\"topping\" value=\"mushroom\"> Mushroom </label></p>',\n",
       " '   </fieldset>',\n",
       " '   <p><label>Preferred delivery time: <input type=time min=\"11:00\" max=\"21:00\" step=\"900\" name=\"delivery\"></label></p>',\n",
       " '   <p><label>Delivery instructions: <textarea name=\"comments\"></textarea></label></p>',\n",
       " '   <p><button>Submit order</button></p>',\n",
       " '  </form>',\n",
       " '  </body>',\n",
       " '</html>']"
      ]
     },
     "execution_count": 47,
     "metadata": {},
     "output_type": "execute_result"
    }
   ],
   "source": [
    "import requests\n",
    "\n",
    "url = \"https://httpbin.org/forms/post\"\n",
    "resposta_get = requests.get(url)\n",
    "resposta_get.text.split(\"\\n\")"
   ]
  },
  {
   "cell_type": "code",
   "execution_count": 44,
   "metadata": {},
   "outputs": [
    {
     "data": {
      "text/plain": [
       "{'Date': 'Thu, 29 Aug 2024 01:19:07 GMT', 'Content-Type': 'text/html; charset=utf-8', 'Content-Length': '0', 'Connection': 'keep-alive', 'Server': 'gunicorn/19.9.0', 'Allow': 'OPTIONS, HEAD, GET', 'Access-Control-Allow-Origin': '*', 'Access-Control-Allow-Credentials': 'true', 'Access-Control-Allow-Methods': 'GET, POST, PUT, DELETE, PATCH, OPTIONS', 'Access-Control-Max-Age': '3600'}"
      ]
     },
     "execution_count": 44,
     "metadata": {},
     "output_type": "execute_result"
    }
   ],
   "source": [
    "resposta_options = requests.options(url)\n",
    "resposta_options.headers"
   ]
  },
  {
   "cell_type": "code",
   "execution_count": 49,
   "metadata": {},
   "outputs": [
    {
     "name": "stdout",
     "output_type": "stream",
     "text": [
      "<!DOCTYPE HTML PUBLIC \"-//W3C//DTD HTML 3.2 Final//EN\">\n",
      "<title>405 Method Not Allowed</title>\n",
      "<h1>Method Not Allowed</h1>\n",
      "<p>The method is not allowed for the requested URL.</p>\n",
      "\n"
     ]
    }
   ],
   "source": [
    "dados = {\"form\": {\n",
    "    \"comments\": \"22222\", \n",
    "    \"custemail\": \"eeee@gmail.com\", \n",
    "    \"custname\": \"2222222\", \n",
    "    \"custtel\": \"22222222\", \n",
    "    \"delivery\": \"16:30\", \n",
    "    \"size\": \"large\", \n",
    "    \"topping\": [\n",
    "      \"bacon\", \n",
    "      \"cheese\"\n",
    "    ]\n",
    "  }}\n",
    "\n",
    "resposta = requests.post(url, data=dados)\n",
    "\n",
    "print(resposta.text)"
   ]
  },
  {
   "cell_type": "code",
   "execution_count": 37,
   "metadata": {},
   "outputs": [
    {
     "name": "stdout",
     "output_type": "stream",
     "text": [
      "<!DOCTYPE HTML PUBLIC \"-//W3C//DTD HTML 3.2 Final//EN\">\n",
      "<title>405 Method Not Allowed</title>\n",
      "<h1>Method Not Allowed</h1>\n",
      "<p>The method is not allowed for the requested URL.</p>\n",
      "\n"
     ]
    }
   ],
   "source": [
    "dados = {\n",
    "    \"custname\": \"Rodrigo Mesquita\",\n",
    "    \"custtel\": \"981132222\",\n",
    "    \"custemail\": \"rpmesquita@al.infnet.edu.br\",\n",
    "    \"size\": \"small\",\n",
    "    \"topping\": [\"bacon\", \"cheese\"],\n",
    "    \"delivery\": \"18:30\",\n",
    "    \"comments\": \"Sem comentários\"\n",
    "}\n",
    "\n",
    "resposta = requests.post(url, data=dados)\n",
    "\n",
    "print(resposta.text)"
   ]
  },
  {
   "cell_type": "markdown",
   "metadata": {},
   "source": [
    "### Utilize a API \"Dados Abertos da Câmara dos Deputados\" (https://dadosabertos.camara.leg.br/swagger/api.html) para obter as informações de cada deputado, incluindo seus ids, armazenando em um dataframe do Pandas."
   ]
  },
  {
   "cell_type": "code",
   "execution_count": 1,
   "metadata": {},
   "outputs": [
    {
     "data": {
      "text/html": [
       "<div>\n",
       "<style scoped>\n",
       "    .dataframe tbody tr th:only-of-type {\n",
       "        vertical-align: middle;\n",
       "    }\n",
       "\n",
       "    .dataframe tbody tr th {\n",
       "        vertical-align: top;\n",
       "    }\n",
       "\n",
       "    .dataframe thead th {\n",
       "        text-align: right;\n",
       "    }\n",
       "</style>\n",
       "<table border=\"1\" class=\"dataframe\">\n",
       "  <thead>\n",
       "    <tr style=\"text-align: right;\">\n",
       "      <th></th>\n",
       "      <th>id</th>\n",
       "      <th>uri</th>\n",
       "      <th>nome</th>\n",
       "      <th>siglaPartido</th>\n",
       "      <th>uriPartido</th>\n",
       "      <th>siglaUf</th>\n",
       "      <th>idLegislatura</th>\n",
       "      <th>urlFoto</th>\n",
       "      <th>email</th>\n",
       "    </tr>\n",
       "  </thead>\n",
       "  <tbody>\n",
       "    <tr>\n",
       "      <th>0</th>\n",
       "      <td>220593</td>\n",
       "      <td>https://dadosabertos.camara.leg.br/api/v2/depu...</td>\n",
       "      <td>Abilio Brunini</td>\n",
       "      <td>PL</td>\n",
       "      <td>https://dadosabertos.camara.leg.br/api/v2/part...</td>\n",
       "      <td>MT</td>\n",
       "      <td>57</td>\n",
       "      <td>https://www.camara.leg.br/internet/deputado/ba...</td>\n",
       "      <td>dep.abiliobrunini@camara.leg.br</td>\n",
       "    </tr>\n",
       "    <tr>\n",
       "      <th>1</th>\n",
       "      <td>204379</td>\n",
       "      <td>https://dadosabertos.camara.leg.br/api/v2/depu...</td>\n",
       "      <td>Acácio Favacho</td>\n",
       "      <td>MDB</td>\n",
       "      <td>https://dadosabertos.camara.leg.br/api/v2/part...</td>\n",
       "      <td>AP</td>\n",
       "      <td>57</td>\n",
       "      <td>https://www.camara.leg.br/internet/deputado/ba...</td>\n",
       "      <td>dep.acaciofavacho@camara.leg.br</td>\n",
       "    </tr>\n",
       "    <tr>\n",
       "      <th>2</th>\n",
       "      <td>220714</td>\n",
       "      <td>https://dadosabertos.camara.leg.br/api/v2/depu...</td>\n",
       "      <td>Adail Filho</td>\n",
       "      <td>REPUBLICANOS</td>\n",
       "      <td>https://dadosabertos.camara.leg.br/api/v2/part...</td>\n",
       "      <td>AM</td>\n",
       "      <td>57</td>\n",
       "      <td>https://www.camara.leg.br/internet/deputado/ba...</td>\n",
       "      <td>dep.adailfilho@camara.leg.br</td>\n",
       "    </tr>\n",
       "    <tr>\n",
       "      <th>3</th>\n",
       "      <td>221328</td>\n",
       "      <td>https://dadosabertos.camara.leg.br/api/v2/depu...</td>\n",
       "      <td>Adilson Barroso</td>\n",
       "      <td>PL</td>\n",
       "      <td>https://dadosabertos.camara.leg.br/api/v2/part...</td>\n",
       "      <td>SP</td>\n",
       "      <td>57</td>\n",
       "      <td>https://www.camara.leg.br/internet/deputado/ba...</td>\n",
       "      <td>dep.adilsonbarroso@camara.leg.br</td>\n",
       "    </tr>\n",
       "    <tr>\n",
       "      <th>4</th>\n",
       "      <td>204560</td>\n",
       "      <td>https://dadosabertos.camara.leg.br/api/v2/depu...</td>\n",
       "      <td>Adolfo Viana</td>\n",
       "      <td>PSDB</td>\n",
       "      <td>https://dadosabertos.camara.leg.br/api/v2/part...</td>\n",
       "      <td>BA</td>\n",
       "      <td>57</td>\n",
       "      <td>https://www.camara.leg.br/internet/deputado/ba...</td>\n",
       "      <td>dep.adolfoviana@camara.leg.br</td>\n",
       "    </tr>\n",
       "  </tbody>\n",
       "</table>\n",
       "</div>"
      ],
      "text/plain": [
       "       id                                                uri             nome  \\\n",
       "0  220593  https://dadosabertos.camara.leg.br/api/v2/depu...   Abilio Brunini   \n",
       "1  204379  https://dadosabertos.camara.leg.br/api/v2/depu...   Acácio Favacho   \n",
       "2  220714  https://dadosabertos.camara.leg.br/api/v2/depu...      Adail Filho   \n",
       "3  221328  https://dadosabertos.camara.leg.br/api/v2/depu...  Adilson Barroso   \n",
       "4  204560  https://dadosabertos.camara.leg.br/api/v2/depu...     Adolfo Viana   \n",
       "\n",
       "   siglaPartido                                         uriPartido siglaUf  \\\n",
       "0            PL  https://dadosabertos.camara.leg.br/api/v2/part...      MT   \n",
       "1           MDB  https://dadosabertos.camara.leg.br/api/v2/part...      AP   \n",
       "2  REPUBLICANOS  https://dadosabertos.camara.leg.br/api/v2/part...      AM   \n",
       "3            PL  https://dadosabertos.camara.leg.br/api/v2/part...      SP   \n",
       "4          PSDB  https://dadosabertos.camara.leg.br/api/v2/part...      BA   \n",
       "\n",
       "   idLegislatura                                            urlFoto  \\\n",
       "0             57  https://www.camara.leg.br/internet/deputado/ba...   \n",
       "1             57  https://www.camara.leg.br/internet/deputado/ba...   \n",
       "2             57  https://www.camara.leg.br/internet/deputado/ba...   \n",
       "3             57  https://www.camara.leg.br/internet/deputado/ba...   \n",
       "4             57  https://www.camara.leg.br/internet/deputado/ba...   \n",
       "\n",
       "                              email  \n",
       "0   dep.abiliobrunini@camara.leg.br  \n",
       "1   dep.acaciofavacho@camara.leg.br  \n",
       "2      dep.adailfilho@camara.leg.br  \n",
       "3  dep.adilsonbarroso@camara.leg.br  \n",
       "4     dep.adolfoviana@camara.leg.br  "
      ]
     },
     "execution_count": 1,
     "metadata": {},
     "output_type": "execute_result"
    }
   ],
   "source": [
    "import requests\n",
    "import pandas as pd\n",
    "\n",
    "base_url = \"https://dadosabertos.camara.leg.br/api/v2/deputados\"\n",
    "resposta = requests.get(base_url)\n",
    "\n",
    "if resposta.status_code == 200:\n",
    "    dados = resposta.json()\n",
    "    df = pd.DataFrame(dados['dados'])\n",
    "else:\n",
    "    print(f'Erro na requisição: {resposta.status_code}')\n",
    "\n",
    "df.head(5)"
   ]
  },
  {
   "cell_type": "markdown",
   "metadata": {},
   "source": [
    "### Para cada deputado (id) obtenha a informação de sua despesa total para o ano de 2023 e acrescente uma coluna no dataframe para carregar esse dado."
   ]
  },
  {
   "cell_type": "code",
   "execution_count": 13,
   "metadata": {},
   "outputs": [
    {
     "name": "stdout",
     "output_type": "stream",
     "text": [
      "Erro ao obter despesas do deputado com id 74052\n",
      "Erro ao obter despesas do deputado com id 229069\n",
      "Erro ao obter despesas do deputado com id 229106\n",
      "Erro ao obter despesas do deputado com id 228941\n",
      "Erro ao obter despesas do deputado com id 227991\n",
      "Erro ao obter despesas do deputado com id 212625\n",
      "Erro ao obter despesas do deputado com id 228616\n",
      "Erro ao obter despesas do deputado com id 229585\n",
      "Erro ao obter despesas do deputado com id 220008\n",
      "Erro ao obter despesas do deputado com id 68720\n",
      "Erro ao obter despesas do deputado com id 229333\n",
      "Erro ao obter despesas do deputado com id 228837\n",
      "Erro ao obter despesas do deputado com id 228797\n",
      "Erro ao obter despesas do deputado com id 122195\n",
      "Erro ao obter despesas do deputado com id 229082\n",
      "Erro ao obter despesas do deputado com id 229432\n",
      "Erro ao obter despesas do deputado com id 229225\n",
      "Erro ao obter despesas do deputado com id 229939\n",
      "Erro ao obter despesas do deputado com id 227660\n",
      "Erro ao obter despesas do deputado com id 74095\n",
      "Erro ao obter despesas do deputado com id 229112\n",
      "Erro ao obter despesas do deputado com id 229259\n"
     ]
    },
    {
     "data": {
      "text/html": [
       "<div>\n",
       "<style scoped>\n",
       "    .dataframe tbody tr th:only-of-type {\n",
       "        vertical-align: middle;\n",
       "    }\n",
       "\n",
       "    .dataframe tbody tr th {\n",
       "        vertical-align: top;\n",
       "    }\n",
       "\n",
       "    .dataframe thead th {\n",
       "        text-align: right;\n",
       "    }\n",
       "</style>\n",
       "<table border=\"1\" class=\"dataframe\">\n",
       "  <thead>\n",
       "    <tr style=\"text-align: right;\">\n",
       "      <th></th>\n",
       "      <th>id</th>\n",
       "      <th>uri</th>\n",
       "      <th>nome</th>\n",
       "      <th>siglaPartido</th>\n",
       "      <th>uriPartido</th>\n",
       "      <th>siglaUf</th>\n",
       "      <th>idLegislatura</th>\n",
       "      <th>urlFoto</th>\n",
       "      <th>email</th>\n",
       "      <th>total_despesas</th>\n",
       "    </tr>\n",
       "  </thead>\n",
       "  <tbody>\n",
       "    <tr>\n",
       "      <th>0</th>\n",
       "      <td>220593</td>\n",
       "      <td>https://dadosabertos.camara.leg.br/api/v2/depu...</td>\n",
       "      <td>Abilio Brunini</td>\n",
       "      <td>PL</td>\n",
       "      <td>https://dadosabertos.camara.leg.br/api/v2/part...</td>\n",
       "      <td>MT</td>\n",
       "      <td>57</td>\n",
       "      <td>https://www.camara.leg.br/internet/deputado/ba...</td>\n",
       "      <td>dep.abiliobrunini@camara.leg.br</td>\n",
       "      <td>7221.73</td>\n",
       "    </tr>\n",
       "    <tr>\n",
       "      <th>1</th>\n",
       "      <td>204379</td>\n",
       "      <td>https://dadosabertos.camara.leg.br/api/v2/depu...</td>\n",
       "      <td>Acácio Favacho</td>\n",
       "      <td>MDB</td>\n",
       "      <td>https://dadosabertos.camara.leg.br/api/v2/part...</td>\n",
       "      <td>AP</td>\n",
       "      <td>57</td>\n",
       "      <td>https://www.camara.leg.br/internet/deputado/ba...</td>\n",
       "      <td>dep.acaciofavacho@camara.leg.br</td>\n",
       "      <td>38578.92</td>\n",
       "    </tr>\n",
       "    <tr>\n",
       "      <th>2</th>\n",
       "      <td>220714</td>\n",
       "      <td>https://dadosabertos.camara.leg.br/api/v2/depu...</td>\n",
       "      <td>Adail Filho</td>\n",
       "      <td>REPUBLICANOS</td>\n",
       "      <td>https://dadosabertos.camara.leg.br/api/v2/part...</td>\n",
       "      <td>AM</td>\n",
       "      <td>57</td>\n",
       "      <td>https://www.camara.leg.br/internet/deputado/ba...</td>\n",
       "      <td>dep.adailfilho@camara.leg.br</td>\n",
       "      <td>2770.20</td>\n",
       "    </tr>\n",
       "    <tr>\n",
       "      <th>3</th>\n",
       "      <td>221328</td>\n",
       "      <td>https://dadosabertos.camara.leg.br/api/v2/depu...</td>\n",
       "      <td>Adilson Barroso</td>\n",
       "      <td>PL</td>\n",
       "      <td>https://dadosabertos.camara.leg.br/api/v2/part...</td>\n",
       "      <td>SP</td>\n",
       "      <td>57</td>\n",
       "      <td>https://www.camara.leg.br/internet/deputado/ba...</td>\n",
       "      <td>dep.adilsonbarroso@camara.leg.br</td>\n",
       "      <td>44779.52</td>\n",
       "    </tr>\n",
       "    <tr>\n",
       "      <th>4</th>\n",
       "      <td>204560</td>\n",
       "      <td>https://dadosabertos.camara.leg.br/api/v2/depu...</td>\n",
       "      <td>Adolfo Viana</td>\n",
       "      <td>PSDB</td>\n",
       "      <td>https://dadosabertos.camara.leg.br/api/v2/part...</td>\n",
       "      <td>BA</td>\n",
       "      <td>57</td>\n",
       "      <td>https://www.camara.leg.br/internet/deputado/ba...</td>\n",
       "      <td>dep.adolfoviana@camara.leg.br</td>\n",
       "      <td>9853.06</td>\n",
       "    </tr>\n",
       "  </tbody>\n",
       "</table>\n",
       "</div>"
      ],
      "text/plain": [
       "       id                                                uri             nome  \\\n",
       "0  220593  https://dadosabertos.camara.leg.br/api/v2/depu...   Abilio Brunini   \n",
       "1  204379  https://dadosabertos.camara.leg.br/api/v2/depu...   Acácio Favacho   \n",
       "2  220714  https://dadosabertos.camara.leg.br/api/v2/depu...      Adail Filho   \n",
       "3  221328  https://dadosabertos.camara.leg.br/api/v2/depu...  Adilson Barroso   \n",
       "4  204560  https://dadosabertos.camara.leg.br/api/v2/depu...     Adolfo Viana   \n",
       "\n",
       "   siglaPartido                                         uriPartido siglaUf  \\\n",
       "0            PL  https://dadosabertos.camara.leg.br/api/v2/part...      MT   \n",
       "1           MDB  https://dadosabertos.camara.leg.br/api/v2/part...      AP   \n",
       "2  REPUBLICANOS  https://dadosabertos.camara.leg.br/api/v2/part...      AM   \n",
       "3            PL  https://dadosabertos.camara.leg.br/api/v2/part...      SP   \n",
       "4          PSDB  https://dadosabertos.camara.leg.br/api/v2/part...      BA   \n",
       "\n",
       "   idLegislatura                                            urlFoto  \\\n",
       "0             57  https://www.camara.leg.br/internet/deputado/ba...   \n",
       "1             57  https://www.camara.leg.br/internet/deputado/ba...   \n",
       "2             57  https://www.camara.leg.br/internet/deputado/ba...   \n",
       "3             57  https://www.camara.leg.br/internet/deputado/ba...   \n",
       "4             57  https://www.camara.leg.br/internet/deputado/ba...   \n",
       "\n",
       "                              email  total_despesas  \n",
       "0   dep.abiliobrunini@camara.leg.br         7221.73  \n",
       "1   dep.acaciofavacho@camara.leg.br        38578.92  \n",
       "2      dep.adailfilho@camara.leg.br         2770.20  \n",
       "3  dep.adilsonbarroso@camara.leg.br        44779.52  \n",
       "4     dep.adolfoviana@camara.leg.br         9853.06  "
      ]
     },
     "execution_count": 13,
     "metadata": {},
     "output_type": "execute_result"
    }
   ],
   "source": [
    "df_despesas = df.copy()\n",
    "df_despesas['total_despesas'] = 0\n",
    "\n",
    "for id in df['id']:\n",
    "    try:\n",
    "        url = f\"https://dadosabertos.camara.leg.br/api/v2/deputados/{id}/despesas?ano=2023\"\n",
    "        resposta = requests.get(url)\n",
    "        conteudo = resposta.json()\n",
    "        dados = pd.DataFrame(conteudo['dados'])\n",
    "        valor = float(dados['valorDocumento'].sum())\n",
    "        df_despesas.loc[df_despesas['id'] == id, 'total_despesas'] = valor\n",
    "    except:\n",
    "        print(f'Erro ao obter despesas do deputado com id {id}')\n",
    "\n",
    "df_despesas.head(5)\n",
    "    "
   ]
  },
  {
   "cell_type": "code",
   "execution_count": 15,
   "metadata": {},
   "outputs": [
    {
     "data": {
      "text/html": [
       "<div>\n",
       "<style scoped>\n",
       "    .dataframe tbody tr th:only-of-type {\n",
       "        vertical-align: middle;\n",
       "    }\n",
       "\n",
       "    .dataframe tbody tr th {\n",
       "        vertical-align: top;\n",
       "    }\n",
       "\n",
       "    .dataframe thead th {\n",
       "        text-align: right;\n",
       "    }\n",
       "</style>\n",
       "<table border=\"1\" class=\"dataframe\">\n",
       "  <thead>\n",
       "    <tr style=\"text-align: right;\">\n",
       "      <th></th>\n",
       "      <th>id</th>\n",
       "      <th>nome</th>\n",
       "      <th>siglaPartido</th>\n",
       "      <th>total_despesas</th>\n",
       "    </tr>\n",
       "  </thead>\n",
       "  <tbody>\n",
       "    <tr>\n",
       "      <th>0</th>\n",
       "      <td>220593</td>\n",
       "      <td>Abilio Brunini</td>\n",
       "      <td>PL</td>\n",
       "      <td>7221.73</td>\n",
       "    </tr>\n",
       "    <tr>\n",
       "      <th>1</th>\n",
       "      <td>204379</td>\n",
       "      <td>Acácio Favacho</td>\n",
       "      <td>MDB</td>\n",
       "      <td>38578.92</td>\n",
       "    </tr>\n",
       "    <tr>\n",
       "      <th>2</th>\n",
       "      <td>220714</td>\n",
       "      <td>Adail Filho</td>\n",
       "      <td>REPUBLICANOS</td>\n",
       "      <td>2770.20</td>\n",
       "    </tr>\n",
       "    <tr>\n",
       "      <th>3</th>\n",
       "      <td>221328</td>\n",
       "      <td>Adilson Barroso</td>\n",
       "      <td>PL</td>\n",
       "      <td>44779.52</td>\n",
       "    </tr>\n",
       "    <tr>\n",
       "      <th>4</th>\n",
       "      <td>204560</td>\n",
       "      <td>Adolfo Viana</td>\n",
       "      <td>PSDB</td>\n",
       "      <td>9853.06</td>\n",
       "    </tr>\n",
       "    <tr>\n",
       "      <th>...</th>\n",
       "      <td>...</td>\n",
       "      <td>...</td>\n",
       "      <td>...</td>\n",
       "      <td>...</td>\n",
       "    </tr>\n",
       "    <tr>\n",
       "      <th>508</th>\n",
       "      <td>220558</td>\n",
       "      <td>Zé Trovão</td>\n",
       "      <td>PL</td>\n",
       "      <td>4888.09</td>\n",
       "    </tr>\n",
       "    <tr>\n",
       "      <th>509</th>\n",
       "      <td>204517</td>\n",
       "      <td>Zé Vitor</td>\n",
       "      <td>PL</td>\n",
       "      <td>4945.53</td>\n",
       "    </tr>\n",
       "    <tr>\n",
       "      <th>510</th>\n",
       "      <td>160592</td>\n",
       "      <td>Zeca Dirceu</td>\n",
       "      <td>PT</td>\n",
       "      <td>31484.39</td>\n",
       "    </tr>\n",
       "    <tr>\n",
       "      <th>511</th>\n",
       "      <td>220592</td>\n",
       "      <td>Zezinho Barbary</td>\n",
       "      <td>PP</td>\n",
       "      <td>2593.78</td>\n",
       "    </tr>\n",
       "    <tr>\n",
       "      <th>512</th>\n",
       "      <td>220552</td>\n",
       "      <td>Zucco</td>\n",
       "      <td>PL</td>\n",
       "      <td>9065.89</td>\n",
       "    </tr>\n",
       "  </tbody>\n",
       "</table>\n",
       "<p>513 rows × 4 columns</p>\n",
       "</div>"
      ],
      "text/plain": [
       "         id             nome  siglaPartido  total_despesas\n",
       "0    220593   Abilio Brunini            PL         7221.73\n",
       "1    204379   Acácio Favacho           MDB        38578.92\n",
       "2    220714      Adail Filho  REPUBLICANOS         2770.20\n",
       "3    221328  Adilson Barroso            PL        44779.52\n",
       "4    204560     Adolfo Viana          PSDB         9853.06\n",
       "..      ...              ...           ...             ...\n",
       "508  220558        Zé Trovão            PL         4888.09\n",
       "509  204517         Zé Vitor            PL         4945.53\n",
       "510  160592      Zeca Dirceu            PT        31484.39\n",
       "511  220592  Zezinho Barbary            PP         2593.78\n",
       "512  220552            Zucco            PL         9065.89\n",
       "\n",
       "[513 rows x 4 columns]"
      ]
     },
     "execution_count": 15,
     "metadata": {},
     "output_type": "execute_result"
    }
   ],
   "source": [
    "df_resumo_despesas = df_despesas[['id','nome', 'siglaPartido', 'total_despesas']]\n",
    "df_resumo_despesas"
   ]
  },
  {
   "cell_type": "markdown",
   "metadata": {},
   "source": [
    "### Ordene o dataframe pela coluna das despesas totais de 2023 e mostre os 5 deputados que mais gastaram e os 5 que menos gastaram."
   ]
  },
  {
   "cell_type": "code",
   "execution_count": 16,
   "metadata": {},
   "outputs": [
    {
     "name": "stdout",
     "output_type": "stream",
     "text": [
      "Deputados que mais gastaram\n"
     ]
    },
    {
     "data": {
      "text/html": [
       "<div>\n",
       "<style scoped>\n",
       "    .dataframe tbody tr th:only-of-type {\n",
       "        vertical-align: middle;\n",
       "    }\n",
       "\n",
       "    .dataframe tbody tr th {\n",
       "        vertical-align: top;\n",
       "    }\n",
       "\n",
       "    .dataframe thead th {\n",
       "        text-align: right;\n",
       "    }\n",
       "</style>\n",
       "<table border=\"1\" class=\"dataframe\">\n",
       "  <thead>\n",
       "    <tr style=\"text-align: right;\">\n",
       "      <th></th>\n",
       "      <th>id</th>\n",
       "      <th>nome</th>\n",
       "      <th>siglaPartido</th>\n",
       "      <th>total_despesas</th>\n",
       "    </tr>\n",
       "  </thead>\n",
       "  <tbody>\n",
       "    <tr>\n",
       "      <th>185</th>\n",
       "      <td>74454</td>\n",
       "      <td>Eunício Oliveira</td>\n",
       "      <td>MDB</td>\n",
       "      <td>426525.79</td>\n",
       "    </tr>\n",
       "    <tr>\n",
       "      <th>215</th>\n",
       "      <td>74383</td>\n",
       "      <td>Giacobo</td>\n",
       "      <td>PL</td>\n",
       "      <td>399579.50</td>\n",
       "    </tr>\n",
       "    <tr>\n",
       "      <th>226</th>\n",
       "      <td>204419</td>\n",
       "      <td>Glaustin da Fokus</td>\n",
       "      <td>PODE</td>\n",
       "      <td>332829.10</td>\n",
       "    </tr>\n",
       "    <tr>\n",
       "      <th>472</th>\n",
       "      <td>74356</td>\n",
       "      <td>Silas Câmara</td>\n",
       "      <td>REPUBLICANOS</td>\n",
       "      <td>292286.00</td>\n",
       "    </tr>\n",
       "    <tr>\n",
       "      <th>232</th>\n",
       "      <td>204408</td>\n",
       "      <td>Gustinho Ribeiro</td>\n",
       "      <td>REPUBLICANOS</td>\n",
       "      <td>261700.00</td>\n",
       "    </tr>\n",
       "  </tbody>\n",
       "</table>\n",
       "</div>"
      ],
      "text/plain": [
       "         id               nome  siglaPartido  total_despesas\n",
       "185   74454   Eunício Oliveira           MDB       426525.79\n",
       "215   74383            Giacobo            PL       399579.50\n",
       "226  204419  Glaustin da Fokus          PODE       332829.10\n",
       "472   74356       Silas Câmara  REPUBLICANOS       292286.00\n",
       "232  204408   Gustinho Ribeiro  REPUBLICANOS       261700.00"
      ]
     },
     "execution_count": 16,
     "metadata": {},
     "output_type": "execute_result"
    }
   ],
   "source": [
    "print('Deputados que mais gastaram')\n",
    "df_resumo_despesas.sort_values(by='total_despesas', ascending=False).head(5)"
   ]
  },
  {
   "cell_type": "code",
   "execution_count": 25,
   "metadata": {},
   "outputs": [
    {
     "name": "stdout",
     "output_type": "stream",
     "text": [
      "Deputados que menos gastaram\n"
     ]
    },
    {
     "data": {
      "text/html": [
       "<div>\n",
       "<style scoped>\n",
       "    .dataframe tbody tr th:only-of-type {\n",
       "        vertical-align: middle;\n",
       "    }\n",
       "\n",
       "    .dataframe tbody tr th {\n",
       "        vertical-align: top;\n",
       "    }\n",
       "\n",
       "    .dataframe thead th {\n",
       "        text-align: right;\n",
       "    }\n",
       "</style>\n",
       "<table border=\"1\" class=\"dataframe\">\n",
       "  <thead>\n",
       "    <tr style=\"text-align: right;\">\n",
       "      <th></th>\n",
       "      <th>id</th>\n",
       "      <th>nome</th>\n",
       "      <th>siglaPartido</th>\n",
       "      <th>total_despesas</th>\n",
       "    </tr>\n",
       "  </thead>\n",
       "  <tbody>\n",
       "    <tr>\n",
       "      <th>241</th>\n",
       "      <td>178884</td>\n",
       "      <td>Hildo Rocha</td>\n",
       "      <td>MDB</td>\n",
       "      <td>376.45</td>\n",
       "    </tr>\n",
       "    <tr>\n",
       "      <th>410</th>\n",
       "      <td>220685</td>\n",
       "      <td>Paulo Litro</td>\n",
       "      <td>PSD</td>\n",
       "      <td>970.06</td>\n",
       "    </tr>\n",
       "    <tr>\n",
       "      <th>203</th>\n",
       "      <td>191923</td>\n",
       "      <td>Flávio Nogueira</td>\n",
       "      <td>PT</td>\n",
       "      <td>1542.28</td>\n",
       "    </tr>\n",
       "    <tr>\n",
       "      <th>455</th>\n",
       "      <td>160629</td>\n",
       "      <td>Romero Rodrigues</td>\n",
       "      <td>PODE</td>\n",
       "      <td>1619.61</td>\n",
       "    </tr>\n",
       "    <tr>\n",
       "      <th>403</th>\n",
       "      <td>220627</td>\n",
       "      <td>Paulinho Freire</td>\n",
       "      <td>UNIÃO</td>\n",
       "      <td>1676.77</td>\n",
       "    </tr>\n",
       "  </tbody>\n",
       "</table>\n",
       "</div>"
      ],
      "text/plain": [
       "         id              nome siglaPartido  total_despesas\n",
       "241  178884       Hildo Rocha          MDB          376.45\n",
       "410  220685       Paulo Litro          PSD          970.06\n",
       "203  191923   Flávio Nogueira           PT         1542.28\n",
       "455  160629  Romero Rodrigues         PODE         1619.61\n",
       "403  220627   Paulinho Freire        UNIÃO         1676.77"
      ]
     },
     "execution_count": 25,
     "metadata": {},
     "output_type": "execute_result"
    }
   ],
   "source": [
    "#Desconsiderei os deputados para os quais a API não retornou informações de despesas\n",
    "print('Deputados que menos gastaram')\n",
    "df_resumo_despesas[df_resumo_despesas['total_despesas'] > 0].sort_values(by='total_despesas', ascending=True).head(5)"
   ]
  },
  {
   "cell_type": "markdown",
   "metadata": {},
   "source": [
    "### Estude a API \"OpenWeatherMap\" (https://openweathermap.org/api) e utilize-a para extrair informações de seu interesse a respeito da cidade em que você mora (se você conhecer outra API equivalente, pode utilizá-la sem problemas).\n"
   ]
  },
  {
   "cell_type": "code",
   "execution_count": null,
   "metadata": {},
   "outputs": [],
   "source": []
  },
  {
   "cell_type": "markdown",
   "metadata": {},
   "source": [
    "### Estude a API \"CoinGecko\" (https://www.coingecko.com/pt/api) e utilize-a para obter o último valor do Bitcoin em dólares (se você conhecer outra API equivalente, pode utilizá-la sem problemas)."
   ]
  },
  {
   "cell_type": "code",
   "execution_count": null,
   "metadata": {},
   "outputs": [],
   "source": []
  },
  {
   "cell_type": "markdown",
   "metadata": {},
   "source": [
    "### Estude a API \"Astronomy Picture of the Day\" (APOD) da NASA (a primeira da lista em https://api.nasa.gov/), gere uma chave colocando seu gmail do Infnet e utilize no seu código para obter as informações da imagem do dia do seu aniversário de 2023."
   ]
  },
  {
   "cell_type": "code",
   "execution_count": null,
   "metadata": {},
   "outputs": [],
   "source": []
  },
  {
   "cell_type": "markdown",
   "metadata": {},
   "source": [
    "### Estude a API \"SendGrid\" (https://app.sendgrid.com/), faça login com seu gmail do Infnet para obter uma chave, instale no seu ambiente virtual com 'pip install sendgrid' e rode o código em Python sugerido no site, enviando para si mesmo um email através dele (provavelmente vai cair na caixa de spam, sem problemas)."
   ]
  },
  {
   "cell_type": "code",
   "execution_count": null,
   "metadata": {},
   "outputs": [],
   "source": []
  },
  {
   "cell_type": "markdown",
   "metadata": {},
   "source": [
    "### Utilizando a SendGrid, envie para você mesmo um email com um texto formatado contendo as informações do dia atual:\n",
    "- Temperatura na sua cidade;\n",
    "- Valor do Bitcoin; e\n",
    "- Link e descrição da imagem do dia da NASA."
   ]
  },
  {
   "cell_type": "code",
   "execution_count": null,
   "metadata": {},
   "outputs": [],
   "source": []
  }
 ],
 "metadata": {
  "kernelspec": {
   "display_name": "Python 3",
   "language": "python",
   "name": "python3"
  },
  "language_info": {
   "codemirror_mode": {
    "name": "ipython",
    "version": 3
   },
   "file_extension": ".py",
   "mimetype": "text/x-python",
   "name": "python",
   "nbconvert_exporter": "python",
   "pygments_lexer": "ipython3",
   "version": "3.11.3"
  }
 },
 "nbformat": 4,
 "nbformat_minor": 2
}
